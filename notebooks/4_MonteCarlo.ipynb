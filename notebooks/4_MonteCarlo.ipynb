{
 "cells": [
  {
   "cell_type": "code",
   "execution_count": 1,
   "source": [
    "%load_ext autoreload\n",
    "%autoreload 2\n",
    "import finoptions as fo"
   ],
   "outputs": [],
   "metadata": {}
  },
  {
   "cell_type": "code",
   "execution_count": 2,
   "source": [
    "import matplotlib.pyplot as plt"
   ],
   "outputs": [],
   "metadata": {}
  },
  {
   "cell_type": "code",
   "execution_count": 3,
   "source": [
    "import numpy as np"
   ],
   "outputs": [],
   "metadata": {}
  },
  {
   "cell_type": "code",
   "execution_count": 4,
   "source": [
    "S = 100\n",
    "K = 100\n",
    "t = 1 / 12\n",
    "sigma = 0.4\n",
    "r = 0.10\n",
    "b = 0.1\n",
    "\n",
    "path_length = 30\n",
    "mc_paths = 5000\n",
    "mc_loops = 50"
   ],
   "outputs": [],
   "metadata": {}
  },
  {
   "cell_type": "markdown",
   "source": [
    "## Full Example from Scratch"
   ],
   "metadata": {}
  },
  {
   "cell_type": "code",
   "execution_count": 5,
   "source": [
    "import finoptions as fo\n",
    "from scipy.stats import qmc, norm\n",
    "import numpy as np\n",
    "from finoptions.monte_carlo_options import Innovations, Path, Payoff\n",
    "S = 100\n",
    "K = 100\n",
    "t = 1 / 12\n",
    "sigma = 0.4\n",
    "r = 0.10\n",
    "b = 0.1\n",
    "path_length = 30\n",
    "mc_paths = 5000\n",
    "mc_loops = 50\n",
    "\n",
    "class NormalSobolInnovations(Innovations):\n",
    "    def sample_innovation(self, scramble=True):\n",
    "        sobol = qmc.Sobol(self.path_length, scramble=scramble).random(self.mc_paths)\n",
    "        if scramble == False:\n",
    "            # add new sample since if not scrambled first row is zero which leads to -inf when normalized\n",
    "            sobol = sobol[1:]\n",
    "            sobol = np.append(\n",
    "                sobol,\n",
    "                qmc.Sobol(self.path_length, scramble=scramble).fast_forward(self.mc_paths).random(1),\n",
    "                axis=0,\n",
    "            )\n",
    "        sobol = norm.ppf(sobol)\n",
    "        return sobol\n",
    "\n",
    "class WienerPath(Path):\n",
    "    def generate_path(self, **kwargs):\n",
    "        return (self.b - (self.sigma ** 2) / 2) * self.dt + self.sigma * np.sqrt(self.dt)  * self.epsilon\n",
    "\n",
    "class PlainVanillaPayoff(Payoff):\n",
    "    def call(self):\n",
    "        St = self.S * np.exp(np.sum(self.path.generate_path(), axis=1))\n",
    "        return np.exp(-self.r * self.t) * np.maximum(St - self.K, 0)\n",
    "\n",
    "    def put(self):\n",
    "        St = self.S * np.exp(np.sum(self.path.generate_path(), axis=1))\n",
    "        return np.exp(-self.r * self.t) * np.maximum(self.K - St, 0)\n",
    "\n",
    "mc = fo.monte_carlo_options.MonteCarloOption(\n",
    "        mc_loops, path_length, mc_paths,\n",
    "        S, K, t, r, b, sigma,\n",
    "        NormalSobolInnovations, WienerPath, PlainVanillaPayoff,\n",
    "        trace=False, antithetic=True, standardization=False\n",
    "    )\n"
   ],
   "outputs": [],
   "metadata": {}
  },
  {
   "cell_type": "code",
   "execution_count": 6,
   "source": [
    "mc.call().mean()\n"
   ],
   "outputs": [
    {
     "output_type": "stream",
     "name": "stderr",
     "text": [
      "/home/bcho/miniconda3/envs/main/lib/python3.9/site-packages/scipy/stats/_qmc.py:1078: UserWarning: The balance properties of Sobol' points require n to be a power of 2.\n",
      "  warnings.warn(\"The balance properties of Sobol' points require\"\n"
     ]
    },
    {
     "output_type": "execute_result",
     "data": {
      "text/plain": [
       "5.006205483595199"
      ]
     },
     "metadata": {},
     "execution_count": 6
    }
   ],
   "metadata": {}
  },
  {
   "cell_type": "code",
   "execution_count": 9,
   "source": [
    "y = mc.call()"
   ],
   "outputs": [],
   "metadata": {}
  },
  {
   "cell_type": "code",
   "execution_count": 10,
   "source": [
    "plt.plot(np.arange(y.size)+1, y.cumsum()/(np.arange(y.size)+1))"
   ],
   "outputs": [
    {
     "output_type": "execute_result",
     "data": {
      "text/plain": [
       "[<matplotlib.lines.Line2D at 0x7f653ae6a910>]"
      ]
     },
     "metadata": {},
     "execution_count": 10
    },
    {
     "output_type": "display_data",
     "data": {
      "image/png": "[encoded data removed]",
      "text/plain": [
       "<Figure size 432x288 with 1 Axes>"
      ]
     },
     "metadata": {
      "needs_background": "light"
     }
    }
   ],
   "metadata": {}
  },
  {
   "cell_type": "code",
   "execution_count": 11,
   "source": [
    "mc.put().mean()"
   ],
   "outputs": [
    {
     "output_type": "stream",
     "name": "stderr",
     "text": [
      "/home/bcho/miniconda3/envs/main/lib/python3.9/site-packages/scipy/stats/_qmc.py:1078: UserWarning: The balance properties of Sobol' points require n to be a power of 2.\n",
      "  warnings.warn(\"The balance properties of Sobol' points require\"\n"
     ]
    },
    {
     "output_type": "execute_result",
     "data": {
      "text/plain": [
       "4.1833514798494384"
      ]
     },
     "metadata": {},
     "execution_count": 11
    }
   ],
   "metadata": {}
  },
  {
   "cell_type": "markdown",
   "source": [
    "## Simplified Example Using Prebuilt Classes"
   ],
   "metadata": {}
  },
  {
   "cell_type": "code",
   "execution_count": 12,
   "source": [
    "opt = fo.GBSOption(S, K, t, r, b, sigma)"
   ],
   "outputs": [],
   "metadata": {}
  },
  {
   "cell_type": "code",
   "execution_count": 13,
   "source": [
    "inno = fo.monte_carlo_options.NormalSobolInnovations\n",
    "path = fo.monte_carlo_options.WienerPath\n",
    "payoff = fo.monte_carlo_options.PlainVanillaPayoff"
   ],
   "outputs": [],
   "metadata": {}
  },
  {
   "cell_type": "code",
   "execution_count": 14,
   "source": [
    "mc = fo.monte_carlo_options.MonteCarloOption(\n",
    "    mc_loops, path_length, mc_paths, \n",
    "    S, K, t, r, b, sigma,\n",
    "    inno, path, payoff,\n",
    "    trace=False, antithetic=True, standardization=False\n",
    ")\n"
   ],
   "outputs": [],
   "metadata": {}
  },
  {
   "cell_type": "code",
   "execution_count": 15,
   "source": [
    "\n",
    "print(\"MC: \", mc.call().mean(), \"GBS: \", opt.call())\n",
    "\n"
   ],
   "outputs": [
    {
     "output_type": "stream",
     "name": "stdout",
     "text": [
      "MC:  5.008760972257951 GBS:  5.011784286195763\n"
     ]
    }
   ],
   "metadata": {}
  },
  {
   "cell_type": "code",
   "execution_count": 16,
   "source": [
    "\n",
    "print(\"MC: \", mc.put().mean(), \"GBS: \", opt.put())\n",
    "\n"
   ],
   "outputs": [
    {
     "output_type": "stream",
     "name": "stdout",
     "text": [
      "MC:  4.1788687614474584 GBS:  4.181913550083365\n"
     ]
    }
   ],
   "metadata": {}
  },
  {
   "cell_type": "code",
   "execution_count": null,
   "source": [],
   "outputs": [],
   "metadata": {}
  }
 ],
 "metadata": {
  "orig_nbformat": 4,
  "language_info": {
   "name": "python",
   "version": "3.9.6",
   "mimetype": "text/x-python",
   "codemirror_mode": {
    "name": "ipython",
    "version": 3
   },
   "pygments_lexer": "ipython3",
   "nbconvert_exporter": "python",
   "file_extension": ".py"
  },
  "kernelspec": {
   "name": "python3",
   "display_name": "Python 3.9.6 64-bit ('main': conda)"
  },
  "interpreter": {
   "hash": "1f23843d0517fbd80931cf63cde1ba60ddd02d261472889f538e5c68e74c8896"
  }
 },
 "nbformat": 4,
 "nbformat_minor": 2
}