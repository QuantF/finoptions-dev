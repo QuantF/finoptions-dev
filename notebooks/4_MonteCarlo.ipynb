{
 "cells": [
  {
   "cell_type": "code",
   "execution_count": 1,
   "source": [
    "%load_ext autoreload\n",
    "%autoreload 2\n",
    "import energyderivatives as ed"
   ],
   "outputs": [],
   "metadata": {}
  },
  {
   "cell_type": "code",
   "execution_count": 2,
   "source": [
    "import matplotlib.pyplot as plt"
   ],
   "outputs": [],
   "metadata": {}
  },
  {
   "cell_type": "code",
   "execution_count": 3,
   "source": [
    "import numpy as np"
   ],
   "outputs": [],
   "metadata": {}
  },
  {
   "cell_type": "code",
   "execution_count": 4,
   "source": [
    "S = 100\n",
    "K = 100\n",
    "t = 1 / 12\n",
    "sigma = 0.4\n",
    "r = 0.10\n",
    "b = 0.1\n",
    "\n",
    "dt = 1 / 360\n",
    "\n",
    "path_length = 30\n",
    "mc_samples = 5000\n",
    "mc_loops = 50"
   ],
   "outputs": [],
   "metadata": {}
  },
  {
   "cell_type": "code",
   "execution_count": 5,
   "source": [
    "inno = ed.monte_carlo_options.NormalSobolInnovations\n",
    "path = ed.monte_carlo_options.WienerPath\n",
    "payoff = ed.monte_carlo_options.PlainVanillaPayoff"
   ],
   "outputs": [],
   "metadata": {}
  },
  {
   "cell_type": "code",
   "execution_count": 15,
   "source": [
    "mc = ed.monte_carlo_options.MonteCarloOption(\n",
    "    mc_loops,\n",
    "    path_length,\n",
    "    mc_samples,\n",
    "    dt,\n",
    "    S,\n",
    "    K,\n",
    "    t,\n",
    "    r,\n",
    "    b,\n",
    "    sigma,\n",
    "    inno,\n",
    "    path,\n",
    "    payoff,\n",
    "    # eps=eps,\n",
    "    trace=False,\n",
    "    antithetic=True,\n",
    "    standardization=False\n",
    ")\n"
   ],
   "outputs": [],
   "metadata": {}
  },
  {
   "cell_type": "code",
   "execution_count": 34,
   "source": [
    "mc.call()"
   ],
   "outputs": [
    {
     "output_type": "stream",
     "name": "stderr",
     "text": [
      "/home/bcho/miniconda3/envs/main/lib/python3.9/site-packages/scipy/stats/_qmc.py:1078: UserWarning: The balance properties of Sobol' points require n to be a power of 2.\n",
      "  warnings.warn(\"The balance properties of Sobol' points require\"\n"
     ]
    },
    {
     "output_type": "stream",
     "name": "stdout",
     "text": [
      "\n",
      "\n"
     ]
    },
    {
     "output_type": "execute_result",
     "data": {
      "text/plain": [
       "array([4.99378655, 4.98084417, 5.01998475, 5.01980064, 5.01667424,\n",
       "       5.02661883, 5.02971122, 5.00945124, 5.00418056, 5.00711529,\n",
       "       4.9929845 , 4.99133997, 4.99398536, 4.99460228, 4.99088578,\n",
       "       5.01279286, 4.99316601, 5.0298758 , 5.00138746, 4.98545674,\n",
       "       5.03377748, 5.03239799, 5.02813276, 5.03007415, 5.0062853 ,\n",
       "       4.98227852, 4.99798504, 4.99449782, 5.00864305, 5.0239836 ,\n",
       "       5.04616129, 5.02069839, 4.99248466, 4.97054339, 5.00301501,\n",
       "       5.01861537, 5.0269596 , 5.03049148, 5.00484745, 5.0054288 ,\n",
       "       5.02697772, 5.04870249, 5.02769661, 4.99254376, 5.03397308,\n",
       "       5.02173478, 5.02104162, 5.04959698, 5.02082948, 5.01562606])"
      ]
     },
     "metadata": {},
     "execution_count": 34
    }
   ],
   "metadata": {}
  },
  {
   "cell_type": "code",
   "execution_count": 35,
   "source": [
    "mc.put()"
   ],
   "outputs": [
    {
     "output_type": "stream",
     "name": "stderr",
     "text": [
      "/home/bcho/miniconda3/envs/main/lib/python3.9/site-packages/scipy/stats/_qmc.py:1078: UserWarning: The balance properties of Sobol' points require n to be a power of 2.\n",
      "  warnings.warn(\"The balance properties of Sobol' points require\"\n"
     ]
    },
    {
     "output_type": "stream",
     "name": "stdout",
     "text": [
      "\n",
      "\n"
     ]
    },
    {
     "output_type": "execute_result",
     "data": {
      "text/plain": [
       "array([4.16143405, 4.15059512, 4.18293501, 4.18882626, 4.167561  ,\n",
       "       4.17426059, 4.181604  , 4.20553457, 4.17944064, 4.19303112,\n",
       "       4.16726067, 4.18860452, 4.19335894, 4.19321179, 4.16299317,\n",
       "       4.17056684, 4.19578788, 4.15307073, 4.20679072, 4.1371889 ,\n",
       "       4.19080757, 4.19164989, 4.18436994, 4.16885958, 4.18381968,\n",
       "       4.16787141, 4.21723183, 4.17648198, 4.22373807, 4.1949364 ,\n",
       "       4.18610996, 4.16425411, 4.16809558, 4.1851566 , 4.17338906,\n",
       "       4.19812224, 4.18938951, 4.19214795, 4.18544419, 4.16411992,\n",
       "       4.17462162, 4.19069208, 4.19102653, 4.17666814, 4.19260901,\n",
       "       4.20374582, 4.1677814 , 4.18368977, 4.19691813, 4.15938752])"
      ]
     },
     "metadata": {},
     "execution_count": 35
    }
   ],
   "metadata": {}
  },
  {
   "cell_type": "code",
   "execution_count": null,
   "source": [],
   "outputs": [],
   "metadata": {}
  }
 ],
 "metadata": {
  "orig_nbformat": 4,
  "language_info": {
   "name": "python",
   "version": "3.9.6",
   "mimetype": "text/x-python",
   "codemirror_mode": {
    "name": "ipython",
    "version": 3
   },
   "pygments_lexer": "ipython3",
   "nbconvert_exporter": "python",
   "file_extension": ".py"
  },
  "kernelspec": {
   "name": "python3",
   "display_name": "Python 3.9.6 64-bit"
  },
  "interpreter": {
   "hash": "1f23843d0517fbd80931cf63cde1ba60ddd02d261472889f538e5c68e74c8896"
  }
 },
 "nbformat": 4,
 "nbformat_minor": 2
}