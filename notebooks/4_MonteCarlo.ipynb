{
 "cells": [
  {
   "cell_type": "code",
   "execution_count": 1,
   "source": [
    "%load_ext autoreload\n",
    "%autoreload 2\n",
    "import energyderivatives as ed"
   ],
   "outputs": [],
   "metadata": {}
  },
  {
   "cell_type": "code",
   "execution_count": 2,
   "source": [
    "import matplotlib.pyplot as plt"
   ],
   "outputs": [],
   "metadata": {}
  },
  {
   "cell_type": "code",
   "execution_count": 3,
   "source": [
    "import numpy as np"
   ],
   "outputs": [],
   "metadata": {}
  },
  {
   "cell_type": "code",
   "execution_count": 25,
   "source": [
    "S = 100\n",
    "K = 100\n",
    "t = 1 / 12\n",
    "sigma = 0.4\n",
    "r = 0.10\n",
    "b = 0.1\n",
    "\n",
    "path_length = 30\n",
    "mc_paths = 5000\n",
    "mc_loops = 50"
   ],
   "outputs": [],
   "metadata": {}
  },
  {
   "cell_type": "code",
   "execution_count": 5,
   "source": [
    "opt = ed.GBSOption(S, K, t, r, b, sigma)"
   ],
   "outputs": [],
   "metadata": {}
  },
  {
   "cell_type": "code",
   "execution_count": 29,
   "source": [],
   "outputs": [],
   "metadata": {}
  },
  {
   "cell_type": "code",
   "execution_count": null,
   "source": [
    "import energyderivatives as ed\n",
    "from scipy.stats import qmc, norm\n",
    "import numpy as np\n",
    "from energyderivatives.monte_carlo_options import Innovations, Path, Payoff\n",
    "S = 100\n",
    "K = 100\n",
    "t = 1 / 12\n",
    "sigma = 0.4\n",
    "r = 0.10\n",
    "b = 0.1\n",
    "path_length = 30\n",
    "mc_paths = 5000\n",
    "mc_loops = 50\n",
    "\n",
    "class NormalSobolInnovations(Innovations):\n",
    "    def sample_innovation(self, scramble=True):\n",
    "        sobol = qmc.Sobol(self.path_length, scramble=scramble).random(self.mc_paths)\n",
    "        if scramble == False:\n",
    "            # add new sample since if not scrambled first row is zero which leads to -inf when normalized\n",
    "            sobol = sobol[1:]\n",
    "            sobol = _np.append(\n",
    "                sobol,\n",
    "                qmc.Sobol(self.path_length, scramble=scramble).fast_forward(self.mc_paths).random(1),\n",
    "                axis=0,\n",
    "            )\n",
    "        sobol = norm.ppf(sobol)\n",
    "        return sobol\n",
    "\n",
    "class WienerPath(Path):\n",
    "    def generate_path(self, **kwargs):\n",
    "        return (self.b - (self.sigma ** 2) / 2) * self.dt + self.sigma * np.sqrt(self.dt)  * self.epsilon\n",
    "\n",
    "class PlainVanillaPayoff(Payoff):\n",
    "    def call(self):\n",
    "        St = self.S * np.exp(np.sum(self.path.generate_path(), axis=1))\n",
    "        return np.exp(-self.r * self.t) * np.maximum(St - self.K, 0)\n",
    "\n",
    "    def put(self):\n",
    "        St = self.S * np.exp(np.sum(self.path.generate_path(), axis=1))\n",
    "        return np.exp(-self.r * self.t) * np.maximum(self.K - St, 0)\n",
    "\n",
    "opt = ed.monte_carlo_options.MonteCarloOption(\n",
    "        mc_loops, path_length, mc_paths,\n",
    "        S, K, t, r, b, sigma,\n",
    "        NormalSobolInnovations, WienerPath, PlainVanillaPayoff,\n",
    "        trace=False, antithetic=True, standardization=False\n",
    "    )\n"
   ],
   "outputs": [],
   "metadata": {}
  },
  {
   "cell_type": "code",
   "execution_count": 31,
   "source": [
    "opt.call().mean()\n"
   ],
   "outputs": [
    {
     "output_type": "stream",
     "name": "stderr",
     "text": [
      "/home/bcho/miniconda3/envs/main/lib/python3.9/site-packages/scipy/stats/_qmc.py:1078: UserWarning: The balance properties of Sobol' points require n to be a power of 2.\n",
      "  warnings.warn(\"The balance properties of Sobol' points require\"\n"
     ]
    },
    {
     "output_type": "stream",
     "name": "stdout",
     "text": [
      "\n",
      "\n"
     ]
    },
    {
     "output_type": "execute_result",
     "data": {
      "text/plain": [
       "5.014476025158155"
      ]
     },
     "metadata": {},
     "execution_count": 31
    }
   ],
   "metadata": {}
  },
  {
   "cell_type": "code",
   "execution_count": 32,
   "source": [
    "opt.put().mean()"
   ],
   "outputs": [
    {
     "output_type": "stream",
     "name": "stderr",
     "text": [
      "/home/bcho/miniconda3/envs/main/lib/python3.9/site-packages/scipy/stats/_qmc.py:1078: UserWarning: The balance properties of Sobol' points require n to be a power of 2.\n",
      "  warnings.warn(\"The balance properties of Sobol' points require\"\n"
     ]
    },
    {
     "output_type": "stream",
     "name": "stdout",
     "text": [
      "\n",
      "\n"
     ]
    },
    {
     "output_type": "execute_result",
     "data": {
      "text/plain": [
       "4.1781720319254205"
      ]
     },
     "metadata": {},
     "execution_count": 32
    }
   ],
   "metadata": {}
  },
  {
   "cell_type": "code",
   "execution_count": null,
   "source": [],
   "outputs": [],
   "metadata": {}
  },
  {
   "cell_type": "code",
   "execution_count": null,
   "source": [],
   "outputs": [],
   "metadata": {}
  },
  {
   "cell_type": "code",
   "execution_count": null,
   "source": [],
   "outputs": [],
   "metadata": {}
  },
  {
   "cell_type": "code",
   "execution_count": null,
   "source": [],
   "outputs": [],
   "metadata": {}
  },
  {
   "cell_type": "code",
   "execution_count": null,
   "source": [],
   "outputs": [],
   "metadata": {}
  },
  {
   "cell_type": "code",
   "execution_count": null,
   "source": [],
   "outputs": [],
   "metadata": {}
  },
  {
   "cell_type": "code",
   "execution_count": null,
   "source": [],
   "outputs": [],
   "metadata": {}
  },
  {
   "cell_type": "code",
   "execution_count": null,
   "source": [],
   "outputs": [],
   "metadata": {}
  },
  {
   "cell_type": "code",
   "execution_count": null,
   "source": [],
   "outputs": [],
   "metadata": {}
  },
  {
   "cell_type": "code",
   "execution_count": null,
   "source": [],
   "outputs": [],
   "metadata": {}
  },
  {
   "cell_type": "code",
   "execution_count": null,
   "source": [],
   "outputs": [],
   "metadata": {}
  },
  {
   "cell_type": "code",
   "execution_count": null,
   "source": [],
   "outputs": [],
   "metadata": {}
  },
  {
   "cell_type": "code",
   "execution_count": 6,
   "source": [
    "inno = ed.monte_carlo_options.NormalSobolInnovations\n",
    "path = ed.monte_carlo_options.WienerPath\n",
    "payoff = ed.monte_carlo_options.PlainVanillaPayoff"
   ],
   "outputs": [],
   "metadata": {}
  },
  {
   "cell_type": "code",
   "execution_count": 7,
   "source": [
    "eps = inno(mc_paths, path_length).sample_innovation()"
   ],
   "outputs": [
    {
     "output_type": "stream",
     "name": "stderr",
     "text": [
      "/home/bcho/miniconda3/envs/main/lib/python3.9/site-packages/scipy/stats/_qmc.py:1078: UserWarning: The balance properties of Sobol' points require n to be a power of 2.\n",
      "  warnings.warn(\"The balance properties of Sobol' points require\"\n"
     ]
    }
   ],
   "metadata": {}
  },
  {
   "cell_type": "code",
   "execution_count": 8,
   "source": [
    "pp = path(eps, sigma, t/path_length, b)"
   ],
   "outputs": [],
   "metadata": {}
  },
  {
   "cell_type": "code",
   "execution_count": 9,
   "source": [
    "payoff(pp, S, K, t, r, b, sigma).call().shape"
   ],
   "outputs": [
    {
     "output_type": "execute_result",
     "data": {
      "text/plain": [
       "(500000,)"
      ]
     },
     "metadata": {},
     "execution_count": 9
    }
   ],
   "metadata": {}
  },
  {
   "cell_type": "code",
   "execution_count": 28,
   "source": [
    "mc = ed.monte_carlo_options.MonteCarloOption(\n",
    "    mc_loops, path_length, mc_paths, \n",
    "    S, K, t, r, b, sigma,\n",
    "    inno, path, payoff,\n",
    "    trace=False, antithetic=True, standardization=False\n",
    ")\n",
    "mc.call().mean()\n"
   ],
   "outputs": [
    {
     "output_type": "stream",
     "name": "stdout",
     "text": [
      "\n",
      "\n"
     ]
    },
    {
     "output_type": "execute_result",
     "data": {
      "text/plain": [
       "5.014077798318428"
      ]
     },
     "metadata": {},
     "execution_count": 28
    }
   ],
   "metadata": {}
  },
  {
   "cell_type": "code",
   "execution_count": 21,
   "source": [],
   "outputs": [
    {
     "output_type": "stream",
     "name": "stdout",
     "text": [
      "\n",
      "\n"
     ]
    },
    {
     "output_type": "execute_result",
     "data": {
      "text/plain": [
       "5.011468692360053"
      ]
     },
     "metadata": {},
     "execution_count": 21
    }
   ],
   "metadata": {}
  },
  {
   "cell_type": "code",
   "execution_count": 12,
   "source": [
    "opt.call()"
   ],
   "outputs": [
    {
     "output_type": "execute_result",
     "data": {
      "text/plain": [
       "5.011784286195763"
      ]
     },
     "metadata": {},
     "execution_count": 12
    }
   ],
   "metadata": {}
  },
  {
   "cell_type": "code",
   "execution_count": 13,
   "source": [
    "mc.put().mean()"
   ],
   "outputs": [
    {
     "output_type": "stream",
     "name": "stdout",
     "text": [
      "\n",
      "\n"
     ]
    },
    {
     "output_type": "execute_result",
     "data": {
      "text/plain": [
       "4.181090220120147"
      ]
     },
     "metadata": {},
     "execution_count": 13
    }
   ],
   "metadata": {}
  },
  {
   "cell_type": "code",
   "execution_count": null,
   "source": [],
   "outputs": [],
   "metadata": {}
  }
 ],
 "metadata": {
  "orig_nbformat": 4,
  "language_info": {
   "name": "python",
   "version": "3.9.6",
   "mimetype": "text/x-python",
   "codemirror_mode": {
    "name": "ipython",
    "version": 3
   },
   "pygments_lexer": "ipython3",
   "nbconvert_exporter": "python",
   "file_extension": ".py"
  },
  "kernelspec": {
   "name": "python3",
   "display_name": "Python 3.9.6 64-bit"
  },
  "interpreter": {
   "hash": "1f23843d0517fbd80931cf63cde1ba60ddd02d261472889f538e5c68e74c8896"
  }
 },
 "nbformat": 4,
 "nbformat_minor": 2
}