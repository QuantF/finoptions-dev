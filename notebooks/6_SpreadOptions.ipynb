{
 "cells": [
  {
   "cell_type": "code",
   "execution_count": 1,
   "metadata": {},
   "outputs": [],
   "source": [
    "%load_ext autoreload\n",
    "%autoreload 2\n",
    "import finoptions as fo\n",
    "import numpy as np"
   ]
  },
  {
   "cell_type": "code",
   "execution_count": 2,
   "metadata": {},
   "outputs": [],
   "source": [
    "S1 = 122\n",
    "S2 = 120\n",
    "K = 3\n",
    "r = 0.1\n",
    "b1 = 0\n",
    "b2 = 0\n",
    "n = 50\n",
    "sigma1 = 0.2\n",
    "sigma2 = 0.2\n",
    "rho = 0\n",
    "t = 0.1\n",
    "otype = \"european\""
   ]
  },
  {
   "cell_type": "code",
   "execution_count": 3,
   "metadata": {},
   "outputs": [],
   "source": [
    "opt = fo.spread_options.BionomialSpreadOption(S1=S1, S2=S2, K=K, r=r, b1=b1, b2=b2, n=n, sigma1=sigma1, sigma2=sigma2, t=t, rho=rho, otype=otype)"
   ]
  },
  {
   "cell_type": "code",
   "execution_count": 6,
   "metadata": {},
   "outputs": [
    {
     "data": {
      "text/plain": [
       "3.8069343429278812"
      ]
     },
     "execution_count": 6,
     "metadata": {},
     "output_type": "execute_result"
    }
   ],
   "source": [
    "opt.call()"
   ]
  },
  {
   "cell_type": "code",
   "execution_count": 7,
   "metadata": {},
   "outputs": [
    {
     "data": {
      "text/plain": [
       "4.796984229478172"
      ]
     },
     "execution_count": 7,
     "metadata": {},
     "output_type": "execute_result"
    }
   ],
   "source": [
    "opt.put()"
   ]
  },
  {
   "cell_type": "code",
   "execution_count": 8,
   "metadata": {},
   "outputs": [
    {
     "data": {
      "text/plain": [
       "{'S1': 0.47327879431921505, 'S2': -0.4380516648354369}"
      ]
     },
     "execution_count": 8,
     "metadata": {},
     "output_type": "execute_result"
    }
   ],
   "source": [
    "opt.delta()"
   ]
  },
  {
   "cell_type": "code",
   "execution_count": 9,
   "metadata": {},
   "outputs": [
    {
     "data": {
      "text/plain": [
       "-20.922148544244617"
      ]
     },
     "execution_count": 9,
     "metadata": {},
     "output_type": "execute_result"
    }
   ],
   "source": [
    "opt.theta()"
   ]
  },
  {
   "cell_type": "code",
   "execution_count": 10,
   "metadata": {},
   "outputs": [],
   "source": [
    "opt.vega()"
   ]
  },
  {
   "cell_type": "code",
   "execution_count": null,
   "metadata": {},
   "outputs": [
    {
     "data": {
      "text/plain": [
       "-0.3806934342921592"
      ]
     },
     "execution_count": 9,
     "metadata": {},
     "output_type": "execute_result"
    }
   ],
   "source": [
    "opt.rho()"
   ]
  },
  {
   "cell_type": "code",
   "execution_count": null,
   "metadata": {},
   "outputs": [
    {
     "data": {
      "text/plain": [
       "{'S1': 15.167062971340052, 'S2': -13.808013231934071}"
      ]
     },
     "execution_count": 10,
     "metadata": {},
     "output_type": "execute_result"
    }
   ],
   "source": [
    "opt.lamb()"
   ]
  },
  {
   "cell_type": "code",
   "execution_count": null,
   "metadata": {},
   "outputs": [
    {
     "data": {
      "text/plain": [
       "{'S1': 1.2921970811364414e-12, 'S2': 1.1853374179008844e-12}"
      ]
     },
     "execution_count": 11,
     "metadata": {},
     "output_type": "execute_result"
    }
   ],
   "source": [
    "opt.gamma()"
   ]
  },
  {
   "cell_type": "code",
   "execution_count": null,
   "metadata": {},
   "outputs": [
    {
     "data": {
      "text/plain": [
       "{'S1': 122,\n",
       " 'S2': 120,\n",
       " 'K': 3,\n",
       " 'K2': None,\n",
       " 't': 0.1,\n",
       " 'r': 0.1,\n",
       " 'b1': 0,\n",
       " 'b2': 0,\n",
       " 'sigma1': 0.2,\n",
       " 'sigma2': 0.2,\n",
       " 'rho': 0,\n",
       " 'Q1': 1,\n",
       " 'Q2': 1,\n",
       " 'option': 1,\n",
       " 'otype': 'european',\n",
       " 'n': 50}"
      ]
     },
     "execution_count": 12,
     "metadata": {},
     "output_type": "execute_result"
    }
   ],
   "source": [
    "opt.get_params()"
   ]
  },
  {
   "cell_type": "code",
   "execution_count": null,
   "metadata": {},
   "outputs": [
    {
     "name": "stdout",
     "output_type": "stream",
     "text": [
      "Title: Binomial Tree Spread Option Model Valuation\n",
      "\n",
      "Parameters:\n",
      "\n",
      "  S1 = 122\n",
      "  S2 = 120\n",
      "  K = 3\n",
      "  K2 = None\n",
      "  t = 0.1\n",
      "  r = 0.1\n",
      "  b1 = 0\n",
      "  b2 = 0\n",
      "  sigma1 = 0.2\n",
      "  sigma2 = 0.2\n",
      "  rho = 0\n",
      "  Q1 = 1\n",
      "  Q2 = 1\n",
      "  option = 1\n",
      "  otype = european\n",
      "  n = 50\n",
      "\n"
     ]
    }
   ],
   "source": [
    "opt.summary()"
   ]
  },
  {
   "cell_type": "code",
   "execution_count": null,
   "metadata": {},
   "outputs": [],
   "source": [
    "opt = fo.spread_options.BionomialMinOption(S1=S1, S2=S2, K=K, r=r, b1=b1, b2=b2, n=n, sigma1=sigma1, sigma2=sigma2, t=t, rho=rho, otype=otype)"
   ]
  },
  {
   "cell_type": "code",
   "execution_count": null,
   "metadata": {},
   "outputs": [
    {
     "data": {
      "text/plain": [
       "112.48467517218428"
      ]
     },
     "execution_count": 6,
     "metadata": {},
     "output_type": "execute_result"
    }
   ],
   "source": [
    "opt.call()"
   ]
  },
  {
   "cell_type": "code",
   "execution_count": null,
   "metadata": {},
   "outputs": [
    {
     "data": {
      "text/plain": [
       "0.0"
      ]
     },
     "execution_count": 7,
     "metadata": {},
     "output_type": "execute_result"
    }
   ],
   "source": [
    "opt.put()"
   ]
  },
  {
   "cell_type": "code",
   "execution_count": null,
   "metadata": {},
   "outputs": [
    {
     "name": "stdout",
     "output_type": "stream",
     "text": [
      "Title: Binomial Tree Minimum Spread Option Model Valuation\n",
      "\n",
      "Parameters:\n",
      "\n",
      "  S1 = 122\n",
      "  S2 = 120\n",
      "  K = 3\n",
      "  K2 = None\n",
      "  t = 0.1\n",
      "  r = 0.1\n",
      "  b1 = 0\n",
      "  b2 = 0\n",
      "  sigma1 = 0.2\n",
      "  sigma2 = 0.2\n",
      "  rho = 0\n",
      "  Q1 = 1\n",
      "  Q2 = 1\n",
      "  option = 3\n",
      "  otype = european\n",
      "  n = 50\n",
      "\n",
      "Option Price:\n",
      "\n",
      "  call-european: 112.484675\n",
      "  put-european: 0.0\n"
     ]
    }
   ],
   "source": [
    "opt.summary()"
   ]
  },
  {
   "cell_type": "code",
   "execution_count": null,
   "metadata": {},
   "outputs": [],
   "source": [
    "opt.delta()"
   ]
  },
  {
   "cell_type": "code",
   "execution_count": null,
   "metadata": {},
   "outputs": [],
   "source": []
  },
  {
   "cell_type": "code",
   "execution_count": null,
   "metadata": {},
   "outputs": [],
   "source": []
  }
 ],
 "metadata": {
  "interpreter": {
   "hash": "b7504fe8a6b99121a6de54ea8e9c9e8d2896400aee6d316cf9c29e3833edd471"
  },
  "kernelspec": {
   "display_name": "Python 3.9.7 64-bit ('main': conda)",
   "name": "python3"
  },
  "language_info": {
   "codemirror_mode": {
    "name": "ipython",
    "version": 3
   },
   "file_extension": ".py",
   "mimetype": "text/x-python",
   "name": "python",
   "nbconvert_exporter": "python",
   "pygments_lexer": "ipython3",
   "version": "3.9.7"
  },
  "orig_nbformat": 4
 },
 "nbformat": 4,
 "nbformat_minor": 2
}
