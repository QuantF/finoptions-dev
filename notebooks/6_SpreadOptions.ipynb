{
 "cells": [
  {
   "cell_type": "code",
   "execution_count": 1,
   "metadata": {},
   "outputs": [],
   "source": [
    "%load_ext autoreload\n",
    "%autoreload 2\n",
    "import finoptions as fo\n",
    "import numpy as np"
   ]
  },
  {
   "cell_type": "code",
   "execution_count": 24,
   "metadata": {},
   "outputs": [],
   "source": [
    "S1 = 122\n",
    "S2 = 120\n",
    "K = 3\n",
    "r = 0.1\n",
    "b1 = 0\n",
    "b2 = 0\n",
    "n = 100\n",
    "sigma1 = 0.2\n",
    "sigma2 = 0.2\n",
    "rho = 0\n",
    "t = 0.1\n",
    "otype = \"european\""
   ]
  },
  {
   "cell_type": "code",
   "execution_count": 25,
   "metadata": {},
   "outputs": [],
   "source": [
    "opt = fo.spread_options.BionomialSpreadOption(S1=S1, S2=S2, K=K, r=r, b1=b1, b2=b2, n=n, sigma1=sigma1, sigma2=sigma2, t=t, rho=rho, otype=otype)"
   ]
  },
  {
   "cell_type": "code",
   "execution_count": 26,
   "metadata": {},
   "outputs": [
    {
     "data": {
      "text/plain": [
       "3.8007603756020516"
      ]
     },
     "execution_count": 26,
     "metadata": {},
     "output_type": "execute_result"
    }
   ],
   "source": [
    "opt.call()"
   ]
  },
  {
   "cell_type": "code",
   "execution_count": 7,
   "metadata": {},
   "outputs": [
    {
     "name": "stdout",
     "output_type": "stream",
     "text": [
      "(12, 12)\n"
     ]
    },
    {
     "data": {
      "text/plain": [
       "6.4577460586969195"
      ]
     },
     "execution_count": 7,
     "metadata": {},
     "output_type": "execute_result"
    }
   ],
   "source": [
    "opt.put()"
   ]
  },
  {
   "cell_type": "code",
   "execution_count": null,
   "metadata": {},
   "outputs": [],
   "source": []
  },
  {
   "cell_type": "code",
   "execution_count": null,
   "metadata": {},
   "outputs": [],
   "source": []
  },
  {
   "cell_type": "code",
   "execution_count": null,
   "metadata": {},
   "outputs": [],
   "source": []
  },
  {
   "cell_type": "code",
   "execution_count": 143,
   "metadata": {},
   "outputs": [],
   "source": [
    "opt = fo.spread_options.TrinomialSpreadOption(S1=S1, S2=S2, K=K, t=t, r=r, b=b1, sigma1=sigma1, sigma2=sigma2, rho=rho, n=50)"
   ]
  },
  {
   "cell_type": "code",
   "execution_count": 144,
   "metadata": {},
   "outputs": [],
   "source": [
    "c = opt.call()"
   ]
  },
  {
   "cell_type": "code",
   "execution_count": 145,
   "metadata": {},
   "outputs": [
    {
     "data": {
      "text/plain": [
       "11.690319218861152"
      ]
     },
     "execution_count": 145,
     "metadata": {},
     "output_type": "execute_result"
    }
   ],
   "source": [
    "c"
   ]
  },
  {
   "cell_type": "code",
   "execution_count": null,
   "metadata": {},
   "outputs": [],
   "source": []
  },
  {
   "cell_type": "code",
   "execution_count": null,
   "metadata": {},
   "outputs": [],
   "source": []
  },
  {
   "cell_type": "code",
   "execution_count": null,
   "metadata": {},
   "outputs": [],
   "source": []
  },
  {
   "cell_type": "code",
   "execution_count": 50,
   "metadata": {},
   "outputs": [],
   "source": [
    "import numpy as np"
   ]
  },
  {
   "cell_type": "code",
   "execution_count": 65,
   "metadata": {},
   "outputs": [],
   "source": [
    "S = 70\n",
    "sigma = 0.2\n",
    "K = 65\n",
    "n=2\n",
    "u = np.exp(sigma * np.sqrt(1/12))\n",
    "d = 1/u"
   ]
  },
  {
   "cell_type": "code",
   "execution_count": 66,
   "metadata": {},
   "outputs": [
    {
     "data": {
      "text/plain": [
       "1.0594342369612506"
      ]
     },
     "execution_count": 66,
     "metadata": {},
     "output_type": "execute_result"
    }
   ],
   "source": [
    "u"
   ]
  },
  {
   "cell_type": "code",
   "execution_count": 67,
   "metadata": {},
   "outputs": [
    {
     "data": {
      "text/plain": [
       "array([0.89094725, 1.        , 1.1224009 ])"
      ]
     },
     "execution_count": 67,
     "metadata": {},
     "output_type": "execute_result"
    }
   ],
   "source": [
    "u ** np.arange(0, n + 1) * d ** np.arange(n, -1, -1)"
   ]
  },
  {
   "cell_type": "code",
   "execution_count": 68,
   "metadata": {},
   "outputs": [
    {
     "data": {
      "text/plain": [
       "array([0.89094725, 0.94390002, 1.        ])"
      ]
     },
     "execution_count": 68,
     "metadata": {},
     "output_type": "execute_result"
    }
   ],
   "source": [
    "d ** np.arange(n, -1, -1)"
   ]
  },
  {
   "cell_type": "code",
   "execution_count": null,
   "metadata": {},
   "outputs": [],
   "source": []
  },
  {
   "cell_type": "code",
   "execution_count": 5,
   "metadata": {},
   "outputs": [],
   "source": [
    "import matplotlib.pyplot as plt\n",
    "from mpl_toolkits.mplot3d import Axes3D\n",
    "import plotly.graph_objects as go"
   ]
  },
  {
   "cell_type": "code",
   "execution_count": 40,
   "metadata": {},
   "outputs": [],
   "source": [
    "\n",
    "def plot_nine_tree(ax, x,y,z,dt=1, dy=1, dz=1, render=\"matplotlib\"):\n",
    "    nodes = []\n",
    "    for hv in [-dz, 0, dz]:\n",
    "        for hh in [-dy, 0, dy]:\n",
    "            if render == \"matplotlib\":\n",
    "                ax.plot([x,x+dt],[y,y+hh],[z,z+hv], marker=\"o\", color='b')\n",
    "            else:\n",
    "                ax.add_trace(go.Scatter3d(x=[x,x+dt],y=[y,y+hh],z=[z,z+hv],mode='markers+lines', marker_color='blue',showlegend=False))\n",
    "                \n",
    "            nodes.append((dt,hh,hv))\n",
    "    return nodes, ax"
   ]
  },
  {
   "cell_type": "code",
   "execution_count": 45,
   "metadata": {},
   "outputs": [
    {
     "data": {
      "application/vnd.plotly.v1+json": {
       "config": {
        "plotlyServerURL": "https://plot.ly"
       },
       "data": [
        {
         "marker": {
          "color": "blue"
         },
         "mode": "markers+lines",
         "showlegend": false,
         "type": "scatter3d",
         "x": [
          0,
          3
         ],
         "y": [
          0,
          -1
         ],
         "z": [
          0,
          -1
         ]
        },
        {
         "marker": {
          "color": "blue"
         },
         "mode": "markers+lines",
         "showlegend": false,
         "type": "scatter3d",
         "x": [
          0,
          3
         ],
         "y": [
          0,
          0
         ],
         "z": [
          0,
          -1
         ]
        },
        {
         "marker": {
          "color": "blue"
         },
         "mode": "markers+lines",
         "showlegend": false,
         "type": "scatter3d",
         "x": [
          0,
          3
         ],
         "y": [
          0,
          1
         ],
         "z": [
          0,
          -1
         ]
        },
        {
         "marker": {
          "color": "blue"
         },
         "mode": "markers+lines",
         "showlegend": false,
         "type": "scatter3d",
         "x": [
          0,
          3
         ],
         "y": [
          0,
          -1
         ],
         "z": [
          0,
          0
         ]
        },
        {
         "marker": {
          "color": "blue"
         },
         "mode": "markers+lines",
         "showlegend": false,
         "type": "scatter3d",
         "x": [
          0,
          3
         ],
         "y": [
          0,
          0
         ],
         "z": [
          0,
          0
         ]
        },
        {
         "marker": {
          "color": "blue"
         },
         "mode": "markers+lines",
         "showlegend": false,
         "type": "scatter3d",
         "x": [
          0,
          3
         ],
         "y": [
          0,
          1
         ],
         "z": [
          0,
          0
         ]
        },
        {
         "marker": {
          "color": "blue"
         },
         "mode": "markers+lines",
         "showlegend": false,
         "type": "scatter3d",
         "x": [
          0,
          3
         ],
         "y": [
          0,
          -1
         ],
         "z": [
          0,
          1
         ]
        },
        {
         "marker": {
          "color": "blue"
         },
         "mode": "markers+lines",
         "showlegend": false,
         "type": "scatter3d",
         "x": [
          0,
          3
         ],
         "y": [
          0,
          0
         ],
         "z": [
          0,
          1
         ]
        },
        {
         "marker": {
          "color": "blue"
         },
         "mode": "markers+lines",
         "showlegend": false,
         "type": "scatter3d",
         "x": [
          0,
          3
         ],
         "y": [
          0,
          1
         ],
         "z": [
          0,
          1
         ]
        },
        {
         "marker": {
          "color": "blue"
         },
         "mode": "markers+lines",
         "showlegend": false,
         "type": "scatter3d",
         "x": [
          3,
          6
         ],
         "y": [
          -1,
          -2
         ],
         "z": [
          -1,
          -2
         ]
        },
        {
         "marker": {
          "color": "blue"
         },
         "mode": "markers+lines",
         "showlegend": false,
         "type": "scatter3d",
         "x": [
          3,
          6
         ],
         "y": [
          -1,
          -1
         ],
         "z": [
          -1,
          -2
         ]
        },
        {
         "marker": {
          "color": "blue"
         },
         "mode": "markers+lines",
         "showlegend": false,
         "type": "scatter3d",
         "x": [
          3,
          6
         ],
         "y": [
          -1,
          0
         ],
         "z": [
          -1,
          -2
         ]
        },
        {
         "marker": {
          "color": "blue"
         },
         "mode": "markers+lines",
         "showlegend": false,
         "type": "scatter3d",
         "x": [
          3,
          6
         ],
         "y": [
          -1,
          -2
         ],
         "z": [
          -1,
          -1
         ]
        },
        {
         "marker": {
          "color": "blue"
         },
         "mode": "markers+lines",
         "showlegend": false,
         "type": "scatter3d",
         "x": [
          3,
          6
         ],
         "y": [
          -1,
          -1
         ],
         "z": [
          -1,
          -1
         ]
        },
        {
         "marker": {
          "color": "blue"
         },
         "mode": "markers+lines",
         "showlegend": false,
         "type": "scatter3d",
         "x": [
          3,
          6
         ],
         "y": [
          -1,
          0
         ],
         "z": [
          -1,
          -1
         ]
        },
        {
         "marker": {
          "color": "blue"
         },
         "mode": "markers+lines",
         "showlegend": false,
         "type": "scatter3d",
         "x": [
          3,
          6
         ],
         "y": [
          -1,
          -2
         ],
         "z": [
          -1,
          0
         ]
        },
        {
         "marker": {
          "color": "blue"
         },
         "mode": "markers+lines",
         "showlegend": false,
         "type": "scatter3d",
         "x": [
          3,
          6
         ],
         "y": [
          -1,
          -1
         ],
         "z": [
          -1,
          0
         ]
        },
        {
         "marker": {
          "color": "blue"
         },
         "mode": "markers+lines",
         "showlegend": false,
         "type": "scatter3d",
         "x": [
          3,
          6
         ],
         "y": [
          -1,
          0
         ],
         "z": [
          -1,
          0
         ]
        },
        {
         "marker": {
          "color": "blue"
         },
         "mode": "markers+lines",
         "showlegend": false,
         "type": "scatter3d",
         "x": [
          3,
          6
         ],
         "y": [
          0,
          -1
         ],
         "z": [
          -1,
          -2
         ]
        },
        {
         "marker": {
          "color": "blue"
         },
         "mode": "markers+lines",
         "showlegend": false,
         "type": "scatter3d",
         "x": [
          3,
          6
         ],
         "y": [
          0,
          0
         ],
         "z": [
          -1,
          -2
         ]
        },
        {
         "marker": {
          "color": "blue"
         },
         "mode": "markers+lines",
         "showlegend": false,
         "type": "scatter3d",
         "x": [
          3,
          6
         ],
         "y": [
          0,
          1
         ],
         "z": [
          -1,
          -2
         ]
        },
        {
         "marker": {
          "color": "blue"
         },
         "mode": "markers+lines",
         "showlegend": false,
         "type": "scatter3d",
         "x": [
          3,
          6
         ],
         "y": [
          0,
          -1
         ],
         "z": [
          -1,
          -1
         ]
        },
        {
         "marker": {
          "color": "blue"
         },
         "mode": "markers+lines",
         "showlegend": false,
         "type": "scatter3d",
         "x": [
          3,
          6
         ],
         "y": [
          0,
          0
         ],
         "z": [
          -1,
          -1
         ]
        },
        {
         "marker": {
          "color": "blue"
         },
         "mode": "markers+lines",
         "showlegend": false,
         "type": "scatter3d",
         "x": [
          3,
          6
         ],
         "y": [
          0,
          1
         ],
         "z": [
          -1,
          -1
         ]
        },
        {
         "marker": {
          "color": "blue"
         },
         "mode": "markers+lines",
         "showlegend": false,
         "type": "scatter3d",
         "x": [
          3,
          6
         ],
         "y": [
          0,
          -1
         ],
         "z": [
          -1,
          0
         ]
        },
        {
         "marker": {
          "color": "blue"
         },
         "mode": "markers+lines",
         "showlegend": false,
         "type": "scatter3d",
         "x": [
          3,
          6
         ],
         "y": [
          0,
          0
         ],
         "z": [
          -1,
          0
         ]
        },
        {
         "marker": {
          "color": "blue"
         },
         "mode": "markers+lines",
         "showlegend": false,
         "type": "scatter3d",
         "x": [
          3,
          6
         ],
         "y": [
          0,
          1
         ],
         "z": [
          -1,
          0
         ]
        },
        {
         "marker": {
          "color": "blue"
         },
         "mode": "markers+lines",
         "showlegend": false,
         "type": "scatter3d",
         "x": [
          3,
          6
         ],
         "y": [
          1,
          0
         ],
         "z": [
          -1,
          -2
         ]
        },
        {
         "marker": {
          "color": "blue"
         },
         "mode": "markers+lines",
         "showlegend": false,
         "type": "scatter3d",
         "x": [
          3,
          6
         ],
         "y": [
          1,
          1
         ],
         "z": [
          -1,
          -2
         ]
        },
        {
         "marker": {
          "color": "blue"
         },
         "mode": "markers+lines",
         "showlegend": false,
         "type": "scatter3d",
         "x": [
          3,
          6
         ],
         "y": [
          1,
          2
         ],
         "z": [
          -1,
          -2
         ]
        },
        {
         "marker": {
          "color": "blue"
         },
         "mode": "markers+lines",
         "showlegend": false,
         "type": "scatter3d",
         "x": [
          3,
          6
         ],
         "y": [
          1,
          0
         ],
         "z": [
          -1,
          -1
         ]
        },
        {
         "marker": {
          "color": "blue"
         },
         "mode": "markers+lines",
         "showlegend": false,
         "type": "scatter3d",
         "x": [
          3,
          6
         ],
         "y": [
          1,
          1
         ],
         "z": [
          -1,
          -1
         ]
        },
        {
         "marker": {
          "color": "blue"
         },
         "mode": "markers+lines",
         "showlegend": false,
         "type": "scatter3d",
         "x": [
          3,
          6
         ],
         "y": [
          1,
          2
         ],
         "z": [
          -1,
          -1
         ]
        },
        {
         "marker": {
          "color": "blue"
         },
         "mode": "markers+lines",
         "showlegend": false,
         "type": "scatter3d",
         "x": [
          3,
          6
         ],
         "y": [
          1,
          0
         ],
         "z": [
          -1,
          0
         ]
        },
        {
         "marker": {
          "color": "blue"
         },
         "mode": "markers+lines",
         "showlegend": false,
         "type": "scatter3d",
         "x": [
          3,
          6
         ],
         "y": [
          1,
          1
         ],
         "z": [
          -1,
          0
         ]
        },
        {
         "marker": {
          "color": "blue"
         },
         "mode": "markers+lines",
         "showlegend": false,
         "type": "scatter3d",
         "x": [
          3,
          6
         ],
         "y": [
          1,
          2
         ],
         "z": [
          -1,
          0
         ]
        },
        {
         "marker": {
          "color": "blue"
         },
         "mode": "markers+lines",
         "showlegend": false,
         "type": "scatter3d",
         "x": [
          3,
          6
         ],
         "y": [
          -1,
          -2
         ],
         "z": [
          0,
          -1
         ]
        },
        {
         "marker": {
          "color": "blue"
         },
         "mode": "markers+lines",
         "showlegend": false,
         "type": "scatter3d",
         "x": [
          3,
          6
         ],
         "y": [
          -1,
          -1
         ],
         "z": [
          0,
          -1
         ]
        },
        {
         "marker": {
          "color": "blue"
         },
         "mode": "markers+lines",
         "showlegend": false,
         "type": "scatter3d",
         "x": [
          3,
          6
         ],
         "y": [
          -1,
          0
         ],
         "z": [
          0,
          -1
         ]
        },
        {
         "marker": {
          "color": "blue"
         },
         "mode": "markers+lines",
         "showlegend": false,
         "type": "scatter3d",
         "x": [
          3,
          6
         ],
         "y": [
          -1,
          -2
         ],
         "z": [
          0,
          0
         ]
        },
        {
         "marker": {
          "color": "blue"
         },
         "mode": "markers+lines",
         "showlegend": false,
         "type": "scatter3d",
         "x": [
          3,
          6
         ],
         "y": [
          -1,
          -1
         ],
         "z": [
          0,
          0
         ]
        },
        {
         "marker": {
          "color": "blue"
         },
         "mode": "markers+lines",
         "showlegend": false,
         "type": "scatter3d",
         "x": [
          3,
          6
         ],
         "y": [
          -1,
          0
         ],
         "z": [
          0,
          0
         ]
        },
        {
         "marker": {
          "color": "blue"
         },
         "mode": "markers+lines",
         "showlegend": false,
         "type": "scatter3d",
         "x": [
          3,
          6
         ],
         "y": [
          -1,
          -2
         ],
         "z": [
          0,
          1
         ]
        },
        {
         "marker": {
          "color": "blue"
         },
         "mode": "markers+lines",
         "showlegend": false,
         "type": "scatter3d",
         "x": [
          3,
          6
         ],
         "y": [
          -1,
          -1
         ],
         "z": [
          0,
          1
         ]
        },
        {
         "marker": {
          "color": "blue"
         },
         "mode": "markers+lines",
         "showlegend": false,
         "type": "scatter3d",
         "x": [
          3,
          6
         ],
         "y": [
          -1,
          0
         ],
         "z": [
          0,
          1
         ]
        },
        {
         "marker": {
          "color": "blue"
         },
         "mode": "markers+lines",
         "showlegend": false,
         "type": "scatter3d",
         "x": [
          3,
          6
         ],
         "y": [
          0,
          -1
         ],
         "z": [
          0,
          -1
         ]
        },
        {
         "marker": {
          "color": "blue"
         },
         "mode": "markers+lines",
         "showlegend": false,
         "type": "scatter3d",
         "x": [
          3,
          6
         ],
         "y": [
          0,
          0
         ],
         "z": [
          0,
          -1
         ]
        },
        {
         "marker": {
          "color": "blue"
         },
         "mode": "markers+lines",
         "showlegend": false,
         "type": "scatter3d",
         "x": [
          3,
          6
         ],
         "y": [
          0,
          1
         ],
         "z": [
          0,
          -1
         ]
        },
        {
         "marker": {
          "color": "blue"
         },
         "mode": "markers+lines",
         "showlegend": false,
         "type": "scatter3d",
         "x": [
          3,
          6
         ],
         "y": [
          0,
          -1
         ],
         "z": [
          0,
          0
         ]
        },
        {
         "marker": {
          "color": "blue"
         },
         "mode": "markers+lines",
         "showlegend": false,
         "type": "scatter3d",
         "x": [
          3,
          6
         ],
         "y": [
          0,
          0
         ],
         "z": [
          0,
          0
         ]
        },
        {
         "marker": {
          "color": "blue"
         },
         "mode": "markers+lines",
         "showlegend": false,
         "type": "scatter3d",
         "x": [
          3,
          6
         ],
         "y": [
          0,
          1
         ],
         "z": [
          0,
          0
         ]
        },
        {
         "marker": {
          "color": "blue"
         },
         "mode": "markers+lines",
         "showlegend": false,
         "type": "scatter3d",
         "x": [
          3,
          6
         ],
         "y": [
          0,
          -1
         ],
         "z": [
          0,
          1
         ]
        },
        {
         "marker": {
          "color": "blue"
         },
         "mode": "markers+lines",
         "showlegend": false,
         "type": "scatter3d",
         "x": [
          3,
          6
         ],
         "y": [
          0,
          0
         ],
         "z": [
          0,
          1
         ]
        },
        {
         "marker": {
          "color": "blue"
         },
         "mode": "markers+lines",
         "showlegend": false,
         "type": "scatter3d",
         "x": [
          3,
          6
         ],
         "y": [
          0,
          1
         ],
         "z": [
          0,
          1
         ]
        },
        {
         "marker": {
          "color": "blue"
         },
         "mode": "markers+lines",
         "showlegend": false,
         "type": "scatter3d",
         "x": [
          3,
          6
         ],
         "y": [
          1,
          0
         ],
         "z": [
          0,
          -1
         ]
        },
        {
         "marker": {
          "color": "blue"
         },
         "mode": "markers+lines",
         "showlegend": false,
         "type": "scatter3d",
         "x": [
          3,
          6
         ],
         "y": [
          1,
          1
         ],
         "z": [
          0,
          -1
         ]
        },
        {
         "marker": {
          "color": "blue"
         },
         "mode": "markers+lines",
         "showlegend": false,
         "type": "scatter3d",
         "x": [
          3,
          6
         ],
         "y": [
          1,
          2
         ],
         "z": [
          0,
          -1
         ]
        },
        {
         "marker": {
          "color": "blue"
         },
         "mode": "markers+lines",
         "showlegend": false,
         "type": "scatter3d",
         "x": [
          3,
          6
         ],
         "y": [
          1,
          0
         ],
         "z": [
          0,
          0
         ]
        },
        {
         "marker": {
          "color": "blue"
         },
         "mode": "markers+lines",
         "showlegend": false,
         "type": "scatter3d",
         "x": [
          3,
          6
         ],
         "y": [
          1,
          1
         ],
         "z": [
          0,
          0
         ]
        },
        {
         "marker": {
          "color": "blue"
         },
         "mode": "markers+lines",
         "showlegend": false,
         "type": "scatter3d",
         "x": [
          3,
          6
         ],
         "y": [
          1,
          2
         ],
         "z": [
          0,
          0
         ]
        },
        {
         "marker": {
          "color": "blue"
         },
         "mode": "markers+lines",
         "showlegend": false,
         "type": "scatter3d",
         "x": [
          3,
          6
         ],
         "y": [
          1,
          0
         ],
         "z": [
          0,
          1
         ]
        },
        {
         "marker": {
          "color": "blue"
         },
         "mode": "markers+lines",
         "showlegend": false,
         "type": "scatter3d",
         "x": [
          3,
          6
         ],
         "y": [
          1,
          1
         ],
         "z": [
          0,
          1
         ]
        },
        {
         "marker": {
          "color": "blue"
         },
         "mode": "markers+lines",
         "showlegend": false,
         "type": "scatter3d",
         "x": [
          3,
          6
         ],
         "y": [
          1,
          2
         ],
         "z": [
          0,
          1
         ]
        },
        {
         "marker": {
          "color": "blue"
         },
         "mode": "markers+lines",
         "showlegend": false,
         "type": "scatter3d",
         "x": [
          3,
          6
         ],
         "y": [
          -1,
          -2
         ],
         "z": [
          1,
          0
         ]
        },
        {
         "marker": {
          "color": "blue"
         },
         "mode": "markers+lines",
         "showlegend": false,
         "type": "scatter3d",
         "x": [
          3,
          6
         ],
         "y": [
          -1,
          -1
         ],
         "z": [
          1,
          0
         ]
        },
        {
         "marker": {
          "color": "blue"
         },
         "mode": "markers+lines",
         "showlegend": false,
         "type": "scatter3d",
         "x": [
          3,
          6
         ],
         "y": [
          -1,
          0
         ],
         "z": [
          1,
          0
         ]
        },
        {
         "marker": {
          "color": "blue"
         },
         "mode": "markers+lines",
         "showlegend": false,
         "type": "scatter3d",
         "x": [
          3,
          6
         ],
         "y": [
          -1,
          -2
         ],
         "z": [
          1,
          1
         ]
        },
        {
         "marker": {
          "color": "blue"
         },
         "mode": "markers+lines",
         "showlegend": false,
         "type": "scatter3d",
         "x": [
          3,
          6
         ],
         "y": [
          -1,
          -1
         ],
         "z": [
          1,
          1
         ]
        },
        {
         "marker": {
          "color": "blue"
         },
         "mode": "markers+lines",
         "showlegend": false,
         "type": "scatter3d",
         "x": [
          3,
          6
         ],
         "y": [
          -1,
          0
         ],
         "z": [
          1,
          1
         ]
        },
        {
         "marker": {
          "color": "blue"
         },
         "mode": "markers+lines",
         "showlegend": false,
         "type": "scatter3d",
         "x": [
          3,
          6
         ],
         "y": [
          -1,
          -2
         ],
         "z": [
          1,
          2
         ]
        },
        {
         "marker": {
          "color": "blue"
         },
         "mode": "markers+lines",
         "showlegend": false,
         "type": "scatter3d",
         "x": [
          3,
          6
         ],
         "y": [
          -1,
          -1
         ],
         "z": [
          1,
          2
         ]
        },
        {
         "marker": {
          "color": "blue"
         },
         "mode": "markers+lines",
         "showlegend": false,
         "type": "scatter3d",
         "x": [
          3,
          6
         ],
         "y": [
          -1,
          0
         ],
         "z": [
          1,
          2
         ]
        },
        {
         "marker": {
          "color": "blue"
         },
         "mode": "markers+lines",
         "showlegend": false,
         "type": "scatter3d",
         "x": [
          3,
          6
         ],
         "y": [
          0,
          -1
         ],
         "z": [
          1,
          0
         ]
        },
        {
         "marker": {
          "color": "blue"
         },
         "mode": "markers+lines",
         "showlegend": false,
         "type": "scatter3d",
         "x": [
          3,
          6
         ],
         "y": [
          0,
          0
         ],
         "z": [
          1,
          0
         ]
        },
        {
         "marker": {
          "color": "blue"
         },
         "mode": "markers+lines",
         "showlegend": false,
         "type": "scatter3d",
         "x": [
          3,
          6
         ],
         "y": [
          0,
          1
         ],
         "z": [
          1,
          0
         ]
        },
        {
         "marker": {
          "color": "blue"
         },
         "mode": "markers+lines",
         "showlegend": false,
         "type": "scatter3d",
         "x": [
          3,
          6
         ],
         "y": [
          0,
          -1
         ],
         "z": [
          1,
          1
         ]
        },
        {
         "marker": {
          "color": "blue"
         },
         "mode": "markers+lines",
         "showlegend": false,
         "type": "scatter3d",
         "x": [
          3,
          6
         ],
         "y": [
          0,
          0
         ],
         "z": [
          1,
          1
         ]
        },
        {
         "marker": {
          "color": "blue"
         },
         "mode": "markers+lines",
         "showlegend": false,
         "type": "scatter3d",
         "x": [
          3,
          6
         ],
         "y": [
          0,
          1
         ],
         "z": [
          1,
          1
         ]
        },
        {
         "marker": {
          "color": "blue"
         },
         "mode": "markers+lines",
         "showlegend": false,
         "type": "scatter3d",
         "x": [
          3,
          6
         ],
         "y": [
          0,
          -1
         ],
         "z": [
          1,
          2
         ]
        },
        {
         "marker": {
          "color": "blue"
         },
         "mode": "markers+lines",
         "showlegend": false,
         "type": "scatter3d",
         "x": [
          3,
          6
         ],
         "y": [
          0,
          0
         ],
         "z": [
          1,
          2
         ]
        },
        {
         "marker": {
          "color": "blue"
         },
         "mode": "markers+lines",
         "showlegend": false,
         "type": "scatter3d",
         "x": [
          3,
          6
         ],
         "y": [
          0,
          1
         ],
         "z": [
          1,
          2
         ]
        },
        {
         "marker": {
          "color": "blue"
         },
         "mode": "markers+lines",
         "showlegend": false,
         "type": "scatter3d",
         "x": [
          3,
          6
         ],
         "y": [
          1,
          0
         ],
         "z": [
          1,
          0
         ]
        },
        {
         "marker": {
          "color": "blue"
         },
         "mode": "markers+lines",
         "showlegend": false,
         "type": "scatter3d",
         "x": [
          3,
          6
         ],
         "y": [
          1,
          1
         ],
         "z": [
          1,
          0
         ]
        },
        {
         "marker": {
          "color": "blue"
         },
         "mode": "markers+lines",
         "showlegend": false,
         "type": "scatter3d",
         "x": [
          3,
          6
         ],
         "y": [
          1,
          2
         ],
         "z": [
          1,
          0
         ]
        },
        {
         "marker": {
          "color": "blue"
         },
         "mode": "markers+lines",
         "showlegend": false,
         "type": "scatter3d",
         "x": [
          3,
          6
         ],
         "y": [
          1,
          0
         ],
         "z": [
          1,
          1
         ]
        },
        {
         "marker": {
          "color": "blue"
         },
         "mode": "markers+lines",
         "showlegend": false,
         "type": "scatter3d",
         "x": [
          3,
          6
         ],
         "y": [
          1,
          1
         ],
         "z": [
          1,
          1
         ]
        },
        {
         "marker": {
          "color": "blue"
         },
         "mode": "markers+lines",
         "showlegend": false,
         "type": "scatter3d",
         "x": [
          3,
          6
         ],
         "y": [
          1,
          2
         ],
         "z": [
          1,
          1
         ]
        },
        {
         "marker": {
          "color": "blue"
         },
         "mode": "markers+lines",
         "showlegend": false,
         "type": "scatter3d",
         "x": [
          3,
          6
         ],
         "y": [
          1,
          0
         ],
         "z": [
          1,
          2
         ]
        },
        {
         "marker": {
          "color": "blue"
         },
         "mode": "markers+lines",
         "showlegend": false,
         "type": "scatter3d",
         "x": [
          3,
          6
         ],
         "y": [
          1,
          1
         ],
         "z": [
          1,
          2
         ]
        },
        {
         "marker": {
          "color": "blue"
         },
         "mode": "markers+lines",
         "showlegend": false,
         "type": "scatter3d",
         "x": [
          3,
          6
         ],
         "y": [
          1,
          2
         ],
         "z": [
          1,
          2
         ]
        }
       ],
       "layout": {
        "template": {
         "data": {
          "bar": [
           {
            "error_x": {
             "color": "#2a3f5f"
            },
            "error_y": {
             "color": "#2a3f5f"
            },
            "marker": {
             "line": {
              "color": "#E5ECF6",
              "width": 0.5
             },
             "pattern": {
              "fillmode": "overlay",
              "size": 10,
              "solidity": 0.2
             }
            },
            "type": "bar"
           }
          ],
          "barpolar": [
           {
            "marker": {
             "line": {
              "color": "#E5ECF6",
              "width": 0.5
             },
             "pattern": {
              "fillmode": "overlay",
              "size": 10,
              "solidity": 0.2
             }
            },
            "type": "barpolar"
           }
          ],
          "carpet": [
           {
            "aaxis": {
             "endlinecolor": "#2a3f5f",
             "gridcolor": "white",
             "linecolor": "white",
             "minorgridcolor": "white",
             "startlinecolor": "#2a3f5f"
            },
            "baxis": {
             "endlinecolor": "#2a3f5f",
             "gridcolor": "white",
             "linecolor": "white",
             "minorgridcolor": "white",
             "startlinecolor": "#2a3f5f"
            },
            "type": "carpet"
           }
          ],
          "choropleth": [
           {
            "colorbar": {
             "outlinewidth": 0,
             "ticks": ""
            },
            "type": "choropleth"
           }
          ],
          "contour": [
           {
            "colorbar": {
             "outlinewidth": 0,
             "ticks": ""
            },
            "colorscale": [
             [
              0,
              "#0d0887"
             ],
             [
              0.1111111111111111,
              "#46039f"
             ],
             [
              0.2222222222222222,
              "#7201a8"
             ],
             [
              0.3333333333333333,
              "#9c179e"
             ],
             [
              0.4444444444444444,
              "#bd3786"
             ],
             [
              0.5555555555555556,
              "#d8576b"
             ],
             [
              0.6666666666666666,
              "#ed7953"
             ],
             [
              0.7777777777777778,
              "#fb9f3a"
             ],
             [
              0.8888888888888888,
              "#fdca26"
             ],
             [
              1,
              "#f0f921"
             ]
            ],
            "type": "contour"
           }
          ],
          "contourcarpet": [
           {
            "colorbar": {
             "outlinewidth": 0,
             "ticks": ""
            },
            "type": "contourcarpet"
           }
          ],
          "heatmap": [
           {
            "colorbar": {
             "outlinewidth": 0,
             "ticks": ""
            },
            "colorscale": [
             [
              0,
              "#0d0887"
             ],
             [
              0.1111111111111111,
              "#46039f"
             ],
             [
              0.2222222222222222,
              "#7201a8"
             ],
             [
              0.3333333333333333,
              "#9c179e"
             ],
             [
              0.4444444444444444,
              "#bd3786"
             ],
             [
              0.5555555555555556,
              "#d8576b"
             ],
             [
              0.6666666666666666,
              "#ed7953"
             ],
             [
              0.7777777777777778,
              "#fb9f3a"
             ],
             [
              0.8888888888888888,
              "#fdca26"
             ],
             [
              1,
              "#f0f921"
             ]
            ],
            "type": "heatmap"
           }
          ],
          "heatmapgl": [
           {
            "colorbar": {
             "outlinewidth": 0,
             "ticks": ""
            },
            "colorscale": [
             [
              0,
              "#0d0887"
             ],
             [
              0.1111111111111111,
              "#46039f"
             ],
             [
              0.2222222222222222,
              "#7201a8"
             ],
             [
              0.3333333333333333,
              "#9c179e"
             ],
             [
              0.4444444444444444,
              "#bd3786"
             ],
             [
              0.5555555555555556,
              "#d8576b"
             ],
             [
              0.6666666666666666,
              "#ed7953"
             ],
             [
              0.7777777777777778,
              "#fb9f3a"
             ],
             [
              0.8888888888888888,
              "#fdca26"
             ],
             [
              1,
              "#f0f921"
             ]
            ],
            "type": "heatmapgl"
           }
          ],
          "histogram": [
           {
            "marker": {
             "pattern": {
              "fillmode": "overlay",
              "size": 10,
              "solidity": 0.2
             }
            },
            "type": "histogram"
           }
          ],
          "histogram2d": [
           {
            "colorbar": {
             "outlinewidth": 0,
             "ticks": ""
            },
            "colorscale": [
             [
              0,
              "#0d0887"
             ],
             [
              0.1111111111111111,
              "#46039f"
             ],
             [
              0.2222222222222222,
              "#7201a8"
             ],
             [
              0.3333333333333333,
              "#9c179e"
             ],
             [
              0.4444444444444444,
              "#bd3786"
             ],
             [
              0.5555555555555556,
              "#d8576b"
             ],
             [
              0.6666666666666666,
              "#ed7953"
             ],
             [
              0.7777777777777778,
              "#fb9f3a"
             ],
             [
              0.8888888888888888,
              "#fdca26"
             ],
             [
              1,
              "#f0f921"
             ]
            ],
            "type": "histogram2d"
           }
          ],
          "histogram2dcontour": [
           {
            "colorbar": {
             "outlinewidth": 0,
             "ticks": ""
            },
            "colorscale": [
             [
              0,
              "#0d0887"
             ],
             [
              0.1111111111111111,
              "#46039f"
             ],
             [
              0.2222222222222222,
              "#7201a8"
             ],
             [
              0.3333333333333333,
              "#9c179e"
             ],
             [
              0.4444444444444444,
              "#bd3786"
             ],
             [
              0.5555555555555556,
              "#d8576b"
             ],
             [
              0.6666666666666666,
              "#ed7953"
             ],
             [
              0.7777777777777778,
              "#fb9f3a"
             ],
             [
              0.8888888888888888,
              "#fdca26"
             ],
             [
              1,
              "#f0f921"
             ]
            ],
            "type": "histogram2dcontour"
           }
          ],
          "mesh3d": [
           {
            "colorbar": {
             "outlinewidth": 0,
             "ticks": ""
            },
            "type": "mesh3d"
           }
          ],
          "parcoords": [
           {
            "line": {
             "colorbar": {
              "outlinewidth": 0,
              "ticks": ""
             }
            },
            "type": "parcoords"
           }
          ],
          "pie": [
           {
            "automargin": true,
            "type": "pie"
           }
          ],
          "scatter": [
           {
            "marker": {
             "colorbar": {
              "outlinewidth": 0,
              "ticks": ""
             }
            },
            "type": "scatter"
           }
          ],
          "scatter3d": [
           {
            "line": {
             "colorbar": {
              "outlinewidth": 0,
              "ticks": ""
             }
            },
            "marker": {
             "colorbar": {
              "outlinewidth": 0,
              "ticks": ""
             }
            },
            "type": "scatter3d"
           }
          ],
          "scattercarpet": [
           {
            "marker": {
             "colorbar": {
              "outlinewidth": 0,
              "ticks": ""
             }
            },
            "type": "scattercarpet"
           }
          ],
          "scattergeo": [
           {
            "marker": {
             "colorbar": {
              "outlinewidth": 0,
              "ticks": ""
             }
            },
            "type": "scattergeo"
           }
          ],
          "scattergl": [
           {
            "marker": {
             "colorbar": {
              "outlinewidth": 0,
              "ticks": ""
             }
            },
            "type": "scattergl"
           }
          ],
          "scattermapbox": [
           {
            "marker": {
             "colorbar": {
              "outlinewidth": 0,
              "ticks": ""
             }
            },
            "type": "scattermapbox"
           }
          ],
          "scatterpolar": [
           {
            "marker": {
             "colorbar": {
              "outlinewidth": 0,
              "ticks": ""
             }
            },
            "type": "scatterpolar"
           }
          ],
          "scatterpolargl": [
           {
            "marker": {
             "colorbar": {
              "outlinewidth": 0,
              "ticks": ""
             }
            },
            "type": "scatterpolargl"
           }
          ],
          "scatterternary": [
           {
            "marker": {
             "colorbar": {
              "outlinewidth": 0,
              "ticks": ""
             }
            },
            "type": "scatterternary"
           }
          ],
          "surface": [
           {
            "colorbar": {
             "outlinewidth": 0,
             "ticks": ""
            },
            "colorscale": [
             [
              0,
              "#0d0887"
             ],
             [
              0.1111111111111111,
              "#46039f"
             ],
             [
              0.2222222222222222,
              "#7201a8"
             ],
             [
              0.3333333333333333,
              "#9c179e"
             ],
             [
              0.4444444444444444,
              "#bd3786"
             ],
             [
              0.5555555555555556,
              "#d8576b"
             ],
             [
              0.6666666666666666,
              "#ed7953"
             ],
             [
              0.7777777777777778,
              "#fb9f3a"
             ],
             [
              0.8888888888888888,
              "#fdca26"
             ],
             [
              1,
              "#f0f921"
             ]
            ],
            "type": "surface"
           }
          ],
          "table": [
           {
            "cells": {
             "fill": {
              "color": "#EBF0F8"
             },
             "line": {
              "color": "white"
             }
            },
            "header": {
             "fill": {
              "color": "#C8D4E3"
             },
             "line": {
              "color": "white"
             }
            },
            "type": "table"
           }
          ]
         },
         "layout": {
          "annotationdefaults": {
           "arrowcolor": "#2a3f5f",
           "arrowhead": 0,
           "arrowwidth": 1
          },
          "autotypenumbers": "strict",
          "coloraxis": {
           "colorbar": {
            "outlinewidth": 0,
            "ticks": ""
           }
          },
          "colorscale": {
           "diverging": [
            [
             0,
             "#8e0152"
            ],
            [
             0.1,
             "#c51b7d"
            ],
            [
             0.2,
             "#de77ae"
            ],
            [
             0.3,
             "#f1b6da"
            ],
            [
             0.4,
             "#fde0ef"
            ],
            [
             0.5,
             "#f7f7f7"
            ],
            [
             0.6,
             "#e6f5d0"
            ],
            [
             0.7,
             "#b8e186"
            ],
            [
             0.8,
             "#7fbc41"
            ],
            [
             0.9,
             "#4d9221"
            ],
            [
             1,
             "#276419"
            ]
           ],
           "sequential": [
            [
             0,
             "#0d0887"
            ],
            [
             0.1111111111111111,
             "#46039f"
            ],
            [
             0.2222222222222222,
             "#7201a8"
            ],
            [
             0.3333333333333333,
             "#9c179e"
            ],
            [
             0.4444444444444444,
             "#bd3786"
            ],
            [
             0.5555555555555556,
             "#d8576b"
            ],
            [
             0.6666666666666666,
             "#ed7953"
            ],
            [
             0.7777777777777778,
             "#fb9f3a"
            ],
            [
             0.8888888888888888,
             "#fdca26"
            ],
            [
             1,
             "#f0f921"
            ]
           ],
           "sequentialminus": [
            [
             0,
             "#0d0887"
            ],
            [
             0.1111111111111111,
             "#46039f"
            ],
            [
             0.2222222222222222,
             "#7201a8"
            ],
            [
             0.3333333333333333,
             "#9c179e"
            ],
            [
             0.4444444444444444,
             "#bd3786"
            ],
            [
             0.5555555555555556,
             "#d8576b"
            ],
            [
             0.6666666666666666,
             "#ed7953"
            ],
            [
             0.7777777777777778,
             "#fb9f3a"
            ],
            [
             0.8888888888888888,
             "#fdca26"
            ],
            [
             1,
             "#f0f921"
            ]
           ]
          },
          "colorway": [
           "#636efa",
           "#EF553B",
           "#00cc96",
           "#ab63fa",
           "#FFA15A",
           "#19d3f3",
           "#FF6692",
           "#B6E880",
           "#FF97FF",
           "#FECB52"
          ],
          "font": {
           "color": "#2a3f5f"
          },
          "geo": {
           "bgcolor": "white",
           "lakecolor": "white",
           "landcolor": "#E5ECF6",
           "showlakes": true,
           "showland": true,
           "subunitcolor": "white"
          },
          "hoverlabel": {
           "align": "left"
          },
          "hovermode": "closest",
          "mapbox": {
           "style": "light"
          },
          "paper_bgcolor": "white",
          "plot_bgcolor": "#E5ECF6",
          "polar": {
           "angularaxis": {
            "gridcolor": "white",
            "linecolor": "white",
            "ticks": ""
           },
           "bgcolor": "#E5ECF6",
           "radialaxis": {
            "gridcolor": "white",
            "linecolor": "white",
            "ticks": ""
           }
          },
          "scene": {
           "xaxis": {
            "backgroundcolor": "#E5ECF6",
            "gridcolor": "white",
            "gridwidth": 2,
            "linecolor": "white",
            "showbackground": true,
            "ticks": "",
            "zerolinecolor": "white"
           },
           "yaxis": {
            "backgroundcolor": "#E5ECF6",
            "gridcolor": "white",
            "gridwidth": 2,
            "linecolor": "white",
            "showbackground": true,
            "ticks": "",
            "zerolinecolor": "white"
           },
           "zaxis": {
            "backgroundcolor": "#E5ECF6",
            "gridcolor": "white",
            "gridwidth": 2,
            "linecolor": "white",
            "showbackground": true,
            "ticks": "",
            "zerolinecolor": "white"
           }
          },
          "shapedefaults": {
           "line": {
            "color": "#2a3f5f"
           }
          },
          "ternary": {
           "aaxis": {
            "gridcolor": "white",
            "linecolor": "white",
            "ticks": ""
           },
           "baxis": {
            "gridcolor": "white",
            "linecolor": "white",
            "ticks": ""
           },
           "bgcolor": "#E5ECF6",
           "caxis": {
            "gridcolor": "white",
            "linecolor": "white",
            "ticks": ""
           }
          },
          "title": {
           "x": 0.05
          },
          "xaxis": {
           "automargin": true,
           "gridcolor": "white",
           "linecolor": "white",
           "ticks": "",
           "title": {
            "standoff": 15
           },
           "zerolinecolor": "white",
           "zerolinewidth": 2
          },
          "yaxis": {
           "automargin": true,
           "gridcolor": "white",
           "linecolor": "white",
           "ticks": "",
           "title": {
            "standoff": 15
           },
           "zerolinecolor": "white",
           "zerolinewidth": 2
          }
         }
        }
       }
      },
      "text/html": [
       "<div>                            <div id=\"050a1704-f65d-477a-8eae-fba1601789fd\" class=\"plotly-graph-div\" style=\"height:525px; width:100%;\"></div>            <script type=\"text/javascript\">                require([\"plotly\"], function(Plotly) {                    window.PLOTLYENV=window.PLOTLYENV || {};                                    if (document.getElementById(\"050a1704-f65d-477a-8eae-fba1601789fd\")) {                    Plotly.newPlot(                        \"050a1704-f65d-477a-8eae-fba1601789fd\",                        [{\"marker\":{\"color\":\"blue\"},\"mode\":\"markers+lines\",\"showlegend\":false,\"type\":\"scatter3d\",\"x\":[0,3],\"y\":[0,-1],\"z\":[0,-1]},{\"marker\":{\"color\":\"blue\"},\"mode\":\"markers+lines\",\"showlegend\":false,\"type\":\"scatter3d\",\"x\":[0,3],\"y\":[0,0],\"z\":[0,-1]},{\"marker\":{\"color\":\"blue\"},\"mode\":\"markers+lines\",\"showlegend\":false,\"type\":\"scatter3d\",\"x\":[0,3],\"y\":[0,1],\"z\":[0,-1]},{\"marker\":{\"color\":\"blue\"},\"mode\":\"markers+lines\",\"showlegend\":false,\"type\":\"scatter3d\",\"x\":[0,3],\"y\":[0,-1],\"z\":[0,0]},{\"marker\":{\"color\":\"blue\"},\"mode\":\"markers+lines\",\"showlegend\":false,\"type\":\"scatter3d\",\"x\":[0,3],\"y\":[0,0],\"z\":[0,0]},{\"marker\":{\"color\":\"blue\"},\"mode\":\"markers+lines\",\"showlegend\":false,\"type\":\"scatter3d\",\"x\":[0,3],\"y\":[0,1],\"z\":[0,0]},{\"marker\":{\"color\":\"blue\"},\"mode\":\"markers+lines\",\"showlegend\":false,\"type\":\"scatter3d\",\"x\":[0,3],\"y\":[0,-1],\"z\":[0,1]},{\"marker\":{\"color\":\"blue\"},\"mode\":\"markers+lines\",\"showlegend\":false,\"type\":\"scatter3d\",\"x\":[0,3],\"y\":[0,0],\"z\":[0,1]},{\"marker\":{\"color\":\"blue\"},\"mode\":\"markers+lines\",\"showlegend\":false,\"type\":\"scatter3d\",\"x\":[0,3],\"y\":[0,1],\"z\":[0,1]},{\"marker\":{\"color\":\"blue\"},\"mode\":\"markers+lines\",\"showlegend\":false,\"type\":\"scatter3d\",\"x\":[3,6],\"y\":[-1,-2],\"z\":[-1,-2]},{\"marker\":{\"color\":\"blue\"},\"mode\":\"markers+lines\",\"showlegend\":false,\"type\":\"scatter3d\",\"x\":[3,6],\"y\":[-1,-1],\"z\":[-1,-2]},{\"marker\":{\"color\":\"blue\"},\"mode\":\"markers+lines\",\"showlegend\":false,\"type\":\"scatter3d\",\"x\":[3,6],\"y\":[-1,0],\"z\":[-1,-2]},{\"marker\":{\"color\":\"blue\"},\"mode\":\"markers+lines\",\"showlegend\":false,\"type\":\"scatter3d\",\"x\":[3,6],\"y\":[-1,-2],\"z\":[-1,-1]},{\"marker\":{\"color\":\"blue\"},\"mode\":\"markers+lines\",\"showlegend\":false,\"type\":\"scatter3d\",\"x\":[3,6],\"y\":[-1,-1],\"z\":[-1,-1]},{\"marker\":{\"color\":\"blue\"},\"mode\":\"markers+lines\",\"showlegend\":false,\"type\":\"scatter3d\",\"x\":[3,6],\"y\":[-1,0],\"z\":[-1,-1]},{\"marker\":{\"color\":\"blue\"},\"mode\":\"markers+lines\",\"showlegend\":false,\"type\":\"scatter3d\",\"x\":[3,6],\"y\":[-1,-2],\"z\":[-1,0]},{\"marker\":{\"color\":\"blue\"},\"mode\":\"markers+lines\",\"showlegend\":false,\"type\":\"scatter3d\",\"x\":[3,6],\"y\":[-1,-1],\"z\":[-1,0]},{\"marker\":{\"color\":\"blue\"},\"mode\":\"markers+lines\",\"showlegend\":false,\"type\":\"scatter3d\",\"x\":[3,6],\"y\":[-1,0],\"z\":[-1,0]},{\"marker\":{\"color\":\"blue\"},\"mode\":\"markers+lines\",\"showlegend\":false,\"type\":\"scatter3d\",\"x\":[3,6],\"y\":[0,-1],\"z\":[-1,-2]},{\"marker\":{\"color\":\"blue\"},\"mode\":\"markers+lines\",\"showlegend\":false,\"type\":\"scatter3d\",\"x\":[3,6],\"y\":[0,0],\"z\":[-1,-2]},{\"marker\":{\"color\":\"blue\"},\"mode\":\"markers+lines\",\"showlegend\":false,\"type\":\"scatter3d\",\"x\":[3,6],\"y\":[0,1],\"z\":[-1,-2]},{\"marker\":{\"color\":\"blue\"},\"mode\":\"markers+lines\",\"showlegend\":false,\"type\":\"scatter3d\",\"x\":[3,6],\"y\":[0,-1],\"z\":[-1,-1]},{\"marker\":{\"color\":\"blue\"},\"mode\":\"markers+lines\",\"showlegend\":false,\"type\":\"scatter3d\",\"x\":[3,6],\"y\":[0,0],\"z\":[-1,-1]},{\"marker\":{\"color\":\"blue\"},\"mode\":\"markers+lines\",\"showlegend\":false,\"type\":\"scatter3d\",\"x\":[3,6],\"y\":[0,1],\"z\":[-1,-1]},{\"marker\":{\"color\":\"blue\"},\"mode\":\"markers+lines\",\"showlegend\":false,\"type\":\"scatter3d\",\"x\":[3,6],\"y\":[0,-1],\"z\":[-1,0]},{\"marker\":{\"color\":\"blue\"},\"mode\":\"markers+lines\",\"showlegend\":false,\"type\":\"scatter3d\",\"x\":[3,6],\"y\":[0,0],\"z\":[-1,0]},{\"marker\":{\"color\":\"blue\"},\"mode\":\"markers+lines\",\"showlegend\":false,\"type\":\"scatter3d\",\"x\":[3,6],\"y\":[0,1],\"z\":[-1,0]},{\"marker\":{\"color\":\"blue\"},\"mode\":\"markers+lines\",\"showlegend\":false,\"type\":\"scatter3d\",\"x\":[3,6],\"y\":[1,0],\"z\":[-1,-2]},{\"marker\":{\"color\":\"blue\"},\"mode\":\"markers+lines\",\"showlegend\":false,\"type\":\"scatter3d\",\"x\":[3,6],\"y\":[1,1],\"z\":[-1,-2]},{\"marker\":{\"color\":\"blue\"},\"mode\":\"markers+lines\",\"showlegend\":false,\"type\":\"scatter3d\",\"x\":[3,6],\"y\":[1,2],\"z\":[-1,-2]},{\"marker\":{\"color\":\"blue\"},\"mode\":\"markers+lines\",\"showlegend\":false,\"type\":\"scatter3d\",\"x\":[3,6],\"y\":[1,0],\"z\":[-1,-1]},{\"marker\":{\"color\":\"blue\"},\"mode\":\"markers+lines\",\"showlegend\":false,\"type\":\"scatter3d\",\"x\":[3,6],\"y\":[1,1],\"z\":[-1,-1]},{\"marker\":{\"color\":\"blue\"},\"mode\":\"markers+lines\",\"showlegend\":false,\"type\":\"scatter3d\",\"x\":[3,6],\"y\":[1,2],\"z\":[-1,-1]},{\"marker\":{\"color\":\"blue\"},\"mode\":\"markers+lines\",\"showlegend\":false,\"type\":\"scatter3d\",\"x\":[3,6],\"y\":[1,0],\"z\":[-1,0]},{\"marker\":{\"color\":\"blue\"},\"mode\":\"markers+lines\",\"showlegend\":false,\"type\":\"scatter3d\",\"x\":[3,6],\"y\":[1,1],\"z\":[-1,0]},{\"marker\":{\"color\":\"blue\"},\"mode\":\"markers+lines\",\"showlegend\":false,\"type\":\"scatter3d\",\"x\":[3,6],\"y\":[1,2],\"z\":[-1,0]},{\"marker\":{\"color\":\"blue\"},\"mode\":\"markers+lines\",\"showlegend\":false,\"type\":\"scatter3d\",\"x\":[3,6],\"y\":[-1,-2],\"z\":[0,-1]},{\"marker\":{\"color\":\"blue\"},\"mode\":\"markers+lines\",\"showlegend\":false,\"type\":\"scatter3d\",\"x\":[3,6],\"y\":[-1,-1],\"z\":[0,-1]},{\"marker\":{\"color\":\"blue\"},\"mode\":\"markers+lines\",\"showlegend\":false,\"type\":\"scatter3d\",\"x\":[3,6],\"y\":[-1,0],\"z\":[0,-1]},{\"marker\":{\"color\":\"blue\"},\"mode\":\"markers+lines\",\"showlegend\":false,\"type\":\"scatter3d\",\"x\":[3,6],\"y\":[-1,-2],\"z\":[0,0]},{\"marker\":{\"color\":\"blue\"},\"mode\":\"markers+lines\",\"showlegend\":false,\"type\":\"scatter3d\",\"x\":[3,6],\"y\":[-1,-1],\"z\":[0,0]},{\"marker\":{\"color\":\"blue\"},\"mode\":\"markers+lines\",\"showlegend\":false,\"type\":\"scatter3d\",\"x\":[3,6],\"y\":[-1,0],\"z\":[0,0]},{\"marker\":{\"color\":\"blue\"},\"mode\":\"markers+lines\",\"showlegend\":false,\"type\":\"scatter3d\",\"x\":[3,6],\"y\":[-1,-2],\"z\":[0,1]},{\"marker\":{\"color\":\"blue\"},\"mode\":\"markers+lines\",\"showlegend\":false,\"type\":\"scatter3d\",\"x\":[3,6],\"y\":[-1,-1],\"z\":[0,1]},{\"marker\":{\"color\":\"blue\"},\"mode\":\"markers+lines\",\"showlegend\":false,\"type\":\"scatter3d\",\"x\":[3,6],\"y\":[-1,0],\"z\":[0,1]},{\"marker\":{\"color\":\"blue\"},\"mode\":\"markers+lines\",\"showlegend\":false,\"type\":\"scatter3d\",\"x\":[3,6],\"y\":[0,-1],\"z\":[0,-1]},{\"marker\":{\"color\":\"blue\"},\"mode\":\"markers+lines\",\"showlegend\":false,\"type\":\"scatter3d\",\"x\":[3,6],\"y\":[0,0],\"z\":[0,-1]},{\"marker\":{\"color\":\"blue\"},\"mode\":\"markers+lines\",\"showlegend\":false,\"type\":\"scatter3d\",\"x\":[3,6],\"y\":[0,1],\"z\":[0,-1]},{\"marker\":{\"color\":\"blue\"},\"mode\":\"markers+lines\",\"showlegend\":false,\"type\":\"scatter3d\",\"x\":[3,6],\"y\":[0,-1],\"z\":[0,0]},{\"marker\":{\"color\":\"blue\"},\"mode\":\"markers+lines\",\"showlegend\":false,\"type\":\"scatter3d\",\"x\":[3,6],\"y\":[0,0],\"z\":[0,0]},{\"marker\":{\"color\":\"blue\"},\"mode\":\"markers+lines\",\"showlegend\":false,\"type\":\"scatter3d\",\"x\":[3,6],\"y\":[0,1],\"z\":[0,0]},{\"marker\":{\"color\":\"blue\"},\"mode\":\"markers+lines\",\"showlegend\":false,\"type\":\"scatter3d\",\"x\":[3,6],\"y\":[0,-1],\"z\":[0,1]},{\"marker\":{\"color\":\"blue\"},\"mode\":\"markers+lines\",\"showlegend\":false,\"type\":\"scatter3d\",\"x\":[3,6],\"y\":[0,0],\"z\":[0,1]},{\"marker\":{\"color\":\"blue\"},\"mode\":\"markers+lines\",\"showlegend\":false,\"type\":\"scatter3d\",\"x\":[3,6],\"y\":[0,1],\"z\":[0,1]},{\"marker\":{\"color\":\"blue\"},\"mode\":\"markers+lines\",\"showlegend\":false,\"type\":\"scatter3d\",\"x\":[3,6],\"y\":[1,0],\"z\":[0,-1]},{\"marker\":{\"color\":\"blue\"},\"mode\":\"markers+lines\",\"showlegend\":false,\"type\":\"scatter3d\",\"x\":[3,6],\"y\":[1,1],\"z\":[0,-1]},{\"marker\":{\"color\":\"blue\"},\"mode\":\"markers+lines\",\"showlegend\":false,\"type\":\"scatter3d\",\"x\":[3,6],\"y\":[1,2],\"z\":[0,-1]},{\"marker\":{\"color\":\"blue\"},\"mode\":\"markers+lines\",\"showlegend\":false,\"type\":\"scatter3d\",\"x\":[3,6],\"y\":[1,0],\"z\":[0,0]},{\"marker\":{\"color\":\"blue\"},\"mode\":\"markers+lines\",\"showlegend\":false,\"type\":\"scatter3d\",\"x\":[3,6],\"y\":[1,1],\"z\":[0,0]},{\"marker\":{\"color\":\"blue\"},\"mode\":\"markers+lines\",\"showlegend\":false,\"type\":\"scatter3d\",\"x\":[3,6],\"y\":[1,2],\"z\":[0,0]},{\"marker\":{\"color\":\"blue\"},\"mode\":\"markers+lines\",\"showlegend\":false,\"type\":\"scatter3d\",\"x\":[3,6],\"y\":[1,0],\"z\":[0,1]},{\"marker\":{\"color\":\"blue\"},\"mode\":\"markers+lines\",\"showlegend\":false,\"type\":\"scatter3d\",\"x\":[3,6],\"y\":[1,1],\"z\":[0,1]},{\"marker\":{\"color\":\"blue\"},\"mode\":\"markers+lines\",\"showlegend\":false,\"type\":\"scatter3d\",\"x\":[3,6],\"y\":[1,2],\"z\":[0,1]},{\"marker\":{\"color\":\"blue\"},\"mode\":\"markers+lines\",\"showlegend\":false,\"type\":\"scatter3d\",\"x\":[3,6],\"y\":[-1,-2],\"z\":[1,0]},{\"marker\":{\"color\":\"blue\"},\"mode\":\"markers+lines\",\"showlegend\":false,\"type\":\"scatter3d\",\"x\":[3,6],\"y\":[-1,-1],\"z\":[1,0]},{\"marker\":{\"color\":\"blue\"},\"mode\":\"markers+lines\",\"showlegend\":false,\"type\":\"scatter3d\",\"x\":[3,6],\"y\":[-1,0],\"z\":[1,0]},{\"marker\":{\"color\":\"blue\"},\"mode\":\"markers+lines\",\"showlegend\":false,\"type\":\"scatter3d\",\"x\":[3,6],\"y\":[-1,-2],\"z\":[1,1]},{\"marker\":{\"color\":\"blue\"},\"mode\":\"markers+lines\",\"showlegend\":false,\"type\":\"scatter3d\",\"x\":[3,6],\"y\":[-1,-1],\"z\":[1,1]},{\"marker\":{\"color\":\"blue\"},\"mode\":\"markers+lines\",\"showlegend\":false,\"type\":\"scatter3d\",\"x\":[3,6],\"y\":[-1,0],\"z\":[1,1]},{\"marker\":{\"color\":\"blue\"},\"mode\":\"markers+lines\",\"showlegend\":false,\"type\":\"scatter3d\",\"x\":[3,6],\"y\":[-1,-2],\"z\":[1,2]},{\"marker\":{\"color\":\"blue\"},\"mode\":\"markers+lines\",\"showlegend\":false,\"type\":\"scatter3d\",\"x\":[3,6],\"y\":[-1,-1],\"z\":[1,2]},{\"marker\":{\"color\":\"blue\"},\"mode\":\"markers+lines\",\"showlegend\":false,\"type\":\"scatter3d\",\"x\":[3,6],\"y\":[-1,0],\"z\":[1,2]},{\"marker\":{\"color\":\"blue\"},\"mode\":\"markers+lines\",\"showlegend\":false,\"type\":\"scatter3d\",\"x\":[3,6],\"y\":[0,-1],\"z\":[1,0]},{\"marker\":{\"color\":\"blue\"},\"mode\":\"markers+lines\",\"showlegend\":false,\"type\":\"scatter3d\",\"x\":[3,6],\"y\":[0,0],\"z\":[1,0]},{\"marker\":{\"color\":\"blue\"},\"mode\":\"markers+lines\",\"showlegend\":false,\"type\":\"scatter3d\",\"x\":[3,6],\"y\":[0,1],\"z\":[1,0]},{\"marker\":{\"color\":\"blue\"},\"mode\":\"markers+lines\",\"showlegend\":false,\"type\":\"scatter3d\",\"x\":[3,6],\"y\":[0,-1],\"z\":[1,1]},{\"marker\":{\"color\":\"blue\"},\"mode\":\"markers+lines\",\"showlegend\":false,\"type\":\"scatter3d\",\"x\":[3,6],\"y\":[0,0],\"z\":[1,1]},{\"marker\":{\"color\":\"blue\"},\"mode\":\"markers+lines\",\"showlegend\":false,\"type\":\"scatter3d\",\"x\":[3,6],\"y\":[0,1],\"z\":[1,1]},{\"marker\":{\"color\":\"blue\"},\"mode\":\"markers+lines\",\"showlegend\":false,\"type\":\"scatter3d\",\"x\":[3,6],\"y\":[0,-1],\"z\":[1,2]},{\"marker\":{\"color\":\"blue\"},\"mode\":\"markers+lines\",\"showlegend\":false,\"type\":\"scatter3d\",\"x\":[3,6],\"y\":[0,0],\"z\":[1,2]},{\"marker\":{\"color\":\"blue\"},\"mode\":\"markers+lines\",\"showlegend\":false,\"type\":\"scatter3d\",\"x\":[3,6],\"y\":[0,1],\"z\":[1,2]},{\"marker\":{\"color\":\"blue\"},\"mode\":\"markers+lines\",\"showlegend\":false,\"type\":\"scatter3d\",\"x\":[3,6],\"y\":[1,0],\"z\":[1,0]},{\"marker\":{\"color\":\"blue\"},\"mode\":\"markers+lines\",\"showlegend\":false,\"type\":\"scatter3d\",\"x\":[3,6],\"y\":[1,1],\"z\":[1,0]},{\"marker\":{\"color\":\"blue\"},\"mode\":\"markers+lines\",\"showlegend\":false,\"type\":\"scatter3d\",\"x\":[3,6],\"y\":[1,2],\"z\":[1,0]},{\"marker\":{\"color\":\"blue\"},\"mode\":\"markers+lines\",\"showlegend\":false,\"type\":\"scatter3d\",\"x\":[3,6],\"y\":[1,0],\"z\":[1,1]},{\"marker\":{\"color\":\"blue\"},\"mode\":\"markers+lines\",\"showlegend\":false,\"type\":\"scatter3d\",\"x\":[3,6],\"y\":[1,1],\"z\":[1,1]},{\"marker\":{\"color\":\"blue\"},\"mode\":\"markers+lines\",\"showlegend\":false,\"type\":\"scatter3d\",\"x\":[3,6],\"y\":[1,2],\"z\":[1,1]},{\"marker\":{\"color\":\"blue\"},\"mode\":\"markers+lines\",\"showlegend\":false,\"type\":\"scatter3d\",\"x\":[3,6],\"y\":[1,0],\"z\":[1,2]},{\"marker\":{\"color\":\"blue\"},\"mode\":\"markers+lines\",\"showlegend\":false,\"type\":\"scatter3d\",\"x\":[3,6],\"y\":[1,1],\"z\":[1,2]},{\"marker\":{\"color\":\"blue\"},\"mode\":\"markers+lines\",\"showlegend\":false,\"type\":\"scatter3d\",\"x\":[3,6],\"y\":[1,2],\"z\":[1,2]}],                        {\"template\":{\"data\":{\"bar\":[{\"error_x\":{\"color\":\"#2a3f5f\"},\"error_y\":{\"color\":\"#2a3f5f\"},\"marker\":{\"line\":{\"color\":\"#E5ECF6\",\"width\":0.5},\"pattern\":{\"fillmode\":\"overlay\",\"size\":10,\"solidity\":0.2}},\"type\":\"bar\"}],\"barpolar\":[{\"marker\":{\"line\":{\"color\":\"#E5ECF6\",\"width\":0.5},\"pattern\":{\"fillmode\":\"overlay\",\"size\":10,\"solidity\":0.2}},\"type\":\"barpolar\"}],\"carpet\":[{\"aaxis\":{\"endlinecolor\":\"#2a3f5f\",\"gridcolor\":\"white\",\"linecolor\":\"white\",\"minorgridcolor\":\"white\",\"startlinecolor\":\"#2a3f5f\"},\"baxis\":{\"endlinecolor\":\"#2a3f5f\",\"gridcolor\":\"white\",\"linecolor\":\"white\",\"minorgridcolor\":\"white\",\"startlinecolor\":\"#2a3f5f\"},\"type\":\"carpet\"}],\"choropleth\":[{\"colorbar\":{\"outlinewidth\":0,\"ticks\":\"\"},\"type\":\"choropleth\"}],\"contour\":[{\"colorbar\":{\"outlinewidth\":0,\"ticks\":\"\"},\"colorscale\":[[0.0,\"#0d0887\"],[0.1111111111111111,\"#46039f\"],[0.2222222222222222,\"#7201a8\"],[0.3333333333333333,\"#9c179e\"],[0.4444444444444444,\"#bd3786\"],[0.5555555555555556,\"#d8576b\"],[0.6666666666666666,\"#ed7953\"],[0.7777777777777778,\"#fb9f3a\"],[0.8888888888888888,\"#fdca26\"],[1.0,\"#f0f921\"]],\"type\":\"contour\"}],\"contourcarpet\":[{\"colorbar\":{\"outlinewidth\":0,\"ticks\":\"\"},\"type\":\"contourcarpet\"}],\"heatmap\":[{\"colorbar\":{\"outlinewidth\":0,\"ticks\":\"\"},\"colorscale\":[[0.0,\"#0d0887\"],[0.1111111111111111,\"#46039f\"],[0.2222222222222222,\"#7201a8\"],[0.3333333333333333,\"#9c179e\"],[0.4444444444444444,\"#bd3786\"],[0.5555555555555556,\"#d8576b\"],[0.6666666666666666,\"#ed7953\"],[0.7777777777777778,\"#fb9f3a\"],[0.8888888888888888,\"#fdca26\"],[1.0,\"#f0f921\"]],\"type\":\"heatmap\"}],\"heatmapgl\":[{\"colorbar\":{\"outlinewidth\":0,\"ticks\":\"\"},\"colorscale\":[[0.0,\"#0d0887\"],[0.1111111111111111,\"#46039f\"],[0.2222222222222222,\"#7201a8\"],[0.3333333333333333,\"#9c179e\"],[0.4444444444444444,\"#bd3786\"],[0.5555555555555556,\"#d8576b\"],[0.6666666666666666,\"#ed7953\"],[0.7777777777777778,\"#fb9f3a\"],[0.8888888888888888,\"#fdca26\"],[1.0,\"#f0f921\"]],\"type\":\"heatmapgl\"}],\"histogram\":[{\"marker\":{\"pattern\":{\"fillmode\":\"overlay\",\"size\":10,\"solidity\":0.2}},\"type\":\"histogram\"}],\"histogram2d\":[{\"colorbar\":{\"outlinewidth\":0,\"ticks\":\"\"},\"colorscale\":[[0.0,\"#0d0887\"],[0.1111111111111111,\"#46039f\"],[0.2222222222222222,\"#7201a8\"],[0.3333333333333333,\"#9c179e\"],[0.4444444444444444,\"#bd3786\"],[0.5555555555555556,\"#d8576b\"],[0.6666666666666666,\"#ed7953\"],[0.7777777777777778,\"#fb9f3a\"],[0.8888888888888888,\"#fdca26\"],[1.0,\"#f0f921\"]],\"type\":\"histogram2d\"}],\"histogram2dcontour\":[{\"colorbar\":{\"outlinewidth\":0,\"ticks\":\"\"},\"colorscale\":[[0.0,\"#0d0887\"],[0.1111111111111111,\"#46039f\"],[0.2222222222222222,\"#7201a8\"],[0.3333333333333333,\"#9c179e\"],[0.4444444444444444,\"#bd3786\"],[0.5555555555555556,\"#d8576b\"],[0.6666666666666666,\"#ed7953\"],[0.7777777777777778,\"#fb9f3a\"],[0.8888888888888888,\"#fdca26\"],[1.0,\"#f0f921\"]],\"type\":\"histogram2dcontour\"}],\"mesh3d\":[{\"colorbar\":{\"outlinewidth\":0,\"ticks\":\"\"},\"type\":\"mesh3d\"}],\"parcoords\":[{\"line\":{\"colorbar\":{\"outlinewidth\":0,\"ticks\":\"\"}},\"type\":\"parcoords\"}],\"pie\":[{\"automargin\":true,\"type\":\"pie\"}],\"scatter\":[{\"marker\":{\"colorbar\":{\"outlinewidth\":0,\"ticks\":\"\"}},\"type\":\"scatter\"}],\"scatter3d\":[{\"line\":{\"colorbar\":{\"outlinewidth\":0,\"ticks\":\"\"}},\"marker\":{\"colorbar\":{\"outlinewidth\":0,\"ticks\":\"\"}},\"type\":\"scatter3d\"}],\"scattercarpet\":[{\"marker\":{\"colorbar\":{\"outlinewidth\":0,\"ticks\":\"\"}},\"type\":\"scattercarpet\"}],\"scattergeo\":[{\"marker\":{\"colorbar\":{\"outlinewidth\":0,\"ticks\":\"\"}},\"type\":\"scattergeo\"}],\"scattergl\":[{\"marker\":{\"colorbar\":{\"outlinewidth\":0,\"ticks\":\"\"}},\"type\":\"scattergl\"}],\"scattermapbox\":[{\"marker\":{\"colorbar\":{\"outlinewidth\":0,\"ticks\":\"\"}},\"type\":\"scattermapbox\"}],\"scatterpolar\":[{\"marker\":{\"colorbar\":{\"outlinewidth\":0,\"ticks\":\"\"}},\"type\":\"scatterpolar\"}],\"scatterpolargl\":[{\"marker\":{\"colorbar\":{\"outlinewidth\":0,\"ticks\":\"\"}},\"type\":\"scatterpolargl\"}],\"scatterternary\":[{\"marker\":{\"colorbar\":{\"outlinewidth\":0,\"ticks\":\"\"}},\"type\":\"scatterternary\"}],\"surface\":[{\"colorbar\":{\"outlinewidth\":0,\"ticks\":\"\"},\"colorscale\":[[0.0,\"#0d0887\"],[0.1111111111111111,\"#46039f\"],[0.2222222222222222,\"#7201a8\"],[0.3333333333333333,\"#9c179e\"],[0.4444444444444444,\"#bd3786\"],[0.5555555555555556,\"#d8576b\"],[0.6666666666666666,\"#ed7953\"],[0.7777777777777778,\"#fb9f3a\"],[0.8888888888888888,\"#fdca26\"],[1.0,\"#f0f921\"]],\"type\":\"surface\"}],\"table\":[{\"cells\":{\"fill\":{\"color\":\"#EBF0F8\"},\"line\":{\"color\":\"white\"}},\"header\":{\"fill\":{\"color\":\"#C8D4E3\"},\"line\":{\"color\":\"white\"}},\"type\":\"table\"}]},\"layout\":{\"annotationdefaults\":{\"arrowcolor\":\"#2a3f5f\",\"arrowhead\":0,\"arrowwidth\":1},\"autotypenumbers\":\"strict\",\"coloraxis\":{\"colorbar\":{\"outlinewidth\":0,\"ticks\":\"\"}},\"colorscale\":{\"diverging\":[[0,\"#8e0152\"],[0.1,\"#c51b7d\"],[0.2,\"#de77ae\"],[0.3,\"#f1b6da\"],[0.4,\"#fde0ef\"],[0.5,\"#f7f7f7\"],[0.6,\"#e6f5d0\"],[0.7,\"#b8e186\"],[0.8,\"#7fbc41\"],[0.9,\"#4d9221\"],[1,\"#276419\"]],\"sequential\":[[0.0,\"#0d0887\"],[0.1111111111111111,\"#46039f\"],[0.2222222222222222,\"#7201a8\"],[0.3333333333333333,\"#9c179e\"],[0.4444444444444444,\"#bd3786\"],[0.5555555555555556,\"#d8576b\"],[0.6666666666666666,\"#ed7953\"],[0.7777777777777778,\"#fb9f3a\"],[0.8888888888888888,\"#fdca26\"],[1.0,\"#f0f921\"]],\"sequentialminus\":[[0.0,\"#0d0887\"],[0.1111111111111111,\"#46039f\"],[0.2222222222222222,\"#7201a8\"],[0.3333333333333333,\"#9c179e\"],[0.4444444444444444,\"#bd3786\"],[0.5555555555555556,\"#d8576b\"],[0.6666666666666666,\"#ed7953\"],[0.7777777777777778,\"#fb9f3a\"],[0.8888888888888888,\"#fdca26\"],[1.0,\"#f0f921\"]]},\"colorway\":[\"#636efa\",\"#EF553B\",\"#00cc96\",\"#ab63fa\",\"#FFA15A\",\"#19d3f3\",\"#FF6692\",\"#B6E880\",\"#FF97FF\",\"#FECB52\"],\"font\":{\"color\":\"#2a3f5f\"},\"geo\":{\"bgcolor\":\"white\",\"lakecolor\":\"white\",\"landcolor\":\"#E5ECF6\",\"showlakes\":true,\"showland\":true,\"subunitcolor\":\"white\"},\"hoverlabel\":{\"align\":\"left\"},\"hovermode\":\"closest\",\"mapbox\":{\"style\":\"light\"},\"paper_bgcolor\":\"white\",\"plot_bgcolor\":\"#E5ECF6\",\"polar\":{\"angularaxis\":{\"gridcolor\":\"white\",\"linecolor\":\"white\",\"ticks\":\"\"},\"bgcolor\":\"#E5ECF6\",\"radialaxis\":{\"gridcolor\":\"white\",\"linecolor\":\"white\",\"ticks\":\"\"}},\"scene\":{\"xaxis\":{\"backgroundcolor\":\"#E5ECF6\",\"gridcolor\":\"white\",\"gridwidth\":2,\"linecolor\":\"white\",\"showbackground\":true,\"ticks\":\"\",\"zerolinecolor\":\"white\"},\"yaxis\":{\"backgroundcolor\":\"#E5ECF6\",\"gridcolor\":\"white\",\"gridwidth\":2,\"linecolor\":\"white\",\"showbackground\":true,\"ticks\":\"\",\"zerolinecolor\":\"white\"},\"zaxis\":{\"backgroundcolor\":\"#E5ECF6\",\"gridcolor\":\"white\",\"gridwidth\":2,\"linecolor\":\"white\",\"showbackground\":true,\"ticks\":\"\",\"zerolinecolor\":\"white\"}},\"shapedefaults\":{\"line\":{\"color\":\"#2a3f5f\"}},\"ternary\":{\"aaxis\":{\"gridcolor\":\"white\",\"linecolor\":\"white\",\"ticks\":\"\"},\"baxis\":{\"gridcolor\":\"white\",\"linecolor\":\"white\",\"ticks\":\"\"},\"bgcolor\":\"#E5ECF6\",\"caxis\":{\"gridcolor\":\"white\",\"linecolor\":\"white\",\"ticks\":\"\"}},\"title\":{\"x\":0.05},\"xaxis\":{\"automargin\":true,\"gridcolor\":\"white\",\"linecolor\":\"white\",\"ticks\":\"\",\"title\":{\"standoff\":15},\"zerolinecolor\":\"white\",\"zerolinewidth\":2},\"yaxis\":{\"automargin\":true,\"gridcolor\":\"white\",\"linecolor\":\"white\",\"ticks\":\"\",\"title\":{\"standoff\":15},\"zerolinecolor\":\"white\",\"zerolinewidth\":2}}}},                        {\"responsive\": true}                    ).then(function(){\n",
       "                            \n",
       "var gd = document.getElementById('050a1704-f65d-477a-8eae-fba1601789fd');\n",
       "var x = new MutationObserver(function (mutations, observer) {{\n",
       "        var display = window.getComputedStyle(gd).display;\n",
       "        if (!display || display === 'none') {{\n",
       "            console.log([gd, 'removed!']);\n",
       "            Plotly.purge(gd);\n",
       "            observer.disconnect();\n",
       "        }}\n",
       "}});\n",
       "\n",
       "// Listen for the removal of the full notebook cells\n",
       "var notebookContainer = gd.closest('#notebook-container');\n",
       "if (notebookContainer) {{\n",
       "    x.observe(notebookContainer, {childList: true});\n",
       "}}\n",
       "\n",
       "// Listen for the clearing of the current output cell\n",
       "var outputEl = gd.closest('.output');\n",
       "if (outputEl) {{\n",
       "    x.observe(outputEl, {childList: true});\n",
       "}}\n",
       "\n",
       "                        })                };                });            </script>        </div>"
      ]
     },
     "metadata": {},
     "output_type": "display_data"
    }
   ],
   "source": [
    "ax = go.Figure()\n",
    "\n",
    "nodes, ax = plot_nine_tree(ax,0,0,0, render='plotly',dt=3)\n",
    "for n in nodes:\n",
    "    nodes, ax = plot_nine_tree(ax,*n, render='plotly',dt=3)\n",
    "ax.show()"
   ]
  },
  {
   "cell_type": "code",
   "execution_count": null,
   "metadata": {},
   "outputs": [],
   "source": [
    "1x1 0\n",
    "3x3 1\n",
    "5x5 2\n",
    "7x7 3"
   ]
  },
  {
   "cell_type": "code",
   "execution_count": 46,
   "metadata": {},
   "outputs": [
    {
     "data": {
      "image/png": "[encoded data removed]",
      "text/plain": [
       "<Figure size 432x288 with 1 Axes>"
      ]
     },
     "metadata": {
      "needs_background": "light"
     },
     "output_type": "display_data"
    }
   ],
   "source": [
    "\n",
    "fig = plt.figure()\n",
    "ax = fig.add_subplot(111, projection='3d')\n",
    "nodes, ax = plot_nine_tree(ax,0,0,0)\n",
    "nodes, ax = plot_nine_tree(ax,*nodes[0])"
   ]
  },
  {
   "cell_type": "code",
   "execution_count": null,
   "metadata": {},
   "outputs": [],
   "source": []
  }
 ],
 "metadata": {
  "interpreter": {
   "hash": "b7504fe8a6b99121a6de54ea8e9c9e8d2896400aee6d316cf9c29e3833edd471"
  },
  "kernelspec": {
   "display_name": "Python 3.9.7 64-bit ('main': conda)",
   "name": "python3"
  },
  "language_info": {
   "codemirror_mode": {
    "name": "ipython",
    "version": 3
   },
   "file_extension": ".py",
   "mimetype": "text/x-python",
   "name": "python",
   "nbconvert_exporter": "python",
   "pygments_lexer": "ipython3",
   "version": "3.9.7"
  },
  "orig_nbformat": 4
 },
 "nbformat": 4,
 "nbformat_minor": 2
}
