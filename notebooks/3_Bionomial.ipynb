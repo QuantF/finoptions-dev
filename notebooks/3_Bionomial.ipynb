{
 "cells": [
  {
   "cell_type": "markdown",
   "source": [
    "# Bionomial Tree Models"
   ],
   "metadata": {}
  },
  {
   "cell_type": "code",
   "execution_count": 1,
   "source": [
    "%load_ext autoreload\n",
    "%autoreload 2\n",
    "import energyderivatives as ed\n",
    "import numpy as np"
   ],
   "outputs": [],
   "metadata": {}
  },
  {
   "cell_type": "code",
   "execution_count": 23,
   "source": [
    "btopt = ed.binomial_tree_options.CRRBinomialTreeOption(S=50, K=40, t=1, r=0.1, b=0.1, sigma=0.4, n=5, type='european')"
   ],
   "outputs": [],
   "metadata": {}
  },
  {
   "cell_type": "code",
   "execution_count": 24,
   "source": [
    "btopt.call()"
   ],
   "outputs": [
    {
     "output_type": "execute_result",
     "data": {
      "text/plain": [
       "15.716522597205914"
      ]
     },
     "metadata": {},
     "execution_count": 24
    }
   ],
   "metadata": {}
  },
  {
   "cell_type": "code",
   "execution_count": 25,
   "source": [
    "btopt.put()"
   ],
   "outputs": [
    {
     "output_type": "execute_result",
     "data": {
      "text/plain": [
       "1.910019318644317"
      ]
     },
     "metadata": {},
     "execution_count": 25
    }
   ],
   "metadata": {}
  },
  {
   "cell_type": "code",
   "execution_count": 41,
   "source": [
    "btopt = ed.binomial_tree_options.CRRBinomialTreeOption(S=50, K=40, t=1, r=0.1, b=0.1, sigma=0.4, n=5, type='american')"
   ],
   "outputs": [],
   "metadata": {}
  },
  {
   "cell_type": "code",
   "execution_count": 40,
   "source": [
    "btopt.greeks()"
   ],
   "outputs": [
    {
     "output_type": "execute_result",
     "data": {
      "text/plain": [
       "{'delta': 0.9126946125875329,\n",
       " 'theta': -4.60612378225108,\n",
       " 'vega': 9.82494802040408,\n",
       " 'rho': -15.71652259717311,\n",
       " 'lambda': 2.9036149916196856,\n",
       " 'gamma': 0.0}"
      ]
     },
     "metadata": {},
     "execution_count": 40
    }
   ],
   "metadata": {}
  },
  {
   "cell_type": "code",
   "execution_count": 34,
   "source": [
    "btopt.call()"
   ],
   "outputs": [
    {
     "output_type": "execute_result",
     "data": {
      "text/plain": [
       "15.716522597205914"
      ]
     },
     "metadata": {},
     "execution_count": 34
    }
   ],
   "metadata": {}
  },
  {
   "cell_type": "code",
   "execution_count": 35,
   "source": [
    "btopt.put()"
   ],
   "outputs": [
    {
     "output_type": "execute_result",
     "data": {
      "text/plain": [
       "2.032195038736347"
      ]
     },
     "metadata": {},
     "execution_count": 35
    }
   ],
   "metadata": {}
  },
  {
   "cell_type": "code",
   "execution_count": 36,
   "source": [
    "btopt.summary()"
   ],
   "outputs": [
    {
     "output_type": "stream",
     "name": "stdout",
     "text": [
      "Title: CRR Binomial Tree Model Valuation\n",
      "\n",
      "Parameters:\n",
      "\n",
      "  S = 50\n",
      "  K = 40\n",
      "  t = 1\n",
      "  r = 0.1\n",
      "  b = 0.1\n",
      "  sigma = 0.4\n",
      "  type = american\n",
      "  n = 5\n",
      "\n",
      "Option Price:\n",
      "\n",
      "  call-american: 15.716523\n",
      "  put-american: 2.032195\n"
     ]
    }
   ],
   "metadata": {}
  },
  {
   "cell_type": "code",
   "execution_count": 37,
   "source": [
    "btopt"
   ],
   "outputs": [
    {
     "output_type": "execute_result",
     "data": {
      "text/plain": [
       "CRRBinomialTreeOption(50, 40, 1, 0.1, 0.1, 0.4, american, 5)"
      ]
     },
     "metadata": {},
     "execution_count": 37
    }
   ],
   "metadata": {}
  },
  {
   "cell_type": "code",
   "execution_count": 38,
   "source": [
    "btopt.greeks()"
   ],
   "outputs": [
    {
     "output_type": "execute_result",
     "data": {
      "text/plain": [
       "{'delta': 0.9126946126344743,\n",
       " 'theta': -4.60612378225108,\n",
       " 'vega': 9.824948020479615,\n",
       " 'rho': -15.71652259720209,\n",
       " 'lambda': 2.903614991769023,\n",
       " 'gamma': -3.5227621181606585e-13}"
      ]
     },
     "metadata": {},
     "execution_count": 38
    }
   ],
   "metadata": {}
  },
  {
   "cell_type": "code",
   "execution_count": 32,
   "source": [
    "ed.GBSOption(S=5, K=4.5, t=0.5, r=0.02, b=0.0, sigma=0.2).greeks()"
   ],
   "outputs": [
    {
     "output_type": "execute_result",
     "data": {
      "text/plain": [
       "{'delta': 0.7847832896091742,\n",
       " 'theta': -0.1885897520190269,\n",
       " 'vega': 1.001225324726128,\n",
       " 'rho': -0.2913828231549671,\n",
       " 'lambda': 6.733266576182154,\n",
       " 'gamma': 0.40049012989045113,\n",
       " 'CofC': 1.9619582240229356}"
      ]
     },
     "metadata": {},
     "execution_count": 32
    }
   ],
   "metadata": {}
  },
  {
   "cell_type": "code",
   "execution_count": 12,
   "source": [
    "ed.GBSOption(S=5, K=4.5, t=0.5, r=0.02, b=0.0, sigma=0.2).rho(method='fdm')"
   ],
   "outputs": [
    {
     "output_type": "execute_result",
     "data": {
      "text/plain": [
       "-0.29138282315495834"
      ]
     },
     "metadata": {},
     "execution_count": 12
    }
   ],
   "metadata": {}
  },
  {
   "cell_type": "code",
   "execution_count": 13,
   "source": [
    "ed.binomial_tree_options.CRRBinomialTreeOption(S=5, K=4.5, t=0.5, r=0.02, b=0.0, sigma=0.2, n=5).greeks()"
   ],
   "outputs": [
    {
     "output_type": "execute_result",
     "data": {
      "text/plain": [
       "{'delta': 0.8233584841638576,\n",
       " 'theta': -0.17333561709704853,\n",
       " 'vega': 0.9254434882822222,\n",
       " 'rho': -0.2938643645954265,\n",
       " 'lambda': 7.004579181431378,\n",
       " 'gamma': -3.854784999817433e-15}"
      ]
     },
     "metadata": {},
     "execution_count": 13
    }
   ],
   "metadata": {}
  },
  {
   "cell_type": "markdown",
   "source": [
    "# JR Bionomial Tree Option"
   ],
   "metadata": {}
  },
  {
   "cell_type": "code",
   "execution_count": 49,
   "source": [
    "jropt = ed.binomial_tree_options.JRBinomialTreeOption(S=50, K=40, t=5/12, r=0.1, b=0.1, sigma=0.4, n=5, type='european')"
   ],
   "outputs": [],
   "metadata": {}
  },
  {
   "cell_type": "code",
   "execution_count": 50,
   "source": [
    "jropt"
   ],
   "outputs": [
    {
     "output_type": "execute_result",
     "data": {
      "text/plain": [
       "JRBinomialTreeOption(50, 40, 0.4166666666666667, 0.1, 0.1, 0.4, european, 5)"
      ]
     },
     "metadata": {},
     "execution_count": 50
    }
   ],
   "metadata": {}
  },
  {
   "cell_type": "code",
   "execution_count": 51,
   "source": [
    "jropt.call()"
   ],
   "outputs": [
    {
     "output_type": "execute_result",
     "data": {
      "text/plain": [
       "12.630208772707604"
      ]
     },
     "metadata": {},
     "execution_count": 51
    }
   ],
   "metadata": {}
  },
  {
   "cell_type": "code",
   "execution_count": null,
   "source": [],
   "outputs": [],
   "metadata": {}
  },
  {
   "cell_type": "code",
   "execution_count": null,
   "source": [],
   "outputs": [],
   "metadata": {}
  }
 ],
 "metadata": {
  "orig_nbformat": 4,
  "language_info": {
   "name": "python",
   "version": "3.9.5",
   "mimetype": "text/x-python",
   "codemirror_mode": {
    "name": "ipython",
    "version": 3
   },
   "pygments_lexer": "ipython3",
   "nbconvert_exporter": "python",
   "file_extension": ".py"
  },
  "kernelspec": {
   "name": "python3",
   "display_name": "Python 3.9.5 64-bit ('main': conda)"
  },
  "interpreter": {
   "hash": "1f23843d0517fbd80931cf63cde1ba60ddd02d261472889f538e5c68e74c8896"
  }
 },
 "nbformat": 4,
 "nbformat_minor": 2
}