{
 "cells": [
  {
   "cell_type": "markdown",
   "metadata": {},
   "source": [
    "# Heston Nandi Options"
   ]
  },
  {
   "cell_type": "code",
   "execution_count": 9,
   "metadata": {},
   "outputs": [],
   "source": [
    "%load_ext autoreload\n",
    "%autoreload 2\n",
    "import finoptions as fo\n",
    "import numpy as np\n",
    "import pandas as pd"
   ]
  },
  {
   "cell_type": "code",
   "execution_count": 2,
   "metadata": {},
   "outputs": [],
   "source": [
    "lamb=-0.5; omega=2.3e-6; alpha=2.9e-6; beta=0.85; gamma=184.25; S=100; K=100; t=252; r=0.05/252"
   ]
  },
  {
   "cell_type": "code",
   "execution_count": 3,
   "metadata": {},
   "outputs": [],
   "source": [
    "opt = fo.heston_nandi_options.HestonNandiOption(S=S, K=K, t=t, r=r, lamb=lamb,omega=omega,alpha=alpha,beta=beta,gamma=gamma)"
   ]
  },
  {
   "cell_type": "code",
   "execution_count": 4,
   "metadata": {},
   "outputs": [
    {
     "data": {
      "text/plain": [
       "8.9920997701416"
      ]
     },
     "execution_count": 4,
     "metadata": {},
     "output_type": "execute_result"
    }
   ],
   "source": [
    "opt.call()"
   ]
  },
  {
   "cell_type": "code",
   "execution_count": 5,
   "metadata": {},
   "outputs": [
    {
     "data": {
      "text/plain": [
       "4.115042220213013"
      ]
     },
     "execution_count": 5,
     "metadata": {},
     "output_type": "execute_result"
    }
   ],
   "source": [
    "opt.put()\n"
   ]
  },
  {
   "cell_type": "code",
   "execution_count": 6,
   "metadata": {},
   "outputs": [
    {
     "data": {
      "text/plain": [
       "0.6739533898008037"
      ]
     },
     "execution_count": 6,
     "metadata": {},
     "output_type": "execute_result"
    }
   ],
   "source": [
    "opt.delta()"
   ]
  },
  {
   "cell_type": "code",
   "execution_count": 7,
   "metadata": {},
   "outputs": [
    {
     "data": {
      "text/plain": [
       "0.022111494128823447"
      ]
     },
     "execution_count": 7,
     "metadata": {},
     "output_type": "execute_result"
    }
   ],
   "source": [
    "opt.gamma()"
   ]
  },
  {
   "cell_type": "code",
   "execution_count": 8,
   "metadata": {},
   "outputs": [],
   "source": [
    "const = 1\n",
    "phi = 20\n",
    "for k in range(0,500):\n",
    "    # Model Parameters:\n",
    "    gamma = gamma + lamb + 1 / 2\n",
    "    lamb = -1 / 2\n",
    "    sigma2 = (omega + alpha) / (1 - beta - alpha * gamma ** 2)\n",
    "    # Function to be integrated:\n",
    "    cphi0 = phi * np.array([1j])\n",
    "    cphi = cphi0 + const\n",
    "    a = cphi * r\n",
    "    b = lamb * cphi + cphi * cphi / 2\n",
    "    # fmt: off\n",
    "    for i in range(1, t):\n",
    "        a = a + cphi*r + b*omega - np.log(1-2*alpha*b)/2\n",
    "        b = cphi*(lamb+gamma) - gamma**2/2 + beta*b + 0.5*(cphi-gamma)**2/(1-2*alpha*b)"
   ]
  },
  {
   "cell_type": "code",
   "execution_count": 9,
   "metadata": {},
   "outputs": [],
   "source": [
    "anp = np.array([0j]*t)\n",
    "anp[0] = a[0]"
   ]
  },
  {
   "cell_type": "code",
   "execution_count": 10,
   "metadata": {},
   "outputs": [],
   "source": [
    "bnp = np.array([0j]*t)\n",
    "bnp[0] = b[0]"
   ]
  },
  {
   "cell_type": "markdown",
   "metadata": {},
   "source": [
    "# Garch Functions and Sims"
   ]
  },
  {
   "cell_type": "code",
   "execution_count": 3,
   "metadata": {},
   "outputs": [
    {
     "name": "stdout",
     "output_type": "stream",
     "text": [
      "The autoreload extension is already loaded. To reload it, use:\n",
      "  %reload_ext autoreload\n"
     ]
    }
   ],
   "source": [
    "%load_ext autoreload\n",
    "%autoreload 2\n",
    "import finoptions as fo\n",
    "import numpy as np\n",
    "import pandas as pd"
   ]
  },
  {
   "cell_type": "code",
   "execution_count": 4,
   "metadata": {},
   "outputs": [],
   "source": [
    "from scipy.optimize import minimize as _minimize"
   ]
  },
  {
   "cell_type": "code",
   "execution_count": 5,
   "metadata": {},
   "outputs": [],
   "source": [
    "ts = pd.read_csv(\"../pytest/garch_ts.csv\").x\n",
    "ts = np.array(ts)\n",
    "\n",
    "lamb = 4\n",
    "omega = 8e-5\n",
    "alpha = 6e-5\n",
    "beta = 0.7\n",
    "gamma = 0\n",
    "rf = 0\n",
    "\n",
    "rfr = rf"
   ]
  },
  {
   "cell_type": "code",
   "execution_count": 17,
   "metadata": {},
   "outputs": [],
   "source": [
    "symmetric=True\n",
    "trace=False"
   ]
  },
  {
   "cell_type": "code",
   "execution_count": 11,
   "metadata": {},
   "outputs": [],
   "source": [
    "x=ts"
   ]
  },
  {
   "cell_type": "code",
   "execution_count": 48,
   "metadata": {},
   "outputs": [],
   "source": [
    "rfr = rf\n",
    "gam = gamma\n",
    "\n",
    "# Continue:\n",
    "params = dict(lamb = lamb, omega = omega, alpha = alpha,\n",
    "    beta = beta, gamma = gam, rf = rfr)\n",
    "\n",
    "# Transform Parameters and Calculate Start Parameters:\n",
    "par_omega = -np.log((1-omega)/omega)  # for 2\n",
    "par_alpha = -np.log((1-alpha)/alpha)  # for 3\n",
    "par_beta = -np.log((1-beta)/beta)     # for 4\n",
    "par_start = [lamb, par_omega, par_alpha, par_beta]\n",
    "if ~symmetric:\n",
    "    par_start.append(gam)\n",
    "\n",
    "# Initial Log Likelihood:\n",
    "opt = dict()\n",
    "opt['value'] = fo.heston_nandi_options._llhHNGarch(x0 = par_start, trace = trace, symmetric = symmetric, rfr = rfr, x = x)\n",
    "opt['estimate'] = par_start\n",
    "\n",
    "if trace:\n",
    "    print(lamb, omega, alpha, beta, gam)\n",
    "    print(opt['value'])\n",
    "\n",
    "# Estimate Parameters:\n",
    "opt = _minimize(fo.heston_nandi_options._llhHNGarch, par_start, args=(trace, symmetric, rfr, x), method='L-BFGS-B')"
   ]
  },
  {
   "cell_type": "code",
   "execution_count": 49,
   "metadata": {},
   "outputs": [
    {
     "data": {
      "text/plain": [
       "      fun: -1229.42127597696\n",
       " hess_inv: <5x5 LbfgsInvHessProduct with dtype=float64>\n",
       "      jac: array([4.54747354e-05, 1.13686828e-04, 2.04636291e-04, 2.72848412e-04,\n",
       "       0.00000000e+00])\n",
       "  message: 'CONVERGENCE: REL_REDUCTION_OF_F_<=_FACTR*EPSMCH'\n",
       "     nfev: 198\n",
       "      nit: 26\n",
       "     njev: 33\n",
       "   status: 0\n",
       "  success: True\n",
       "        x: array([  4.07839585, -11.75859418, -10.00424578,   2.01849921,\n",
       "         3.92247231])"
      ]
     },
     "execution_count": 49,
     "metadata": {},
     "output_type": "execute_result"
    }
   ],
   "source": [
    "opt"
   ]
  },
  {
   "cell_type": "code",
   "execution_count": 54,
   "metadata": {},
   "outputs": [
    {
     "data": {
      "text/plain": [
       "{'lamb': 4.07839584879081,\n",
       " 'omega': 7.821751865836914e-06,\n",
       " 'alpha': 4.520553685577064e-05,\n",
       " 'beta': 0.8827257350255484,\n",
       " 'gamma': 0.0,\n",
       " 'rf': 0}"
      ]
     },
     "execution_count": 54,
     "metadata": {},
     "output_type": "execute_result"
    }
   ],
   "source": [
    "fo.heston_nandi_options.hngarch_fit(ts, lamb=lamb, omega=omega, alpha=alpha, beta=beta, trace=False, symmetric=True)['model']"
   ]
  },
  {
   "cell_type": "markdown",
   "metadata": {},
   "source": [
    "# HN Garch Sim"
   ]
  },
  {
   "cell_type": "code",
   "execution_count": 31,
   "metadata": {},
   "outputs": [],
   "source": [
    "x = fo.heston_nandi_options.hngarch_sim(lamb = 4, omega = 8e-5, alpha = 6e-5, beta = 0.7, gamma = 0, rf = 0)"
   ]
  },
  {
   "cell_type": "code",
   "execution_count": 32,
   "metadata": {},
   "outputs": [],
   "source": [
    "import matplotlib.pyplot as plt"
   ]
  },
  {
   "cell_type": "code",
   "execution_count": 33,
   "metadata": {},
   "outputs": [
    {
     "data": {
      "text/plain": [
       "[<matplotlib.lines.Line2D at 0x7f50e60724f0>]"
      ]
     },
     "execution_count": 33,
     "metadata": {},
     "output_type": "execute_result"
    },
    {
     "data": {
      "image/png": "[encoded data removed]",
      "text/plain": [
       "<Figure size 432x288 with 1 Axes>"
      ]
     },
     "metadata": {
      "needs_background": "light"
     },
     "output_type": "display_data"
    }
   ],
   "source": [
    "plt.plot(x)"
   ]
  }
 ],
 "metadata": {
  "interpreter": {
   "hash": "1f23843d0517fbd80931cf63cde1ba60ddd02d261472889f538e5c68e74c8896"
  },
  "kernelspec": {
   "display_name": "Python 3 (ipykernel)",
   "language": "python",
   "name": "python3"
  },
  "language_info": {
   "codemirror_mode": {
    "name": "ipython",
    "version": 3
   },
   "file_extension": ".py",
   "mimetype": "text/x-python",
   "name": "python",
   "nbconvert_exporter": "python",
   "pygments_lexer": "ipython3",
   "version": "3.9.6"
  }
 },
 "nbformat": 4,
 "nbformat_minor": 4
}
