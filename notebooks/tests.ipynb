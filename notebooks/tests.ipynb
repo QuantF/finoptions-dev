{
 "cells": [
  {
   "cell_type": "code",
   "execution_count": 1,
   "id": "1b1f7176-c544-49b0-b99b-a012df64aa49",
   "metadata": {},
   "outputs": [],
   "source": [
    "import energyderivatives as ed"
   ]
  },
  {
   "cell_type": "code",
   "execution_count": 16,
   "id": "5c5896ed-80bb-43b5-92e1-b1d5e36ddd6f",
   "metadata": {},
   "outputs": [],
   "source": [
    "tmp = ed.GBSOption(10.0, 8.0, 1.0, 0.02, 0.01)"
   ]
  },
  {
   "cell_type": "code",
   "execution_count": 27,
   "id": "2b45d48e-2b64-4050-b62c-cc4faf41409a",
   "metadata": {},
   "outputs": [],
   "source": [
    "df = type(tmp)"
   ]
  },
  {
   "cell_type": "code",
   "execution_count": 28,
   "id": "c3a1e0a2-8ebc-44d8-ad97-71403758ded4",
   "metadata": {},
   "outputs": [
    {
     "ename": "TypeError",
     "evalue": "get_params() missing 1 required positional argument: 'self'",
     "output_type": "error",
     "traceback": [
      "\u001b[0;31m---------------------------------------------------------------------------\u001b[0m",
      "\u001b[0;31mTypeError\u001b[0m                                 Traceback (most recent call last)",
      "\u001b[0;32m<ipython-input-28-7e69712558d1>\u001b[0m in \u001b[0;36m<module>\u001b[0;34m\u001b[0m\n\u001b[0;32m----> 1\u001b[0;31m \u001b[0mdf\u001b[0m\u001b[0;34m.\u001b[0m\u001b[0mget_params\u001b[0m\u001b[0;34m(\u001b[0m\u001b[0;34m)\u001b[0m\u001b[0;34m\u001b[0m\u001b[0;34m\u001b[0m\u001b[0m\n\u001b[0m",
      "\u001b[0;31mTypeError\u001b[0m: get_params() missing 1 required positional argument: 'self'"
     ]
    }
   ],
   "source": [
    "df.get_params()"
   ]
  },
  {
   "cell_type": "code",
   "execution_count": null,
   "id": "1c8a6396-6b8d-4649-8298-129b83785dca",
   "metadata": {},
   "outputs": [],
   "source": []
  }
 ],
 "metadata": {
  "kernelspec": {
   "display_name": "Python 3",
   "language": "python",
   "name": "python3"
  },
  "language_info": {
   "codemirror_mode": {
    "name": "ipython",
    "version": 3
   },
   "file_extension": ".py",
   "mimetype": "text/x-python",
   "name": "python",
   "nbconvert_exporter": "python",
   "pygments_lexer": "ipython3",
   "version": "3.9.5"
  }
 },
 "nbformat": 4,
 "nbformat_minor": 5
}
