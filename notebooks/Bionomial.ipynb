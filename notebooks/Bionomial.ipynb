{
 "cells": [
  {
   "cell_type": "markdown",
   "source": [
    "# Bionomial Tree Models"
   ],
   "metadata": {}
  },
  {
   "cell_type": "code",
   "execution_count": 1,
   "source": [
    "%load_ext autoreload\n",
    "%autoreload 2\n",
    "import energyderivatives as ed\n",
    "import numpy as np"
   ],
   "outputs": [],
   "metadata": {}
  },
  {
   "cell_type": "code",
   "execution_count": 2,
   "source": [
    "btopt = ed.binomial_tree_options.CRRBinomialTreeOption(S=50, K=40, t=1, r=0.1, b=0.1, sigma=0.4, n=5, type='european')"
   ],
   "outputs": [],
   "metadata": {}
  },
  {
   "cell_type": "code",
   "execution_count": 3,
   "source": [
    "btopt.call()"
   ],
   "outputs": [
    {
     "output_type": "execute_result",
     "data": {
      "text/plain": [
       "15.716522597205914"
      ]
     },
     "metadata": {},
     "execution_count": 3
    }
   ],
   "metadata": {}
  },
  {
   "cell_type": "code",
   "execution_count": 4,
   "source": [
    "btopt.put()"
   ],
   "outputs": [
    {
     "output_type": "execute_result",
     "data": {
      "text/plain": [
       "1.910019318644317"
      ]
     },
     "metadata": {},
     "execution_count": 4
    }
   ],
   "metadata": {}
  },
  {
   "cell_type": "code",
   "execution_count": 5,
   "source": [
    "btopt = ed.binomial_tree_options.CRRBinomialTreeOption(S=50, K=40, t=1, r=0.1, b=0.1, sigma=0.4, n=5, type='american')"
   ],
   "outputs": [],
   "metadata": {}
  },
  {
   "cell_type": "code",
   "execution_count": 6,
   "source": [
    "btopt.call()"
   ],
   "outputs": [
    {
     "output_type": "execute_result",
     "data": {
      "text/plain": [
       "15.716522597205914"
      ]
     },
     "metadata": {},
     "execution_count": 6
    }
   ],
   "metadata": {}
  },
  {
   "cell_type": "code",
   "execution_count": 7,
   "source": [
    "btopt.put()"
   ],
   "outputs": [
    {
     "output_type": "execute_result",
     "data": {
      "text/plain": [
       "2.032195038736347"
      ]
     },
     "metadata": {},
     "execution_count": 7
    }
   ],
   "metadata": {}
  },
  {
   "cell_type": "code",
   "execution_count": 8,
   "source": [
    "btopt.summary()"
   ],
   "outputs": [
    {
     "output_type": "stream",
     "name": "stdout",
     "text": [
      "Title: CRR Binomial Tree Model Valuation\n",
      "\n",
      "Parameters:\n",
      "\n",
      "  S = 50\n",
      "  K = 40\n",
      "  t = 1\n",
      "  r = 0.1\n",
      "  b = 0.1\n",
      "  sigma = 0.4\n",
      "  type = american\n",
      "  n = 5\n",
      "\n",
      "Option Price:\n",
      "\n",
      "  call-american: 15.716523\n",
      "  put-american: 2.032195\n"
     ]
    }
   ],
   "metadata": {}
  },
  {
   "cell_type": "code",
   "execution_count": 9,
   "source": [
    "btopt"
   ],
   "outputs": [
    {
     "output_type": "execute_result",
     "data": {
      "text/plain": [
       "CRRBinomialTreeOption(50, 40, 1, 0.1, 0.1, 0.4, american, 5)"
      ]
     },
     "metadata": {},
     "execution_count": 9
    }
   ],
   "metadata": {}
  },
  {
   "cell_type": "code",
   "execution_count": 10,
   "source": [
    "btopt.greeks()"
   ],
   "outputs": [
    {
     "output_type": "execute_result",
     "data": {
      "text/plain": [
       "{'delta': 0.9126946126346477,\n",
       " 'theta': -4.60612378225108,\n",
       " 'vega': 9.824948020458875,\n",
       " 'rho': -15.716522597205852,\n",
       " 'lambda': 2.9036149917695746,\n",
       " 'gamma': 6.693040208457772e-15,\n",
       " 'CofC': None}"
      ]
     },
     "metadata": {},
     "execution_count": 10
    }
   ],
   "metadata": {}
  },
  {
   "cell_type": "code",
   "execution_count": 11,
   "source": [
    "ed.GBSOption(S=5, K=4.5, t=0.5, r=0.02, b=0.0, sigma=0.2).greeks()"
   ],
   "outputs": [
    {
     "output_type": "execute_result",
     "data": {
      "text/plain": [
       "{'delta': 0.7847832896091742,\n",
       " 'theta': -0.1885897520190269,\n",
       " 'vega': 1.001225324726128,\n",
       " 'rho': -0.2913828231549671,\n",
       " 'lambda': 6.733266576182154,\n",
       " 'gamma': 0.40049012989045113,\n",
       " 'CofC': 1.9619582240229356}"
      ]
     },
     "metadata": {},
     "execution_count": 11
    }
   ],
   "metadata": {}
  },
  {
   "cell_type": "code",
   "execution_count": 62,
   "source": [
    "ed.GBSOption(S=5, K=4.5, t=0.5, r=0.02, b=0.0, sigma=0.2).rho(method='fdm')"
   ],
   "outputs": [
    {
     "data": {
      "text/plain": [
       "-0.29138282315495834"
      ]
     },
     "metadata": {},
     "output_type": "display_data"
    }
   ],
   "metadata": {}
  },
  {
   "cell_type": "code",
   "execution_count": 63,
   "source": [
    "ed.binomial_tree_options.CRRBinomialTreeOption(S=5, K=4.5, t=0.5, r=0.02, b=0.0, sigma=0.2, n=5).greeks()"
   ],
   "outputs": [
    {
     "data": {
      "text/plain": [
       "{'delta': 0.8233584841638576,\n",
       " 'theta': -0.17333561709704853,\n",
       " 'vega': 0.9254434882822222,\n",
       " 'rho': -0.2938643645954265,\n",
       " 'lambda': 7.004579181431378,\n",
       " 'gamma': -3.854784999817433e-15,\n",
       " 'CofC': None}"
      ]
     },
     "metadata": {},
     "output_type": "display_data"
    }
   ],
   "metadata": {}
  }
 ],
 "metadata": {
  "orig_nbformat": 4,
  "language_info": {
   "name": "python",
   "version": "3.9.5",
   "mimetype": "text/x-python",
   "codemirror_mode": {
    "name": "ipython",
    "version": 3
   },
   "pygments_lexer": "ipython3",
   "nbconvert_exporter": "python",
   "file_extension": ".py"
  },
  "kernelspec": {
   "name": "python3",
   "display_name": "Python 3.9.5 64-bit ('main': conda)"
  },
  "interpreter": {
   "hash": "1f23843d0517fbd80931cf63cde1ba60ddd02d261472889f538e5c68e74c8896"
  }
 },
 "nbformat": 4,
 "nbformat_minor": 2
}