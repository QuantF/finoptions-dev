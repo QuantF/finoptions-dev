{
 "cells": [
  {
   "cell_type": "markdown",
   "source": [
    "# Basic American Options"
   ],
   "metadata": {}
  },
  {
   "cell_type": "code",
   "execution_count": 1,
   "source": [
    "%load_ext autoreload\n",
    "%autoreload 2\n",
    "import finoptions as fo\n",
    "import numpy as np"
   ],
   "outputs": [],
   "metadata": {}
  },
  {
   "cell_type": "code",
   "execution_count": 2,
   "source": [
    "fo.basic_american_options.BAWAmericanApproxOption"
   ],
   "outputs": [
    {
     "output_type": "execute_result",
     "data": {
      "text/plain": [
       "finoptions.basic_american_options.BAWAmericanApproxOption"
      ]
     },
     "metadata": {},
     "execution_count": 2
    }
   ],
   "metadata": {}
  },
  {
   "cell_type": "code",
   "execution_count": 3,
   "source": [
    "ropt = fo.basic_american_options.RollGeskeWhaleyOption(S=80, K=82, t=1/3, td=1/4, r=0.06, D=4, sigma=0.30)"
   ],
   "outputs": [],
   "metadata": {}
  },
  {
   "cell_type": "code",
   "execution_count": 4,
   "source": [
    "ropt.call()"
   ],
   "outputs": [
    {
     "output_type": "execute_result",
     "data": {
      "text/plain": [
       "4.386030003741627"
      ]
     },
     "metadata": {},
     "execution_count": 4
    }
   ],
   "metadata": {}
  },
  {
   "cell_type": "code",
   "execution_count": 5,
   "source": [
    "ropt"
   ],
   "outputs": [
    {
     "output_type": "execute_result",
     "data": {
      "text/plain": [
       "RollGeskeWhaleyOption(80, 82, 0.3333333333333333, 0.25, 0.06, 4, 0.3)"
      ]
     },
     "metadata": {},
     "execution_count": 5
    }
   ],
   "metadata": {}
  },
  {
   "cell_type": "code",
   "execution_count": 6,
   "source": [
    "print(ropt)"
   ],
   "outputs": [
    {
     "output_type": "stream",
     "name": "stdout",
     "text": [
      "Title: Roll-Geske-Whaley Calls on Dividend Paying Stocks Valuation\n",
      "\n",
      "Parameters:\n",
      "\n",
      "  S = 80\n",
      "  K = 82\n",
      "  t = 0.3333333333333333\n",
      "  td = 0.25\n",
      "  r = 0.06\n",
      "  D = 4\n",
      "  sigma = 0.3\n",
      "\n",
      "Option Price:\n",
      "\n",
      "  call: 4.38603\n",
      "  Optimal to Exercise Call Option: True\n"
     ]
    }
   ],
   "metadata": {}
  },
  {
   "cell_type": "code",
   "execution_count": 7,
   "source": [
    "ropt.delta()"
   ],
   "outputs": [
    {
     "output_type": "execute_result",
     "data": {
      "text/plain": [
       "0.5022169959258054"
      ]
     },
     "metadata": {},
     "execution_count": 7
    }
   ],
   "metadata": {}
  },
  {
   "cell_type": "code",
   "execution_count": 8,
   "source": [
    "ropt.greeks()"
   ],
   "outputs": [
    {
     "output_type": "execute_result",
     "data": {
      "text/plain": [
       "{'delta': 0.5022169959258054,\n",
       " 'theta': -3.960344624327405,\n",
       " 'vega': 16.59268091864252,\n",
       " 'rho': 9.37123587985491,\n",
       " 'lambda': 9.160302058989563,\n",
       " 'gamma': 0.03356841049986252}"
      ]
     },
     "metadata": {},
     "execution_count": 8
    }
   ],
   "metadata": {}
  },
  {
   "cell_type": "code",
   "execution_count": 9,
   "source": [
    "ropt.summary()"
   ],
   "outputs": [
    {
     "output_type": "stream",
     "name": "stdout",
     "text": [
      "Title: Roll-Geske-Whaley Calls on Dividend Paying Stocks Valuation\n",
      "\n",
      "Parameters:\n",
      "\n",
      "  S = 80\n",
      "  K = 82\n",
      "  t = 0.3333333333333333\n",
      "  td = 0.25\n",
      "  r = 0.06\n",
      "  D = 4\n",
      "  sigma = 0.3\n",
      "\n",
      "Option Price:\n",
      "\n",
      "  call: 4.38603\n",
      "  Optimal to Exercise Call Option: True\n"
     ]
    }
   ],
   "metadata": {}
  },
  {
   "cell_type": "code",
   "execution_count": 10,
   "source": [
    "rvol = fo.basic_american_options.RollGeskeWhaleyOption(S=80, K=82, t=1/3, td=1/4, r=0.06, D=4, sigma=None)\n",
    "rvol.volatility(10)"
   ],
   "outputs": [
    {
     "output_type": "execute_result",
     "data": {
      "text/plain": [
       "0.6328596836266412"
      ]
     },
     "metadata": {},
     "execution_count": 10
    }
   ],
   "metadata": {}
  },
  {
   "cell_type": "code",
   "execution_count": 11,
   "source": [
    "bopt = fo.basic_american_options.BAWAmericanApproxOption(S = 100, K = 90, t = 0.5, r = 0.10, b = 0, sigma = 0.25)"
   ],
   "outputs": [],
   "metadata": {}
  },
  {
   "cell_type": "code",
   "execution_count": 12,
   "source": [
    "bopt.__name__"
   ],
   "outputs": [
    {
     "output_type": "execute_result",
     "data": {
      "text/plain": [
       "'BAWAmericanApproxOption'"
      ]
     },
     "metadata": {},
     "execution_count": 12
    }
   ],
   "metadata": {}
  },
  {
   "cell_type": "code",
   "execution_count": 13,
   "source": [
    "bopt.call()"
   ],
   "outputs": [
    {
     "output_type": "execute_result",
     "data": {
      "text/plain": [
       "12.44166279190568"
      ]
     },
     "metadata": {},
     "execution_count": 13
    }
   ],
   "metadata": {}
  },
  {
   "cell_type": "code",
   "execution_count": 14,
   "source": [
    "bopt.put()"
   ],
   "outputs": [
    {
     "output_type": "execute_result",
     "data": {
      "text/plain": [
       "2.7436097188998456"
      ]
     },
     "metadata": {},
     "execution_count": 14
    }
   ],
   "metadata": {}
  },
  {
   "cell_type": "code",
   "execution_count": 15,
   "source": [
    "bopt.summary()"
   ],
   "outputs": [
    {
     "output_type": "stream",
     "name": "stdout",
     "text": [
      "Title: Barone-Adesi and Whaley Approximation Valuation\n",
      "\n",
      "Parameters:\n",
      "\n",
      "  S = 100\n",
      "  K = 90\n",
      "  t = 0.5\n",
      "  r = 0.1\n",
      "  b = 0\n",
      "  sigma = 0.25\n",
      "\n",
      "Option Price:\n",
      "\n",
      "  call: 12.441663\n",
      "  put: 2.74361\n"
     ]
    }
   ],
   "metadata": {}
  },
  {
   "cell_type": "code",
   "execution_count": 16,
   "source": [
    "bopt.greeks()"
   ],
   "outputs": [
    {
     "output_type": "execute_result",
     "data": {
      "text/plain": [
       "{'delta': 0.7359424889435693,\n",
       " 'theta': -4.6823920234771945,\n",
       " 'vega': 21.328855605606133,\n",
       " 'rho': -3.29715279354839,\n",
       " 'lambda': 5.9151457586711,\n",
       " 'gamma': 0.018471927996037574}"
      ]
     },
     "metadata": {},
     "execution_count": 16
    }
   ],
   "metadata": {}
  },
  {
   "cell_type": "code",
   "execution_count": 17,
   "source": [
    "bsopt = fo.basic_american_options.BSAmericanApproxOption(S = 100, K = 90, t = 0.5, r = 0.10, b = 0, sigma = 0.25)"
   ],
   "outputs": [],
   "metadata": {}
  },
  {
   "cell_type": "code",
   "execution_count": 18,
   "source": [
    "bsopt.call()"
   ],
   "outputs": [
    {
     "output_type": "execute_result",
     "data": {
      "text/plain": [
       "{'OptionPrice': 12.39888578756754, 'TriggerPrice': 115.27226475479983}"
      ]
     },
     "metadata": {},
     "execution_count": 18
    }
   ],
   "metadata": {}
  },
  {
   "cell_type": "code",
   "execution_count": 19,
   "source": [
    "bsopt.put()"
   ],
   "outputs": [
    {
     "output_type": "execute_result",
     "data": {
      "text/plain": [
       "{'OptionPrice': 2.714363003364042, 'TriggerPrice': 128.0802941719998}"
      ]
     },
     "metadata": {},
     "execution_count": 19
    }
   ],
   "metadata": {}
  },
  {
   "cell_type": "code",
   "execution_count": 20,
   "source": [
    "bsopt.delta()"
   ],
   "outputs": [
    {
     "output_type": "execute_result",
     "data": {
      "text/plain": [
       "0.735785404308647"
      ]
     },
     "metadata": {},
     "execution_count": 20
    }
   ],
   "metadata": {}
  },
  {
   "cell_type": "code",
   "execution_count": 21,
   "source": [
    "bsopt.vega()"
   ],
   "outputs": [
    {
     "output_type": "execute_result",
     "data": {
      "text/plain": [
       "21.127946527008707"
      ]
     },
     "metadata": {},
     "execution_count": 21
    }
   ],
   "metadata": {}
  },
  {
   "cell_type": "code",
   "execution_count": 22,
   "source": [
    "bsopt.greeks()"
   ],
   "outputs": [
    {
     "output_type": "execute_result",
     "data": {
      "text/plain": [
       "{'delta': 0.735785404308647,\n",
       " 'theta': -4.554175462491147,\n",
       " 'vega': 21.127946527008707,\n",
       " 'rho': -3.686679020784406,\n",
       " 'lambda': 5.934286490858919,\n",
       " 'gamma': 0.018292906571849885}"
      ]
     },
     "metadata": {},
     "execution_count": 22
    }
   ],
   "metadata": {}
  },
  {
   "cell_type": "code",
   "execution_count": 23,
   "source": [
    "bsopt.summary()"
   ],
   "outputs": [
    {
     "output_type": "stream",
     "name": "stdout",
     "text": [
      "Title: The Bjerksund and Stensland (1993) American Approximation Option Valuation\n",
      "\n",
      "Parameters:\n",
      "\n",
      "  S = 100\n",
      "  K = 90\n",
      "  t = 0.5\n",
      "  r = 0.1\n",
      "  b = 0\n",
      "  sigma = 0.25\n",
      "\n",
      "Option Price:\n",
      "\n",
      "  call: 12.398886, trigger: 115.272265\n",
      "  put: 2.714363, trigger: 128.080294\n"
     ]
    }
   ],
   "metadata": {}
  },
  {
   "cell_type": "code",
   "execution_count": 24,
   "source": [
    "bsopt = fo.basic_american_options.BSAmericanApproxOption(10.0, 8.0, 1.0, 0.02, 0.01, 0.1).call()"
   ],
   "outputs": [],
   "metadata": {}
  },
  {
   "cell_type": "code",
   "execution_count": 25,
   "source": [
    "bsopt"
   ],
   "outputs": [
    {
     "output_type": "execute_result",
     "data": {
      "text/plain": [
       "{'OptionPrice': 2.061847060733921, 'TriggerPrice': 18.598685762314446}"
      ]
     },
     "metadata": {},
     "execution_count": 25
    }
   ],
   "metadata": {}
  },
  {
   "cell_type": "code",
   "execution_count": null,
   "source": [],
   "outputs": [],
   "metadata": {}
  }
 ],
 "metadata": {
  "orig_nbformat": 4,
  "language_info": {
   "name": "python",
   "version": "3.9.6",
   "mimetype": "text/x-python",
   "codemirror_mode": {
    "name": "ipython",
    "version": 3
   },
   "pygments_lexer": "ipython3",
   "nbconvert_exporter": "python",
   "file_extension": ".py"
  },
  "kernelspec": {
   "name": "python3",
   "display_name": "Python 3.9.6 64-bit ('main': conda)"
  },
  "interpreter": {
   "hash": "1f23843d0517fbd80931cf63cde1ba60ddd02d261472889f538e5c68e74c8896"
  }
 },
 "nbformat": 4,
 "nbformat_minor": 2
}