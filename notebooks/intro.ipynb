{
 "metadata": {
  "language_info": {
   "codemirror_mode": {
    "name": "ipython",
    "version": 3
   },
   "file_extension": ".py",
   "mimetype": "text/x-python",
   "name": "python",
   "nbconvert_exporter": "python",
   "pygments_lexer": "ipython3",
   "version": "3.9.5"
  },
  "orig_nbformat": 4,
  "kernelspec": {
   "name": "python3",
   "display_name": "Python 3.9.5 64-bit (conda)"
  },
  "interpreter": {
   "hash": "7ecaa5e4cf084b92ad46a1abe9631eda4149286ae5750bc25776b0730d4a30b3"
  }
 },
 "nbformat": 4,
 "nbformat_minor": 2,
 "cells": [
  {
   "source": [
    "# Vanilla Options"
   ],
   "cell_type": "markdown",
   "metadata": {}
  },
  {
   "cell_type": "code",
   "execution_count": 1,
   "metadata": {},
   "outputs": [],
   "source": [
    "%load_ext autoreload\n",
    "%autoreload 2\n",
    "import energyderivatives as ed\n",
    "import numpy as np"
   ]
  },
  {
   "cell_type": "code",
   "execution_count": 2,
   "metadata": {},
   "outputs": [],
   "source": [
    "opt = ed.GBSOption(10.0, 8.0, 1.0, 0.02, 0.01, 0.1)"
   ]
  },
  {
   "cell_type": "code",
   "execution_count": 3,
   "metadata": {},
   "outputs": [
    {
     "output_type": "execute_result",
     "data": {
      "text/plain": [
       "2.0618470607330366"
      ]
     },
     "metadata": {},
     "execution_count": 3
    }
   ],
   "source": [
    "opt.call()"
   ]
  },
  {
   "cell_type": "code",
   "execution_count": 4,
   "metadata": {},
   "outputs": [
    {
     "output_type": "execute_result",
     "data": {
      "text/plain": [
       "0.0029381096953960684"
      ]
     },
     "metadata": {},
     "execution_count": 4
    }
   ],
   "source": [
    "opt.put()"
   ]
  },
  {
   "cell_type": "code",
   "execution_count": 5,
   "metadata": {},
   "outputs": [
    {
     "output_type": "execute_result",
     "data": {
      "text/plain": [
       "GBSOption(10.0, 8.0, 1.0, 0.02, 0.01, 0.1)"
      ]
     },
     "metadata": {},
     "execution_count": 5
    }
   ],
   "source": [
    "opt"
   ]
  },
  {
   "cell_type": "code",
   "execution_count": 6,
   "metadata": {},
   "outputs": [
    {
     "output_type": "stream",
     "text": [
      "\u001b[0;31mSignature:\u001b[0m \u001b[0mopt\u001b[0m\u001b[0;34m.\u001b[0m\u001b[0msummary\u001b[0m\u001b[0;34m(\u001b[0m\u001b[0mprinter\u001b[0m\u001b[0;34m=\u001b[0m\u001b[0;32mTrue\u001b[0m\u001b[0;34m)\u001b[0m\u001b[0;34m\u001b[0m\u001b[0;34m\u001b[0m\u001b[0m\n",
      "\u001b[0;31mDocstring:\u001b[0m\n",
      "Print summary report of option\n",
      "\n",
      "Parameters\n",
      "----------\n",
      "printer : bool\n",
      "    True to print summary. False to return a string.\n",
      "\u001b[0;31mFile:\u001b[0m      ~/projects/energyderivatives-dev/src/energyderivatives/base.py\n",
      "\u001b[0;31mType:\u001b[0m      method\n"
     ],
     "name": "stdout"
    }
   ],
   "source": [
    "?opt.summary"
   ]
  },
  {
   "cell_type": "code",
   "execution_count": 7,
   "metadata": {},
   "outputs": [
    {
     "output_type": "stream",
     "name": "stdout",
     "text": [
      "Title: Black Scholes Option Valuation\n\nParameters:\n\n  S = 10.0\n  K = 8.0\n  t = 1.0\n  r = 0.02\n  b = 0.01\n  sigma = 0.1\n\nOption Price:\n\n  call: 2.061847\n  put: 0.002938\n"
     ]
    }
   ],
   "source": [
    "opt.summary()"
   ]
  },
  {
   "cell_type": "code",
   "execution_count": 8,
   "metadata": {},
   "outputs": [
    {
     "output_type": "stream",
     "name": "stdout",
     "text": [
      "Title: Black Scholes Option Valuation\n\nParameters:\n\n  S = 10.0\n  K = 8.0\n  t = 1.0\n  r = 0.02\n  b = 0.01\n  sigma = 0.1\n\nOption Price:\n\n  call: 2.061847\n  put: 0.002938\n"
     ]
    }
   ],
   "source": [
    "print(opt)"
   ]
  },
  {
   "cell_type": "code",
   "execution_count": 9,
   "metadata": {},
   "outputs": [
    {
     "output_type": "execute_result",
     "data": {
      "text/plain": [
       "GBSOption(10.0, 8.0, 1.0, 0.02, 0.01, 0.1)"
      ]
     },
     "metadata": {},
     "execution_count": 9
    }
   ],
   "source": [
    "opt"
   ]
  },
  {
   "cell_type": "code",
   "execution_count": 10,
   "metadata": {},
   "outputs": [
    {
     "output_type": "execute_result",
     "data": {
      "text/plain": [
       "{'delta': 0.9815129867062496,\n",
       " 'theta': -0.06850330694238246,\n",
       " 'vega': 0.23177898972836455,\n",
       " 'rho': 7.7532828063294605,\n",
       " 'lambda': 4.760357862611294,\n",
       " 'gamma': 0.023177898972836456,\n",
       " 'CofC': 9.815129867062497}"
      ]
     },
     "metadata": {},
     "execution_count": 10
    }
   ],
   "source": [
    "opt.greeks()"
   ]
  },
  {
   "cell_type": "code",
   "execution_count": 11,
   "metadata": {},
   "outputs": [
    {
     "output_type": "execute_result",
     "data": {
      "text/plain": [
       "{'delta': -0.008536847042918466,\n",
       " 'theta': -0.010676502588218456,\n",
       " 'vega': 0.23177898972836455,\n",
       " 'rho': -0.08830658012458127,\n",
       " 'lambda': -29.055576298922585,\n",
       " 'gamma': 0.023177898972836456,\n",
       " 'CofC': -0.0853684704291852}"
      ]
     },
     "metadata": {},
     "execution_count": 11
    }
   ],
   "source": [
    "opt.greeks(call=False)"
   ]
  },
  {
   "cell_type": "code",
   "execution_count": 12,
   "metadata": {},
   "outputs": [
    {
     "output_type": "execute_result",
     "data": {
      "text/plain": [
       "{'S': 10.0, 'K': 8.0, 't': 1.0, 'r': 0.02, 'b': 0.01, 'sigma': 0.1}"
      ]
     },
     "metadata": {},
     "execution_count": 12
    }
   ],
   "source": [
    "opt.get_params()"
   ]
  },
  {
   "cell_type": "code",
   "execution_count": 13,
   "metadata": {},
   "outputs": [
    {
     "output_type": "stream",
     "name": "stdout",
     "text": [
      "0.5363510394818946\n"
     ]
    }
   ],
   "source": [
    "vol = ed.GBSOption(10.0, 8.0, 1.0, 0.02, 0.0, sigma=None)\n",
    "\n",
    "print(vol.volatility(3).root)"
   ]
  },
  {
   "cell_type": "code",
   "execution_count": 32,
   "metadata": {},
   "outputs": [],
   "source": [
    "bopt = ed.Black76Option(10.0, 8.0, 1.0, 0.02, 0.1)"
   ]
  },
  {
   "cell_type": "code",
   "execution_count": 33,
   "metadata": {},
   "outputs": [
    {
     "output_type": "execute_result",
     "data": {
      "text/plain": [
       "Black76Option(10.0, 8.0, 1.0, 0.02, 0, 0.1)"
      ]
     },
     "metadata": {},
     "execution_count": 33
    }
   ],
   "source": [
    "bopt"
   ]
  },
  {
   "cell_type": "code",
   "execution_count": 34,
   "metadata": {},
   "outputs": [
    {
     "output_type": "stream",
     "name": "stdout",
     "text": [
      "Title: Black 1977 Option Valuation\n\nParameters:\n\n  S = 10.0\n  K = 8.0\n  t = 1.0\n  r = 0.02\n  b = 0\n  sigma = 0.1\n\nOption Price:\n\n  call: 1.96431\n  put: 0.003912\n"
     ]
    }
   ],
   "source": [
    "print(bopt)"
   ]
  },
  {
   "cell_type": "code",
   "execution_count": 14,
   "metadata": {},
   "outputs": [],
   "source": [
    "mopt = ed.MiltersenSchwartzOption(\n",
    "        Pt=np.exp(-0.05 / 4),\n",
    "        FT=95,\n",
    "        K=80,\n",
    "        t=1 / 4,\n",
    "        T=1 / 2,\n",
    "        sigmaS=0.2660,\n",
    "        sigmaE=0.2490,\n",
    "        sigmaF=0.0096,\n",
    "        rhoSE=0.805,\n",
    "        rhoSF=0.0805,\n",
    "        rhoEF=0.1243,\n",
    "        KappaE=1.045,\n",
    "        KappaF=0.200,\n",
    "    )"
   ]
  },
  {
   "cell_type": "code",
   "execution_count": 15,
   "metadata": {},
   "outputs": [
    {
     "output_type": "execute_result",
     "data": {
      "text/plain": [
       "15.004682511978606"
      ]
     },
     "metadata": {},
     "execution_count": 15
    }
   ],
   "source": [
    "mopt.call()"
   ]
  },
  {
   "cell_type": "code",
   "execution_count": 16,
   "metadata": {},
   "outputs": [
    {
     "output_type": "execute_result",
     "data": {
      "text/plain": [
       "{'Pt': 0.9875778004938814,\n",
       " 'FT': 95,\n",
       " 'K': 80,\n",
       " 't': 0.25,\n",
       " 'T': 0.5,\n",
       " 'sigmaS': 0.266,\n",
       " 'sigmaE': 0.249,\n",
       " 'sigmaF': 0.0096,\n",
       " 'rhoSE': 0.805,\n",
       " 'rhoSF': 0.0805,\n",
       " 'rhoEF': 0.1243,\n",
       " 'KappaE': 1.045,\n",
       " 'KappaF': 0.2}"
      ]
     },
     "metadata": {},
     "execution_count": 16
    }
   ],
   "source": [
    "mopt.get_params()"
   ]
  },
  {
   "cell_type": "code",
   "execution_count": 17,
   "metadata": {},
   "outputs": [
    {
     "output_type": "stream",
     "name": "stdout",
     "text": [
      "Title: Miltersen Schwartz Option Valuation\n\nParameters:\n\n  Pt = 0.9875778004938814\n  FT = 95\n  K = 80\n  t = 0.25\n  T = 0.5\n  sigmaS = 0.266\n  sigmaE = 0.249\n  sigmaF = 0.0096\n  rhoSE = 0.805\n  rhoSF = 0.0805\n  rhoEF = 0.1243\n  KappaE = 1.045\n  KappaF = 0.2\n\nOption Price:\n\n  call: 15.004683\n  put: 0.191426\n"
     ]
    }
   ],
   "source": [
    "    mopt.summary()"
   ]
  },
  {
   "cell_type": "code",
   "execution_count": 18,
   "metadata": {},
   "outputs": [
    {
     "output_type": "execute_result",
     "data": {
      "text/plain": [
       "MiltersenSchwartzOption(0.9875778004938814, 95, 80, 0.25, 0.5, 0.266, 0.249, 0.0096, 0.805, 0.0805, 0.1243, 1.045, 0.2)"
      ]
     },
     "metadata": {},
     "execution_count": 18
    }
   ],
   "source": [
    "mopt"
   ]
  },
  {
   "cell_type": "code",
   "execution_count": 19,
   "metadata": {},
   "outputs": [
    {
     "output_type": "stream",
     "name": "stdout",
     "text": [
      "Title: Miltersen Schwartz Option Valuation\n\nParameters:\n\n  Pt = 0.9875778004938814\n  FT = 95\n  K = 80\n  t = 0.25\n  T = 0.5\n  sigmaS = 0.266\n  sigmaE = 0.249\n  sigmaF = 0.0096\n  rhoSE = 0.805\n  rhoSF = 0.0805\n  rhoEF = 0.1243\n  KappaE = 1.045\n  KappaF = 0.2\n\nOption Price:\n\n  call: 15.004683\n  put: 0.191426\n"
     ]
    }
   ],
   "source": [
    "print(mopt)"
   ]
  },
  {
   "cell_type": "code",
   "execution_count": 20,
   "metadata": {},
   "outputs": [
    {
     "output_type": "execute_result",
     "data": {
      "text/plain": [
       "0.9427019114803328"
      ]
     },
     "metadata": {},
     "execution_count": 20
    }
   ],
   "source": [
    "mopt.delta()"
   ]
  },
  {
   "cell_type": "code",
   "execution_count": 21,
   "metadata": {},
   "outputs": [
    {
     "output_type": "execute_result",
     "data": {
      "text/plain": [
       "-2.1486160364725966"
      ]
     },
     "metadata": {},
     "execution_count": 21
    }
   ],
   "source": [
    "mopt.theta()"
   ]
  },
  {
   "cell_type": "code",
   "execution_count": 22,
   "metadata": {},
   "outputs": [
    {
     "output_type": "execute_result",
     "data": {
      "text/plain": [
       "{'delta': 0.9427019114803328,\n",
       " 'theta': -2.1486160364725966,\n",
       " 'vega': (4.365371830028477, -0.8938739855897667, 0.06553819246212758),\n",
       " 'lambda': 5.968582242185819,\n",
       " 'gamma': 0.009467073284510696,\n",
       " 'CofC': None}"
      ]
     },
     "metadata": {},
     "execution_count": 22
    }
   ],
   "source": [
    "mopt.greeks()"
   ]
  },
  {
   "cell_type": "code",
   "execution_count": 23,
   "metadata": {},
   "outputs": [
    {
     "output_type": "execute_result",
     "data": {
      "text/plain": [
       "0.9815129867062496"
      ]
     },
     "metadata": {},
     "execution_count": 23
    }
   ],
   "source": [
    "opt.delta()"
   ]
  },
  {
   "source": [
    "# Basic American Options"
   ],
   "cell_type": "markdown",
   "metadata": {}
  },
  {
   "cell_type": "code",
   "execution_count": 1,
   "metadata": {},
   "outputs": [],
   "source": [
    "%load_ext autoreload\n",
    "%autoreload 2\n",
    "import energyderivatives as ed\n",
    "import numpy as np"
   ]
  },
  {
   "cell_type": "code",
   "execution_count": 2,
   "metadata": {},
   "outputs": [],
   "source": [
    "ropt = ed.RollGeskeWhaleyOption(S = 80, K = 82, t = 1/3, td = 1/4, r = 0.06, D = 4, sigma = 0.30)"
   ]
  },
  {
   "cell_type": "code",
   "execution_count": 3,
   "metadata": {},
   "outputs": [
    {
     "output_type": "execute_result",
     "data": {
      "text/plain": [
       "4.386030003741627"
      ]
     },
     "metadata": {},
     "execution_count": 3
    }
   ],
   "source": [
    "ropt.call()"
   ]
  },
  {
   "cell_type": "code",
   "execution_count": 6,
   "metadata": {},
   "outputs": [
    {
     "output_type": "execute_result",
     "data": {
      "text/plain": [
       "RollGeskeWhaleyOption(80, 82, 0.3333333333333333, 0.25, 0.06, 4, 0.3)"
      ]
     },
     "metadata": {},
     "execution_count": 6
    }
   ],
   "source": [
    "ropt"
   ]
  },
  {
   "cell_type": "code",
   "execution_count": 8,
   "metadata": {},
   "outputs": [
    {
     "output_type": "stream",
     "name": "stdout",
     "text": [
      "Title: Roll-Geske-Whaley Calls on Dividend Paying Stocks Valuation\n\nParameters:\n\n  S = 80\n  K = 82\n  t = 0.3333333333333333\n  td = 0.25\n  r = 0.06\n  D = 4\n  sigma = 0.3\n\nOption Price:\n\n  call: 4.38603\n\n"
     ]
    }
   ],
   "source": [
    "print(ropt)"
   ]
  },
  {
   "cell_type": "code",
   "execution_count": 9,
   "metadata": {},
   "outputs": [
    {
     "output_type": "stream",
     "name": "stdout",
     "text": [
      "\nWarning: Not optimal to exercise\n\n\nWarning: Not optimal to exercise\n\n"
     ]
    },
    {
     "output_type": "execute_result",
     "data": {
      "text/plain": [
       "{'delta': 0.5022169959258055,\n",
       " 'theta': -3.960344624327405,\n",
       " 'vega': 16.592680918642525,\n",
       " 'rho': 9.371235879854913,\n",
       " 'lambda': 9.160302058989565,\n",
       " 'gamma': 0.03356841049986253,\n",
       " 'CofC': None}"
      ]
     },
     "metadata": {},
     "execution_count": 9
    }
   ],
   "source": [
    "ropt.greeks()"
   ]
  },
  {
   "cell_type": "code",
   "execution_count": null,
   "metadata": {},
   "outputs": [],
   "source": []
  }
 ]
}