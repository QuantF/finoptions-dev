{
 "cells": [
  {
   "cell_type": "markdown",
   "metadata": {},
   "source": [
    "# Vanilla Options"
   ]
  },
  {
   "cell_type": "code",
   "execution_count": 1,
   "metadata": {},
   "outputs": [],
   "source": [
    "%load_ext autoreload\n",
    "%autoreload 2\n",
    "import energyderivatives as ed\n",
    "import numpy as np"
   ]
  },
  {
   "cell_type": "code",
   "execution_count": 2,
   "metadata": {},
   "outputs": [],
   "source": [
    "opt = ed.GBSOption(10.0, 8.0, 1.0, 0.02, 0.01, 0.1)"
   ]
  },
  {
   "cell_type": "code",
   "execution_count": 3,
   "metadata": {},
   "outputs": [
    {
     "data": {
      "text/plain": [
       "2.0618470607330366"
      ]
     },
     "execution_count": 3,
     "metadata": {},
     "output_type": "execute_result"
    }
   ],
   "source": [
    "opt.call()"
   ]
  },
  {
   "cell_type": "code",
   "execution_count": 4,
   "metadata": {},
   "outputs": [
    {
     "data": {
      "text/plain": [
       "0.0029381096953960684"
      ]
     },
     "execution_count": 4,
     "metadata": {},
     "output_type": "execute_result"
    }
   ],
   "source": [
    "opt.put()"
   ]
  },
  {
   "cell_type": "code",
   "execution_count": 5,
   "metadata": {},
   "outputs": [
    {
     "data": {
      "text/plain": [
       "GBSOption(10.0, 8.0, 1.0, 0.02, 0.01, 0.1)"
      ]
     },
     "execution_count": 5,
     "metadata": {},
     "output_type": "execute_result"
    }
   ],
   "source": [
    "opt"
   ]
  },
  {
   "cell_type": "code",
   "execution_count": 6,
   "metadata": {},
   "outputs": [
    {
     "data": {
      "text/plain": [
       "\u001b[0;31mSignature:\u001b[0m \u001b[0mopt\u001b[0m\u001b[0;34m.\u001b[0m\u001b[0msummary\u001b[0m\u001b[0;34m(\u001b[0m\u001b[0mprinter\u001b[0m\u001b[0;34m=\u001b[0m\u001b[0;32mTrue\u001b[0m\u001b[0;34m)\u001b[0m\u001b[0;34m\u001b[0m\u001b[0;34m\u001b[0m\u001b[0m\n",
       "\u001b[0;31mDocstring:\u001b[0m\n",
       "Print summary report of option\n",
       "\n",
       "Parameters\n",
       "----------\n",
       "printer : bool\n",
       "    True to print summary. False to return a string.\n",
       "\u001b[0;31mFile:\u001b[0m      ~/PROJECTS/energyderivatives-dev/src/energyderivatives/base.py\n",
       "\u001b[0;31mType:\u001b[0m      method\n"
      ]
     },
     "metadata": {},
     "output_type": "display_data"
    }
   ],
   "source": [
    "?opt.summary"
   ]
  },
  {
   "cell_type": "code",
   "execution_count": 7,
   "metadata": {},
   "outputs": [
    {
     "name": "stdout",
     "output_type": "stream",
     "text": [
      "Title: Black Scholes Option Valuation\n",
      "\n",
      "Parameters:\n",
      "\n",
      "  S = 10.0\n",
      "  K = 8.0\n",
      "  t = 1.0\n",
      "  r = 0.02\n",
      "  b = 0.01\n",
      "  sigma = 0.1\n",
      "\n",
      "Option Price:\n",
      "\n",
      "  call: 2.061847\n",
      "  put: 0.002938\n"
     ]
    }
   ],
   "source": [
    "opt.summary()"
   ]
  },
  {
   "cell_type": "code",
   "execution_count": 8,
   "metadata": {},
   "outputs": [
    {
     "name": "stdout",
     "output_type": "stream",
     "text": [
      "Title: Black Scholes Option Valuation\n",
      "\n",
      "Parameters:\n",
      "\n",
      "  S = 10.0\n",
      "  K = 8.0\n",
      "  t = 1.0\n",
      "  r = 0.02\n",
      "  b = 0.01\n",
      "  sigma = 0.1\n",
      "\n",
      "Option Price:\n",
      "\n",
      "  call: 2.061847\n",
      "  put: 0.002938\n"
     ]
    }
   ],
   "source": [
    "print(opt)"
   ]
  },
  {
   "cell_type": "code",
   "execution_count": 9,
   "metadata": {},
   "outputs": [
    {
     "data": {
      "text/plain": [
       "GBSOption(10.0, 8.0, 1.0, 0.02, 0.01, 0.1)"
      ]
     },
     "execution_count": 9,
     "metadata": {},
     "output_type": "execute_result"
    }
   ],
   "source": [
    "opt"
   ]
  },
  {
   "cell_type": "code",
   "execution_count": 10,
   "metadata": {},
   "outputs": [
    {
     "data": {
      "text/plain": [
       "{'delta': 0.9815129867062496,\n",
       " 'theta': -0.06850330694238246,\n",
       " 'vega': 0.23177898972836455,\n",
       " 'rho': 7.7532828063294605,\n",
       " 'lambda': 4.760357862611294,\n",
       " 'gamma': 0.023177898972836456,\n",
       " 'CofC': 9.815129867062497}"
      ]
     },
     "execution_count": 10,
     "metadata": {},
     "output_type": "execute_result"
    }
   ],
   "source": [
    "opt.greeks()"
   ]
  },
  {
   "cell_type": "code",
   "execution_count": 11,
   "metadata": {},
   "outputs": [
    {
     "data": {
      "text/plain": [
       "{'delta': -0.008536847042918466,\n",
       " 'theta': -0.010676502588218456,\n",
       " 'vega': 0.23177898972836455,\n",
       " 'rho': -0.08830658012458127,\n",
       " 'lambda': -29.055576298922585,\n",
       " 'gamma': 0.023177898972836456,\n",
       " 'CofC': -0.0853684704291852}"
      ]
     },
     "execution_count": 11,
     "metadata": {},
     "output_type": "execute_result"
    }
   ],
   "source": [
    "opt.greeks(call=False)"
   ]
  },
  {
   "cell_type": "code",
   "execution_count": 12,
   "metadata": {},
   "outputs": [
    {
     "data": {
      "text/plain": [
       "{'S': 10.0, 'K': 8.0, 't': 1.0, 'r': 0.02, 'b': 0.01, 'sigma': 0.1}"
      ]
     },
     "execution_count": 12,
     "metadata": {},
     "output_type": "execute_result"
    }
   ],
   "source": [
    "opt.get_params()"
   ]
  },
  {
   "cell_type": "code",
   "execution_count": 13,
   "metadata": {},
   "outputs": [
    {
     "name": "stdout",
     "output_type": "stream",
     "text": [
      "0.5363510394818946\n"
     ]
    }
   ],
   "source": [
    "vol = ed.GBSOption(10.0, 8.0, 1.0, 0.02, 0.0, sigma=None)\n",
    "print(vol.volatility(3))"
   ]
  },
  {
   "cell_type": "code",
   "execution_count": 14,
   "metadata": {},
   "outputs": [
    {
     "data": {
      "text/plain": [
       "3.0000000000000044"
      ]
     },
     "execution_count": 14,
     "metadata": {},
     "output_type": "execute_result"
    }
   ],
   "source": [
    "ed.GBSOption(10.0, 8.0, 1.0, 0.02, 0.0, 0.5363510394818954).call()"
   ]
  },
  {
   "cell_type": "markdown",
   "metadata": {},
   "source": [
    "### Black 1977 Option"
   ]
  },
  {
   "cell_type": "code",
   "execution_count": 27,
   "metadata": {},
   "outputs": [],
   "source": [
    "bopt = ed.Black76Option(10.0, 8.0, 1.0, 0.02, 0.1)"
   ]
  },
  {
   "cell_type": "code",
   "execution_count": 28,
   "metadata": {},
   "outputs": [
    {
     "data": {
      "text/plain": [
       "Black76Option(10.0, 8.0, 1.0, 0.02, 0, 0.1)"
      ]
     },
     "execution_count": 28,
     "metadata": {},
     "output_type": "execute_result"
    }
   ],
   "source": [
    "bopt"
   ]
  },
  {
   "cell_type": "code",
   "execution_count": 29,
   "metadata": {},
   "outputs": [
    {
     "name": "stdout",
     "output_type": "stream",
     "text": [
      "Title: Black 1977 Option Valuation\n",
      "\n",
      "Parameters:\n",
      "\n",
      "  FT = 10.0\n",
      "  K = 8.0\n",
      "  t = 1.0\n",
      "  r = 0.02\n",
      "  b = 0\n",
      "  sigma = 0.1\n",
      "\n",
      "Option Price:\n",
      "\n",
      "  call: 1.96431\n",
      "  put: 0.003912\n"
     ]
    }
   ],
   "source": [
    "print(bopt)"
   ]
  },
  {
   "cell_type": "code",
   "execution_count": 30,
   "metadata": {},
   "outputs": [
    {
     "data": {
      "text/plain": [
       "{'FT': 10.0, 'K': 8.0, 't': 1.0, 'r': 0.02, 'b': 0, 'sigma': 0.1}"
      ]
     },
     "execution_count": 30,
     "metadata": {},
     "output_type": "execute_result"
    }
   ],
   "source": [
    "bopt.get_params()"
   ]
  },
  {
   "cell_type": "code",
   "execution_count": 31,
   "metadata": {},
   "outputs": [
    {
     "data": {
      "text/plain": [
       "1.1917617259924722"
      ]
     },
     "execution_count": 31,
     "metadata": {},
     "output_type": "execute_result"
    }
   ],
   "source": [
    "bopt.volatility(5)"
   ]
  },
  {
   "cell_type": "code",
   "execution_count": 32,
   "metadata": {},
   "outputs": [
    {
     "data": {
      "text/plain": [
       "{'FT': 10.0, 'K': 8.0, 't': 1.0, 'r': 0.02, 'b': 0, 'sigma': 0.1}"
      ]
     },
     "execution_count": 32,
     "metadata": {},
     "output_type": "execute_result"
    }
   ],
   "source": [
    "bopt.get_params()"
   ]
  },
  {
   "cell_type": "code",
   "execution_count": 59,
   "metadata": {},
   "outputs": [],
   "source": [
    "mopt = ed.MiltersenSchwartzOption(\n",
    "        Pt=np.exp(-0.05 / 4),\n",
    "        FT=95,\n",
    "        K=80,\n",
    "        t=1 / 4,\n",
    "        T=1 / 2,\n",
    "        sigmaS=0.2660,\n",
    "        sigmaE=0.2490,\n",
    "        sigmaF=0.0096,\n",
    "        rhoSE=0.805,\n",
    "        rhoSF=0.0805,\n",
    "        rhoEF=0.1243,\n",
    "        KappaE=1.045,\n",
    "        KappaF=0.200,\n",
    "    )"
   ]
  },
  {
   "cell_type": "code",
   "execution_count": 60,
   "metadata": {},
   "outputs": [
    {
     "data": {
      "text/plain": [
       "15.004682511978606"
      ]
     },
     "execution_count": 60,
     "metadata": {},
     "output_type": "execute_result"
    }
   ],
   "source": [
    "mopt.call()"
   ]
  },
  {
   "cell_type": "code",
   "execution_count": 61,
   "metadata": {},
   "outputs": [
    {
     "data": {
      "text/plain": [
       "{'Pt': 0.9875778004938814,\n",
       " 'FT': 95,\n",
       " 'K': 80,\n",
       " 't': 0.25,\n",
       " 'T': 0.5,\n",
       " 'sigmaS': 0.266,\n",
       " 'sigmaE': 0.249,\n",
       " 'sigmaF': 0.0096,\n",
       " 'rhoSE': 0.805,\n",
       " 'rhoSF': 0.0805,\n",
       " 'rhoEF': 0.1243,\n",
       " 'KappaE': 1.045,\n",
       " 'KappaF': 0.2}"
      ]
     },
     "execution_count": 61,
     "metadata": {},
     "output_type": "execute_result"
    }
   ],
   "source": [
    "mopt.get_params()"
   ]
  },
  {
   "cell_type": "code",
   "execution_count": 62,
   "metadata": {},
   "outputs": [
    {
     "name": "stdout",
     "output_type": "stream",
     "text": [
      "Title: Miltersen Schwartz Option Valuation\n",
      "\n",
      "Parameters:\n",
      "\n",
      "  Pt = 0.9875778004938814\n",
      "  FT = 95\n",
      "  K = 80\n",
      "  t = 0.25\n",
      "  T = 0.5\n",
      "  sigmaS = 0.266\n",
      "  sigmaE = 0.249\n",
      "  sigmaF = 0.0096\n",
      "  rhoSE = 0.805\n",
      "  rhoSF = 0.0805\n",
      "  rhoEF = 0.1243\n",
      "  KappaE = 1.045\n",
      "  KappaF = 0.2\n",
      "\n",
      "Option Price:\n",
      "\n",
      "  call: 15.004683\n",
      "  put: 0.191426\n"
     ]
    }
   ],
   "source": [
    "mopt.summary()"
   ]
  },
  {
   "cell_type": "code",
   "execution_count": 63,
   "metadata": {},
   "outputs": [
    {
     "data": {
      "text/plain": [
       "MiltersenSchwartzOption(0.9875778004938814, 95, 80, 0.25, 0.5, 0.266, 0.249, 0.0096, 0.805, 0.0805, 0.1243, 1.045, 0.2)"
      ]
     },
     "execution_count": 63,
     "metadata": {},
     "output_type": "execute_result"
    }
   ],
   "source": [
    "mopt"
   ]
  },
  {
   "cell_type": "code",
   "execution_count": 64,
   "metadata": {},
   "outputs": [
    {
     "name": "stdout",
     "output_type": "stream",
     "text": [
      "Title: Miltersen Schwartz Option Valuation\n",
      "\n",
      "Parameters:\n",
      "\n",
      "  Pt = 0.9875778004938814\n",
      "  FT = 95\n",
      "  K = 80\n",
      "  t = 0.25\n",
      "  T = 0.5\n",
      "  sigmaS = 0.266\n",
      "  sigmaE = 0.249\n",
      "  sigmaF = 0.0096\n",
      "  rhoSE = 0.805\n",
      "  rhoSF = 0.0805\n",
      "  rhoEF = 0.1243\n",
      "  KappaE = 1.045\n",
      "  KappaF = 0.2\n",
      "\n",
      "Option Price:\n",
      "\n",
      "  call: 15.004683\n",
      "  put: 0.191426\n"
     ]
    }
   ],
   "source": [
    "print(mopt)"
   ]
  },
  {
   "cell_type": "code",
   "execution_count": 65,
   "metadata": {},
   "outputs": [
    {
     "data": {
      "text/plain": [
       "0.9427019114803328"
      ]
     },
     "execution_count": 65,
     "metadata": {},
     "output_type": "execute_result"
    }
   ],
   "source": [
    "mopt.delta()"
   ]
  },
  {
   "cell_type": "code",
   "execution_count": 66,
   "metadata": {},
   "outputs": [
    {
     "data": {
      "text/plain": [
       "array([ 4.36537183, -0.89387399,  0.06553819])"
      ]
     },
     "execution_count": 66,
     "metadata": {},
     "output_type": "execute_result"
    }
   ],
   "source": [
    "mopt.vega()"
   ]
  },
  {
   "cell_type": "code",
   "execution_count": null,
   "metadata": {},
   "outputs": [],
   "source": []
  },
  {
   "cell_type": "code",
   "execution_count": 41,
   "metadata": {},
   "outputs": [
    {
     "data": {
      "text/plain": [
       "{'delta': 0.9427019114803328,\n",
       " 'theta': -2.1486160364725966,\n",
       " 'vega': (4.365371830028477, -0.8938739855897667, 0.06553819246212758),\n",
       " 'lambda': 5.968582242185819,\n",
       " 'gamma': 0.009467073284510696,\n",
       " 'CofC': None}"
      ]
     },
     "execution_count": 41,
     "metadata": {},
     "output_type": "execute_result"
    }
   ],
   "source": [
    "mopt.greeks()"
   ]
  },
  {
   "cell_type": "markdown",
   "metadata": {},
   "source": [
    "# Basic American Options"
   ]
  },
  {
   "cell_type": "code",
   "execution_count": 28,
   "metadata": {},
   "outputs": [
    {
     "name": "stdout",
     "output_type": "stream",
     "text": [
      "The autoreload extension is already loaded. To reload it, use:\n",
      "  %reload_ext autoreload\n"
     ]
    }
   ],
   "source": [
    "%load_ext autoreload\n",
    "%autoreload 2\n",
    "import energyderivatives as ed\n",
    "import numpy as np"
   ]
  },
  {
   "cell_type": "code",
   "execution_count": 29,
   "metadata": {},
   "outputs": [
    {
     "data": {
      "text/plain": [
       "energyderivatives.basic_american_options.BAWAmericanApproxOption"
      ]
     },
     "execution_count": 29,
     "metadata": {},
     "output_type": "execute_result"
    }
   ],
   "source": [
    "ed.basic_american_options.BAWAmericanApproxOption"
   ]
  },
  {
   "cell_type": "code",
   "execution_count": 30,
   "metadata": {},
   "outputs": [],
   "source": [
    "ropt = ed.basic_american_options.RollGeskeWhaleyOption(S=80, K=82, t=1/3, td=1/4, r=0.06, D=4, sigma=0.30)"
   ]
  },
  {
   "cell_type": "code",
   "execution_count": 31,
   "metadata": {},
   "outputs": [
    {
     "data": {
      "text/plain": [
       "4.386030003741627"
      ]
     },
     "execution_count": 31,
     "metadata": {},
     "output_type": "execute_result"
    }
   ],
   "source": [
    "ropt.call()"
   ]
  },
  {
   "cell_type": "code",
   "execution_count": 32,
   "metadata": {},
   "outputs": [
    {
     "data": {
      "text/plain": [
       "RollGeskeWhaleyOption(80, 82, 0.3333333333333333, 0.25, 0.06, 4, 0.3)"
      ]
     },
     "execution_count": 32,
     "metadata": {},
     "output_type": "execute_result"
    }
   ],
   "source": [
    "ropt"
   ]
  },
  {
   "cell_type": "code",
   "execution_count": 33,
   "metadata": {},
   "outputs": [
    {
     "name": "stdout",
     "output_type": "stream",
     "text": [
      "Title: Roll-Geske-Whaley Calls on Dividend Paying Stocks Valuation\n",
      "\n",
      "Parameters:\n",
      "\n",
      "  S = 80\n",
      "  K = 82\n",
      "  t = 0.3333333333333333\n",
      "  td = 0.25\n",
      "  r = 0.06\n",
      "  D = 4\n",
      "  sigma = 0.3\n",
      "\n",
      "Option Price:\n",
      "\n",
      "  call: 4.38603\n",
      "  Optimal to Exercise Call Option: True\n"
     ]
    }
   ],
   "source": [
    "print(ropt)"
   ]
  },
  {
   "cell_type": "code",
   "execution_count": 34,
   "metadata": {},
   "outputs": [
    {
     "data": {
      "text/plain": [
       "0.5022169959258055"
      ]
     },
     "execution_count": 34,
     "metadata": {},
     "output_type": "execute_result"
    }
   ],
   "source": [
    "ropt.delta()"
   ]
  },
  {
   "cell_type": "code",
   "execution_count": 35,
   "metadata": {},
   "outputs": [
    {
     "data": {
      "text/plain": [
       "{'delta': 0.5022169959258055,\n",
       " 'theta': -3.960344624327405,\n",
       " 'vega': 16.592680918642525,\n",
       " 'rho': 9.371235879854913,\n",
       " 'lambda': 9.160302058989565,\n",
       " 'gamma': 0.03356841049986253,\n",
       " 'CofC': None}"
      ]
     },
     "execution_count": 35,
     "metadata": {},
     "output_type": "execute_result"
    }
   ],
   "source": [
    "ropt.greeks()"
   ]
  },
  {
   "cell_type": "code",
   "execution_count": 36,
   "metadata": {},
   "outputs": [
    {
     "name": "stdout",
     "output_type": "stream",
     "text": [
      "Title: Roll-Geske-Whaley Calls on Dividend Paying Stocks Valuation\n",
      "\n",
      "Parameters:\n",
      "\n",
      "  S = 80\n",
      "  K = 82\n",
      "  t = 0.3333333333333333\n",
      "  td = 0.25\n",
      "  r = 0.06\n",
      "  D = 4\n",
      "  sigma = 0.3\n",
      "\n",
      "Option Price:\n",
      "\n",
      "  call: 4.38603\n",
      "  Optimal to Exercise Call Option: True\n"
     ]
    }
   ],
   "source": [
    "ropt.summary()"
   ]
  },
  {
   "cell_type": "code",
   "execution_count": 38,
   "metadata": {},
   "outputs": [
    {
     "data": {
      "text/plain": [
       "0.6328596836266412"
      ]
     },
     "execution_count": 38,
     "metadata": {},
     "output_type": "execute_result"
    }
   ],
   "source": [
    "rvol = ed.basic_american_options.RollGeskeWhaleyOption(S=80, K=82, t=1/3, td=1/4, r=0.06, D=4, sigma=None)\n",
    "rvol.volatility(10)"
   ]
  },
  {
   "cell_type": "code",
   "execution_count": 39,
   "metadata": {},
   "outputs": [],
   "source": [
    "bopt = ed.basic_american_options.BAWAmericanApproxOption(S = 100, K = 90, t = 0.5, r = 0.10, b = 0, sigma = 0.25)"
   ]
  },
  {
   "cell_type": "code",
   "execution_count": 40,
   "metadata": {},
   "outputs": [
    {
     "data": {
      "text/plain": [
       "'BAWAmericanApproxOption'"
      ]
     },
     "execution_count": 40,
     "metadata": {},
     "output_type": "execute_result"
    }
   ],
   "source": [
    "bopt.__name__"
   ]
  },
  {
   "cell_type": "code",
   "execution_count": 41,
   "metadata": {},
   "outputs": [
    {
     "data": {
      "text/plain": [
       "12.44166279190568"
      ]
     },
     "execution_count": 41,
     "metadata": {},
     "output_type": "execute_result"
    }
   ],
   "source": [
    "bopt.call()"
   ]
  },
  {
   "cell_type": "code",
   "execution_count": 42,
   "metadata": {},
   "outputs": [
    {
     "data": {
      "text/plain": [
       "2.7436097188998456"
      ]
     },
     "execution_count": 42,
     "metadata": {},
     "output_type": "execute_result"
    }
   ],
   "source": [
    "bopt.put()"
   ]
  },
  {
   "cell_type": "code",
   "execution_count": 43,
   "metadata": {},
   "outputs": [
    {
     "name": "stdout",
     "output_type": "stream",
     "text": [
      "Title: Barone-Adesi and Whaley Approximation Valuation\n",
      "\n",
      "Parameters:\n",
      "\n",
      "  S = 100\n",
      "  K = 90\n",
      "  t = 0.5\n",
      "  r = 0.1\n",
      "  b = 0\n",
      "  sigma = 0.25\n",
      "\n",
      "Option Price:\n",
      "\n",
      "  call: 12.441663\n",
      "  put: 2.74361\n"
     ]
    }
   ],
   "source": [
    "bopt.summary()"
   ]
  },
  {
   "cell_type": "code",
   "execution_count": 44,
   "metadata": {},
   "outputs": [
    {
     "data": {
      "text/plain": [
       "{'delta': 0.7359424889435694,\n",
       " 'theta': -4.6823920234771945,\n",
       " 'vega': 21.328855605606133,\n",
       " 'rho': -3.297152793548391,\n",
       " 'lambda': 5.915145758671102,\n",
       " 'gamma': 0.018471927996037592,\n",
       " 'CofC': None}"
      ]
     },
     "execution_count": 44,
     "metadata": {},
     "output_type": "execute_result"
    }
   ],
   "source": [
    "bopt.greeks()"
   ]
  },
  {
   "cell_type": "code",
   "execution_count": 45,
   "metadata": {},
   "outputs": [],
   "source": [
    "bsopt = ed.basic_american_options.BSAmericanApproxOption(S = 100, K = 90, t = 0.5, r = 0.10, b = 0, sigma = 0.25)"
   ]
  },
  {
   "cell_type": "code",
   "execution_count": 46,
   "metadata": {},
   "outputs": [
    {
     "data": {
      "text/plain": [
       "{'OptionPrice': 12.39888578756754, 'TriggerPrice': 115.27226475479983}"
      ]
     },
     "execution_count": 46,
     "metadata": {},
     "output_type": "execute_result"
    }
   ],
   "source": [
    "bsopt.call()"
   ]
  },
  {
   "cell_type": "code",
   "execution_count": 47,
   "metadata": {},
   "outputs": [
    {
     "data": {
      "text/plain": [
       "{'OptionPrice': 2.714363003364042, 'TriggerPrice': 128.0802941719998}"
      ]
     },
     "execution_count": 47,
     "metadata": {},
     "output_type": "execute_result"
    }
   ],
   "source": [
    "bsopt.put()"
   ]
  },
  {
   "cell_type": "code",
   "execution_count": 48,
   "metadata": {},
   "outputs": [
    {
     "data": {
      "text/plain": [
       "21.127946527008707"
      ]
     },
     "execution_count": 48,
     "metadata": {},
     "output_type": "execute_result"
    }
   ],
   "source": [
    "bsopt.vega()"
   ]
  },
  {
   "cell_type": "code",
   "execution_count": 49,
   "metadata": {},
   "outputs": [
    {
     "data": {
      "text/plain": [
       "{'delta': 0.7357854043086473,\n",
       " 'theta': -4.554175462491147,\n",
       " 'vega': 21.127946527008707,\n",
       " 'rho': -3.686679020784407,\n",
       " 'lambda': 5.934286490858921,\n",
       " 'gamma': 0.018292906571849895,\n",
       " 'CofC': None}"
      ]
     },
     "execution_count": 49,
     "metadata": {},
     "output_type": "execute_result"
    }
   ],
   "source": [
    "bsopt.greeks()"
   ]
  },
  {
   "cell_type": "code",
   "execution_count": 50,
   "metadata": {},
   "outputs": [
    {
     "name": "stdout",
     "output_type": "stream",
     "text": [
      "Title: The Bjerksund and Stensland (1993) American Approximation Option Valuation\n",
      "\n",
      "Parameters:\n",
      "\n",
      "  S = 100\n",
      "  K = 90\n",
      "  t = 0.5\n",
      "  r = 0.1\n",
      "  b = 0\n",
      "  sigma = 0.25\n",
      "\n",
      "Option Price:\n",
      "\n",
      "  call: 12.398886, trigger: 115.272265\n",
      "  put: 2.714363, trigger: 128.080294\n"
     ]
    }
   ],
   "source": [
    "bsopt.summary()"
   ]
  },
  {
   "cell_type": "code",
   "execution_count": 57,
   "metadata": {},
   "outputs": [],
   "source": [
    "bsopt = ed.basic_american_options.BSAmericanApproxOption(10.0, 8.0, 1.0, 0.02, 0.01, 0.1).call()"
   ]
  },
  {
   "cell_type": "code",
   "execution_count": 58,
   "metadata": {},
   "outputs": [
    {
     "data": {
      "text/plain": [
       "{'OptionPrice': 2.061847060733921, 'TriggerPrice': 18.598685762314446}"
      ]
     },
     "execution_count": 58,
     "metadata": {},
     "output_type": "execute_result"
    }
   ],
   "source": [
    "bsopt"
   ]
  },
  {
   "cell_type": "code",
   "execution_count": 59,
   "metadata": {},
   "outputs": [
    {
     "ename": "AttributeError",
     "evalue": "'dict' object has no attribute '_volatility'",
     "output_type": "error",
     "traceback": [
      "\u001b[0;31m---------------------------------------------------------------------------\u001b[0m",
      "\u001b[0;31mAttributeError\u001b[0m                            Traceback (most recent call last)",
      "\u001b[0;32m<ipython-input-59-ab22d8ef4a0e>\u001b[0m in \u001b[0;36m<module>\u001b[0;34m\u001b[0m\n\u001b[0;32m----> 1\u001b[0;31m \u001b[0mbsopt\u001b[0m\u001b[0;34m.\u001b[0m\u001b[0m_volatility\u001b[0m\u001b[0;34m(\u001b[0m\u001b[0;36m11\u001b[0m\u001b[0;34m)\u001b[0m\u001b[0;34m\u001b[0m\u001b[0;34m\u001b[0m\u001b[0m\n\u001b[0m",
      "\u001b[0;31mAttributeError\u001b[0m: 'dict' object has no attribute '_volatility'"
     ]
    }
   ],
   "source": [
    "bsopt._volatility(11)"
   ]
  },
  {
   "cell_type": "markdown",
   "metadata": {},
   "source": [
    "# Bionomial Tree Models"
   ]
  },
  {
   "cell_type": "code",
   "execution_count": null,
   "metadata": {},
   "outputs": [],
   "source": [
    "btopt = ed.binomial_tree_options.CRRBinomialTreeOption(S=50, K=50, t=5/12, r=0.1, b=0.1, sigma=0.4)"
   ]
  },
  {
   "cell_type": "code",
   "execution_count": null,
   "metadata": {},
   "outputs": [],
   "source": [
    "btopt.call()"
   ]
  },
  {
   "cell_type": "code",
   "execution_count": null,
   "metadata": {},
   "outputs": [],
   "source": [
    "btopt.put()"
   ]
  },
  {
   "cell_type": "code",
   "execution_count": null,
   "metadata": {},
   "outputs": [],
   "source": [
    "btopt.call(type='american')"
   ]
  },
  {
   "cell_type": "code",
   "execution_count": null,
   "metadata": {},
   "outputs": [],
   "source": [
    "btopt.put(type='american')"
   ]
  },
  {
   "cell_type": "code",
   "execution_count": null,
   "metadata": {},
   "outputs": [],
   "source": []
  }
 ],
 "metadata": {
  "interpreter": {
   "hash": "7ecaa5e4cf084b92ad46a1abe9631eda4149286ae5750bc25776b0730d4a30b3"
  },
  "kernelspec": {
   "display_name": "Python 3",
   "language": "python",
   "name": "python3"
  },
  "language_info": {
   "codemirror_mode": {
    "name": "ipython",
    "version": 3
   },
   "file_extension": ".py",
   "mimetype": "text/x-python",
   "name": "python",
   "nbconvert_exporter": "python",
   "pygments_lexer": "ipython3",
   "version": "3.9.5"
  }
 },
 "nbformat": 4,
 "nbformat_minor": 4
}
