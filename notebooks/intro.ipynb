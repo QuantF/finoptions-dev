{
 "metadata": {
  "language_info": {
   "codemirror_mode": {
    "name": "ipython",
    "version": 3
   },
   "file_extension": ".py",
   "mimetype": "text/x-python",
   "name": "python",
   "nbconvert_exporter": "python",
   "pygments_lexer": "ipython3",
   "version": "3.9.5"
  },
  "orig_nbformat": 4,
  "kernelspec": {
   "name": "python3",
   "display_name": "Python 3.9.5 64-bit (conda)"
  },
  "interpreter": {
   "hash": "7ecaa5e4cf084b92ad46a1abe9631eda4149286ae5750bc25776b0730d4a30b3"
  }
 },
 "nbformat": 4,
 "nbformat_minor": 2,
 "cells": [
  {
   "cell_type": "code",
   "execution_count": 1,
   "metadata": {},
   "outputs": [],
   "source": [
    "%load_ext autoreload\n",
    "%autoreload 2\n",
    "import energyderivatives as ed"
   ]
  },
  {
   "cell_type": "code",
   "execution_count": 34,
   "metadata": {},
   "outputs": [],
   "source": [
    "opt = ed.GBSOption(10.0, 8.0, 1, 0.02, 0.0, 0.1)"
   ]
  },
  {
   "cell_type": "code",
   "execution_count": 35,
   "metadata": {},
   "outputs": [
    {
     "output_type": "execute_result",
     "data": {
      "text/plain": [
       "1.9643096613792528"
      ]
     },
     "metadata": {},
     "execution_count": 35
    }
   ],
   "source": [
    "opt.call()"
   ]
  },
  {
   "cell_type": "code",
   "execution_count": 36,
   "metadata": {},
   "outputs": [
    {
     "output_type": "execute_result",
     "data": {
      "text/plain": [
       "0.00391231476574308"
      ]
     },
     "metadata": {},
     "execution_count": 36
    }
   ],
   "source": [
    "opt.put()"
   ]
  },
  {
   "cell_type": "code",
   "execution_count": 37,
   "metadata": {},
   "outputs": [
    {
     "output_type": "execute_result",
     "data": {
      "text/plain": [
       "GBSOption(10.0, 8.0, 1, 0.02, 0.0, 0.1)"
      ]
     },
     "metadata": {},
     "execution_count": 37
    }
   ],
   "source": [
    "opt"
   ]
  },
  {
   "cell_type": "code",
   "execution_count": 38,
   "metadata": {},
   "outputs": [
    {
     "output_type": "stream",
     "name": "stdout",
     "text": [
      "\n        Title: Black Scholes Option Valuation\n\n        Parameters:\n            S = 10.0\n            K = 8.0\n            t = 1\n            r = 0.02\n            b = 0.0\n            sigma = 0.1\n        \n        Option Price:\n            call: 1.96431\n            put: 0.003912\n        \n"
     ]
    }
   ],
   "source": [
    "opt.summary()"
   ]
  },
  {
   "cell_type": "code",
   "execution_count": 39,
   "metadata": {},
   "outputs": [
    {
     "output_type": "execute_result",
     "data": {
      "text/plain": [
       "{'delta': 0.9691603507911826,\n",
       " 'theta': 0.024800006369562255,\n",
       " 'vega': 0.28972373716045574,\n",
       " 'rho': -1.9643096613792528,\n",
       " 'lambda': 4.933847090639875,\n",
       " 'gamma': 0.028972373716045573,\n",
       " 'CofC': 9.691603507911825}"
      ]
     },
     "metadata": {},
     "execution_count": 39
    }
   ],
   "source": [
    "opt.greeks()"
   ]
  },
  {
   "cell_type": "code",
   "execution_count": 40,
   "metadata": {},
   "outputs": [
    {
     "output_type": "execute_result",
     "data": {
      "text/plain": [
       "{'S': 10.0, 'K': 8.0, 't': 1, 'r': 0.02, 'b': 0.0, 'sigma': 0.1}"
      ]
     },
     "metadata": {},
     "execution_count": 40
    }
   ],
   "source": [
    "opt.get_params()"
   ]
  },
  {
   "cell_type": "code",
   "execution_count": 42,
   "metadata": {},
   "outputs": [
    {
     "output_type": "stream",
     "name": "stdout",
     "text": [
      "0.5363510394818946\n"
     ]
    }
   ],
   "source": [
    "vol = ed.GBSOption(10.0, 8.0, 1.0, 0.02, 0.0, sigma=None)\n",
    "\n",
    "print(vol.volatility(3).root)"
   ]
  },
  {
   "cell_type": "code",
   "execution_count": null,
   "metadata": {},
   "outputs": [],
   "source": []
  }
 ]
}