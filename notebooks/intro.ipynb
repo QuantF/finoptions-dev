{
 "cells": [
  {
   "cell_type": "markdown",
   "source": [
    "# Vanilla Options"
   ],
   "metadata": {}
  },
  {
   "cell_type": "code",
   "execution_count": 1,
   "source": [
    "%load_ext autoreload\n",
    "%autoreload 2\n",
    "import energyderivatives as ed\n",
    "import numpy as np"
   ],
   "outputs": [],
   "metadata": {}
  },
  {
   "cell_type": "code",
   "execution_count": 2,
   "source": [
    "opt = ed.GBSOption(10.0, 8.0, 1.0, 0.02, 0.01, 0.1)"
   ],
   "outputs": [],
   "metadata": {}
  },
  {
   "cell_type": "code",
   "execution_count": 3,
   "source": [
    "opt.call()"
   ],
   "outputs": [
    {
     "output_type": "execute_result",
     "data": {
      "text/plain": [
       "2.0618470607330366"
      ]
     },
     "metadata": {},
     "execution_count": 3
    }
   ],
   "metadata": {}
  },
  {
   "cell_type": "code",
   "execution_count": 4,
   "source": [
    "opt.put()"
   ],
   "outputs": [
    {
     "output_type": "execute_result",
     "data": {
      "text/plain": [
       "0.0029381096953960684"
      ]
     },
     "metadata": {},
     "execution_count": 4
    }
   ],
   "metadata": {}
  },
  {
   "cell_type": "code",
   "execution_count": 5,
   "source": [
    "opt"
   ],
   "outputs": [
    {
     "output_type": "execute_result",
     "data": {
      "text/plain": [
       "GBSOption(10.0, 8.0, 1.0, 0.02, 0.01, 0.1)"
      ]
     },
     "metadata": {},
     "execution_count": 5
    }
   ],
   "metadata": {}
  },
  {
   "cell_type": "code",
   "execution_count": 6,
   "source": [
    "?opt.summary"
   ],
   "outputs": [
    {
     "output_type": "stream",
     "name": "stdout",
     "text": [
      "\u001b[0;31mSignature:\u001b[0m \u001b[0mopt\u001b[0m\u001b[0;34m.\u001b[0m\u001b[0msummary\u001b[0m\u001b[0;34m(\u001b[0m\u001b[0mprinter\u001b[0m\u001b[0;34m=\u001b[0m\u001b[0;32mTrue\u001b[0m\u001b[0;34m)\u001b[0m\u001b[0;34m\u001b[0m\u001b[0;34m\u001b[0m\u001b[0m\n",
      "\u001b[0;31mDocstring:\u001b[0m\n",
      "Print summary report of option\n",
      "\n",
      "Parameters\n",
      "----------\n",
      "printer : bool\n",
      "    True to print summary. False to return a string.\n",
      "\u001b[0;31mFile:\u001b[0m      ~/PROJECTS/energyderivatives-dev/src/energyderivatives/base.py\n",
      "\u001b[0;31mType:\u001b[0m      method\n"
     ]
    }
   ],
   "metadata": {}
  },
  {
   "cell_type": "code",
   "execution_count": 7,
   "source": [
    "opt.summary()"
   ],
   "outputs": [
    {
     "output_type": "stream",
     "name": "stdout",
     "text": [
      "Title: Black Scholes Option Valuation\n",
      "\n",
      "Parameters:\n",
      "\n",
      "  S = 10.0\n",
      "  K = 8.0\n",
      "  t = 1.0\n",
      "  r = 0.02\n",
      "  b = 0.01\n",
      "  sigma = 0.1\n",
      "\n",
      "Option Price:\n",
      "\n",
      "  call: 2.061847\n",
      "  put: 0.002938\n"
     ]
    }
   ],
   "metadata": {}
  },
  {
   "cell_type": "code",
   "execution_count": 8,
   "source": [
    "print(opt)"
   ],
   "outputs": [
    {
     "output_type": "stream",
     "name": "stdout",
     "text": [
      "Title: Black Scholes Option Valuation\n",
      "\n",
      "Parameters:\n",
      "\n",
      "  S = 10.0\n",
      "  K = 8.0\n",
      "  t = 1.0\n",
      "  r = 0.02\n",
      "  b = 0.01\n",
      "  sigma = 0.1\n",
      "\n",
      "Option Price:\n",
      "\n",
      "  call: 2.061847\n",
      "  put: 0.002938\n"
     ]
    }
   ],
   "metadata": {}
  },
  {
   "cell_type": "code",
   "execution_count": 9,
   "source": [
    "opt"
   ],
   "outputs": [
    {
     "output_type": "execute_result",
     "data": {
      "text/plain": [
       "GBSOption(10.0, 8.0, 1.0, 0.02, 0.01, 0.1)"
      ]
     },
     "metadata": {},
     "execution_count": 9
    }
   ],
   "metadata": {}
  },
  {
   "cell_type": "code",
   "execution_count": 10,
   "source": [
    "opt.greeks()"
   ],
   "outputs": [
    {
     "output_type": "execute_result",
     "data": {
      "text/plain": [
       "{'delta': 0.9815129867062496,\n",
       " 'theta': -0.06850330694238246,\n",
       " 'vega': 0.23177898972836455,\n",
       " 'rho': 7.7532828063294605,\n",
       " 'lambda': 4.760357862611294,\n",
       " 'gamma': 0.023177898972836456,\n",
       " 'CofC': 9.815129867062497}"
      ]
     },
     "metadata": {},
     "execution_count": 10
    }
   ],
   "metadata": {}
  },
  {
   "cell_type": "code",
   "execution_count": 11,
   "source": [
    "opt.greeks(call=False)"
   ],
   "outputs": [
    {
     "output_type": "execute_result",
     "data": {
      "text/plain": [
       "{'delta': -0.008536847042918466,\n",
       " 'theta': -0.010676502588218456,\n",
       " 'vega': 0.23177898972836455,\n",
       " 'rho': -0.08830658012458127,\n",
       " 'lambda': -29.055576298922585,\n",
       " 'gamma': 0.023177898972836456,\n",
       " 'CofC': -0.0853684704291852}"
      ]
     },
     "metadata": {},
     "execution_count": 11
    }
   ],
   "metadata": {}
  },
  {
   "cell_type": "code",
   "execution_count": 12,
   "source": [
    "opt.get_params()"
   ],
   "outputs": [
    {
     "output_type": "execute_result",
     "data": {
      "text/plain": [
       "{'S': 10.0, 'K': 8.0, 't': 1.0, 'r': 0.02, 'b': 0.01, 'sigma': 0.1}"
      ]
     },
     "metadata": {},
     "execution_count": 12
    }
   ],
   "metadata": {}
  },
  {
   "cell_type": "code",
   "execution_count": 13,
   "source": [
    "vol = ed.GBSOption(10.0, 8.0, 1.0, 0.02, 0.0, sigma=None)\n",
    "print(vol.volatility(3))"
   ],
   "outputs": [
    {
     "output_type": "stream",
     "name": "stdout",
     "text": [
      "0.5363510394818946\n"
     ]
    }
   ],
   "metadata": {}
  },
  {
   "cell_type": "code",
   "execution_count": 14,
   "source": [
    "ed.GBSOption(10.0, 8.0, 1.0, 0.02, 0.0, 0.5363510394818954).call()"
   ],
   "outputs": [
    {
     "output_type": "execute_result",
     "data": {
      "text/plain": [
       "3.0000000000000044"
      ]
     },
     "metadata": {},
     "execution_count": 14
    }
   ],
   "metadata": {}
  },
  {
   "cell_type": "markdown",
   "source": [
    "### Black 1977 Option"
   ],
   "metadata": {}
  },
  {
   "cell_type": "code",
   "execution_count": 15,
   "source": [
    "bopt = ed.Black76Option(10.0, 8.0, 1.0, 0.02, 0.1)"
   ],
   "outputs": [],
   "metadata": {}
  },
  {
   "cell_type": "code",
   "execution_count": 16,
   "source": [
    "bopt"
   ],
   "outputs": [
    {
     "output_type": "execute_result",
     "data": {
      "text/plain": [
       "Black76Option(10.0, 8.0, 1.0, 0.02, 0, 0.1)"
      ]
     },
     "metadata": {},
     "execution_count": 16
    }
   ],
   "metadata": {}
  },
  {
   "cell_type": "code",
   "execution_count": 17,
   "source": [
    "print(bopt)"
   ],
   "outputs": [
    {
     "output_type": "stream",
     "name": "stdout",
     "text": [
      "Title: Black 1977 Option Valuation\n",
      "\n",
      "Parameters:\n",
      "\n",
      "  FT = 10.0\n",
      "  K = 8.0\n",
      "  t = 1.0\n",
      "  r = 0.02\n",
      "  b = 0\n",
      "  sigma = 0.1\n",
      "\n",
      "Option Price:\n",
      "\n",
      "  call: 1.96431\n",
      "  put: 0.003912\n"
     ]
    }
   ],
   "metadata": {}
  },
  {
   "cell_type": "code",
   "execution_count": 18,
   "source": [
    "bopt.get_params()"
   ],
   "outputs": [
    {
     "output_type": "execute_result",
     "data": {
      "text/plain": [
       "{'FT': 10.0, 'K': 8.0, 't': 1.0, 'r': 0.02, 'b': 0, 'sigma': 0.1}"
      ]
     },
     "metadata": {},
     "execution_count": 18
    }
   ],
   "metadata": {}
  },
  {
   "cell_type": "code",
   "execution_count": 19,
   "source": [
    "bopt.volatility(5)"
   ],
   "outputs": [
    {
     "output_type": "stream",
     "name": "stderr",
     "text": [
      "/home/bcho/PROJECTS/energyderivatives-dev/src/energyderivatives/base.py:506: UserWarning: sigma is not None but calculating implied volatility.\n",
      "  _warnings.warn(\"sigma is not None but calculating implied volatility.\")\n"
     ]
    },
    {
     "output_type": "execute_result",
     "data": {
      "text/plain": [
       "1.1917617259924722"
      ]
     },
     "metadata": {},
     "execution_count": 19
    }
   ],
   "metadata": {}
  },
  {
   "cell_type": "code",
   "execution_count": 20,
   "source": [
    "bopt.get_params()"
   ],
   "outputs": [
    {
     "output_type": "execute_result",
     "data": {
      "text/plain": [
       "{'FT': 10.0, 'K': 8.0, 't': 1.0, 'r': 0.02, 'b': 0, 'sigma': 0.1}"
      ]
     },
     "metadata": {},
     "execution_count": 20
    }
   ],
   "metadata": {}
  },
  {
   "cell_type": "code",
   "execution_count": 21,
   "source": [
    "mopt = ed.MiltersenSchwartzOption(\n",
    "        Pt=np.exp(-0.05 / 4),\n",
    "        FT=95,\n",
    "        K=80,\n",
    "        t=1 / 4,\n",
    "        T=1 / 2,\n",
    "        sigmaS=0.2660,\n",
    "        sigmaE=0.2490,\n",
    "        sigmaF=0.0096,\n",
    "        rhoSE=0.805,\n",
    "        rhoSF=0.0805,\n",
    "        rhoEF=0.1243,\n",
    "        KappaE=1.045,\n",
    "        KappaF=0.200,\n",
    "    )"
   ],
   "outputs": [],
   "metadata": {}
  },
  {
   "cell_type": "code",
   "execution_count": 22,
   "source": [
    "mopt.call()"
   ],
   "outputs": [
    {
     "output_type": "execute_result",
     "data": {
      "text/plain": [
       "15.004682511978606"
      ]
     },
     "metadata": {},
     "execution_count": 22
    }
   ],
   "metadata": {}
  },
  {
   "cell_type": "code",
   "execution_count": 23,
   "source": [
    "mopt.get_params()"
   ],
   "outputs": [
    {
     "output_type": "execute_result",
     "data": {
      "text/plain": [
       "{'Pt': 0.9875778004938814,\n",
       " 'FT': 95,\n",
       " 'K': 80,\n",
       " 't': 0.25,\n",
       " 'T': 0.5,\n",
       " 'sigmaS': 0.266,\n",
       " 'sigmaE': 0.249,\n",
       " 'sigmaF': 0.0096,\n",
       " 'rhoSE': 0.805,\n",
       " 'rhoSF': 0.0805,\n",
       " 'rhoEF': 0.1243,\n",
       " 'KappaE': 1.045,\n",
       " 'KappaF': 0.2}"
      ]
     },
     "metadata": {},
     "execution_count": 23
    }
   ],
   "metadata": {}
  },
  {
   "cell_type": "code",
   "execution_count": 24,
   "source": [
    "mopt.summary()"
   ],
   "outputs": [
    {
     "output_type": "stream",
     "name": "stdout",
     "text": [
      "Title: Miltersen Schwartz Option Valuation\n",
      "\n",
      "Parameters:\n",
      "\n",
      "  Pt = 0.9875778004938814\n",
      "  FT = 95\n",
      "  K = 80\n",
      "  t = 0.25\n",
      "  T = 0.5\n",
      "  sigmaS = 0.266\n",
      "  sigmaE = 0.249\n",
      "  sigmaF = 0.0096\n",
      "  rhoSE = 0.805\n",
      "  rhoSF = 0.0805\n",
      "  rhoEF = 0.1243\n",
      "  KappaE = 1.045\n",
      "  KappaF = 0.2\n",
      "\n",
      "Option Price:\n",
      "\n",
      "  call: 15.004683\n",
      "  put: 0.191426\n"
     ]
    }
   ],
   "metadata": {}
  },
  {
   "cell_type": "code",
   "execution_count": 25,
   "source": [
    "mopt"
   ],
   "outputs": [
    {
     "output_type": "execute_result",
     "data": {
      "text/plain": [
       "MiltersenSchwartzOption(0.9875778004938814, 95, 80, 0.25, 0.5, 0.266, 0.249, 0.0096, 0.805, 0.0805, 0.1243, 1.045, 0.2)"
      ]
     },
     "metadata": {},
     "execution_count": 25
    }
   ],
   "metadata": {}
  },
  {
   "cell_type": "code",
   "execution_count": 26,
   "source": [
    "print(mopt)"
   ],
   "outputs": [
    {
     "output_type": "stream",
     "name": "stdout",
     "text": [
      "Title: Miltersen Schwartz Option Valuation\n",
      "\n",
      "Parameters:\n",
      "\n",
      "  Pt = 0.9875778004938814\n",
      "  FT = 95\n",
      "  K = 80\n",
      "  t = 0.25\n",
      "  T = 0.5\n",
      "  sigmaS = 0.266\n",
      "  sigmaE = 0.249\n",
      "  sigmaF = 0.0096\n",
      "  rhoSE = 0.805\n",
      "  rhoSF = 0.0805\n",
      "  rhoEF = 0.1243\n",
      "  KappaE = 1.045\n",
      "  KappaF = 0.2\n",
      "\n",
      "Option Price:\n",
      "\n",
      "  call: 15.004683\n",
      "  put: 0.191426\n"
     ]
    }
   ],
   "metadata": {}
  },
  {
   "cell_type": "code",
   "execution_count": 27,
   "source": [
    "mopt.delta()"
   ],
   "outputs": [
    {
     "output_type": "execute_result",
     "data": {
      "text/plain": [
       "0.9427019114803328"
      ]
     },
     "metadata": {},
     "execution_count": 27
    }
   ],
   "metadata": {}
  },
  {
   "cell_type": "code",
   "execution_count": 28,
   "source": [
    "mopt.vega()"
   ],
   "outputs": [
    {
     "output_type": "execute_result",
     "data": {
      "text/plain": [
       "array([ 4.36537183, -0.89387399,  0.06553819])"
      ]
     },
     "metadata": {},
     "execution_count": 28
    }
   ],
   "metadata": {}
  },
  {
   "cell_type": "code",
   "execution_count": 29,
   "source": [
    "mopt.greeks()"
   ],
   "outputs": [
    {
     "output_type": "execute_result",
     "data": {
      "text/plain": [
       "{'delta': 0.9427019114803328,\n",
       " 'theta': -2.1486160364725966,\n",
       " 'vega': array([ 4.36537183, -0.89387399,  0.06553819]),\n",
       " 'lambda': 5.968582242185819,\n",
       " 'gamma': 0.009467073284510696,\n",
       " 'CofC': None}"
      ]
     },
     "metadata": {},
     "execution_count": 29
    }
   ],
   "metadata": {}
  },
  {
   "cell_type": "markdown",
   "source": [
    "# Basic American Options"
   ],
   "metadata": {}
  },
  {
   "cell_type": "code",
   "execution_count": 30,
   "source": [
    "%load_ext autoreload\n",
    "%autoreload 2\n",
    "import energyderivatives as ed\n",
    "import numpy as np"
   ],
   "outputs": [
    {
     "output_type": "stream",
     "name": "stdout",
     "text": [
      "The autoreload extension is already loaded. To reload it, use:\n",
      "  %reload_ext autoreload\n"
     ]
    }
   ],
   "metadata": {}
  },
  {
   "cell_type": "code",
   "execution_count": 31,
   "source": [
    "ed.basic_american_options.BAWAmericanApproxOption"
   ],
   "outputs": [
    {
     "output_type": "execute_result",
     "data": {
      "text/plain": [
       "energyderivatives.basic_american_options.BAWAmericanApproxOption"
      ]
     },
     "metadata": {},
     "execution_count": 31
    }
   ],
   "metadata": {}
  },
  {
   "cell_type": "code",
   "execution_count": 32,
   "source": [
    "ropt = ed.basic_american_options.RollGeskeWhaleyOption(S=80, K=82, t=1/3, td=1/4, r=0.06, D=4, sigma=0.30)"
   ],
   "outputs": [],
   "metadata": {}
  },
  {
   "cell_type": "code",
   "execution_count": 33,
   "source": [
    "ropt.call()"
   ],
   "outputs": [
    {
     "output_type": "execute_result",
     "data": {
      "text/plain": [
       "4.386030003741627"
      ]
     },
     "metadata": {},
     "execution_count": 33
    }
   ],
   "metadata": {}
  },
  {
   "cell_type": "code",
   "execution_count": 34,
   "source": [
    "ropt"
   ],
   "outputs": [
    {
     "output_type": "execute_result",
     "data": {
      "text/plain": [
       "RollGeskeWhaleyOption(80, 82, 0.3333333333333333, 0.25, 0.06, 4, 0.3)"
      ]
     },
     "metadata": {},
     "execution_count": 34
    }
   ],
   "metadata": {}
  },
  {
   "cell_type": "code",
   "execution_count": 35,
   "source": [
    "print(ropt)"
   ],
   "outputs": [
    {
     "output_type": "stream",
     "name": "stdout",
     "text": [
      "Title: Roll-Geske-Whaley Calls on Dividend Paying Stocks Valuation\n",
      "\n",
      "Parameters:\n",
      "\n",
      "  S = 80\n",
      "  K = 82\n",
      "  t = 0.3333333333333333\n",
      "  td = 0.25\n",
      "  r = 0.06\n",
      "  D = 4\n",
      "  sigma = 0.3\n",
      "\n",
      "Option Price:\n",
      "\n",
      "  call: 4.38603\n",
      "  Optimal to Exercise Call Option: True\n"
     ]
    }
   ],
   "metadata": {}
  },
  {
   "cell_type": "code",
   "execution_count": 36,
   "source": [
    "ropt.delta()"
   ],
   "outputs": [
    {
     "output_type": "execute_result",
     "data": {
      "text/plain": [
       "0.5022169959258055"
      ]
     },
     "metadata": {},
     "execution_count": 36
    }
   ],
   "metadata": {}
  },
  {
   "cell_type": "code",
   "execution_count": 37,
   "source": [
    "ropt.greeks()"
   ],
   "outputs": [
    {
     "output_type": "execute_result",
     "data": {
      "text/plain": [
       "{'delta': 0.5022169959258055,\n",
       " 'theta': -3.960344624327405,\n",
       " 'vega': 16.592680918642525,\n",
       " 'rho': 9.371235879854913,\n",
       " 'lambda': 9.160302058989565,\n",
       " 'gamma': 0.03356841049986253,\n",
       " 'CofC': None}"
      ]
     },
     "metadata": {},
     "execution_count": 37
    }
   ],
   "metadata": {}
  },
  {
   "cell_type": "code",
   "execution_count": 38,
   "source": [
    "ropt.summary()"
   ],
   "outputs": [
    {
     "output_type": "stream",
     "name": "stdout",
     "text": [
      "Title: Roll-Geske-Whaley Calls on Dividend Paying Stocks Valuation\n",
      "\n",
      "Parameters:\n",
      "\n",
      "  S = 80\n",
      "  K = 82\n",
      "  t = 0.3333333333333333\n",
      "  td = 0.25\n",
      "  r = 0.06\n",
      "  D = 4\n",
      "  sigma = 0.3\n",
      "\n",
      "Option Price:\n",
      "\n",
      "  call: 4.38603\n",
      "  Optimal to Exercise Call Option: True\n"
     ]
    }
   ],
   "metadata": {}
  },
  {
   "cell_type": "code",
   "execution_count": 39,
   "source": [
    "rvol = ed.basic_american_options.RollGeskeWhaleyOption(S=80, K=82, t=1/3, td=1/4, r=0.06, D=4, sigma=None)\n",
    "rvol.volatility(10)"
   ],
   "outputs": [
    {
     "output_type": "execute_result",
     "data": {
      "text/plain": [
       "0.6328596836266412"
      ]
     },
     "metadata": {},
     "execution_count": 39
    }
   ],
   "metadata": {}
  },
  {
   "cell_type": "code",
   "execution_count": 40,
   "source": [
    "bopt = ed.basic_american_options.BAWAmericanApproxOption(S = 100, K = 90, t = 0.5, r = 0.10, b = 0, sigma = 0.25)"
   ],
   "outputs": [],
   "metadata": {}
  },
  {
   "cell_type": "code",
   "execution_count": 41,
   "source": [
    "bopt.__name__"
   ],
   "outputs": [
    {
     "output_type": "execute_result",
     "data": {
      "text/plain": [
       "'BAWAmericanApproxOption'"
      ]
     },
     "metadata": {},
     "execution_count": 41
    }
   ],
   "metadata": {}
  },
  {
   "cell_type": "code",
   "execution_count": 42,
   "source": [
    "bopt.call()"
   ],
   "outputs": [
    {
     "output_type": "execute_result",
     "data": {
      "text/plain": [
       "12.44166279190568"
      ]
     },
     "metadata": {},
     "execution_count": 42
    }
   ],
   "metadata": {}
  },
  {
   "cell_type": "code",
   "execution_count": 43,
   "source": [
    "bopt.put()"
   ],
   "outputs": [
    {
     "output_type": "execute_result",
     "data": {
      "text/plain": [
       "2.7436097188998456"
      ]
     },
     "metadata": {},
     "execution_count": 43
    }
   ],
   "metadata": {}
  },
  {
   "cell_type": "code",
   "execution_count": 44,
   "source": [
    "bopt.summary()"
   ],
   "outputs": [
    {
     "output_type": "stream",
     "name": "stdout",
     "text": [
      "Title: Barone-Adesi and Whaley Approximation Valuation\n",
      "\n",
      "Parameters:\n",
      "\n",
      "  S = 100\n",
      "  K = 90\n",
      "  t = 0.5\n",
      "  r = 0.1\n",
      "  b = 0\n",
      "  sigma = 0.25\n",
      "\n",
      "Option Price:\n",
      "\n",
      "  call: 12.441663\n",
      "  put: 2.74361\n"
     ]
    }
   ],
   "metadata": {}
  },
  {
   "cell_type": "code",
   "execution_count": 45,
   "source": [
    "bopt.greeks()"
   ],
   "outputs": [
    {
     "output_type": "execute_result",
     "data": {
      "text/plain": [
       "{'delta': 0.7359424889435694,\n",
       " 'theta': -4.6823920234771945,\n",
       " 'vega': 21.328855605606133,\n",
       " 'rho': -3.297152793548391,\n",
       " 'lambda': 5.915145758671102,\n",
       " 'gamma': 0.018471927996037592,\n",
       " 'CofC': None}"
      ]
     },
     "metadata": {},
     "execution_count": 45
    }
   ],
   "metadata": {}
  },
  {
   "cell_type": "code",
   "execution_count": 46,
   "source": [
    "bsopt = ed.basic_american_options.BSAmericanApproxOption(S = 100, K = 90, t = 0.5, r = 0.10, b = 0, sigma = 0.25)"
   ],
   "outputs": [],
   "metadata": {}
  },
  {
   "cell_type": "code",
   "execution_count": 47,
   "source": [
    "bsopt.call()"
   ],
   "outputs": [
    {
     "output_type": "execute_result",
     "data": {
      "text/plain": [
       "{'OptionPrice': 12.39888578756754, 'TriggerPrice': 115.27226475479983}"
      ]
     },
     "metadata": {},
     "execution_count": 47
    }
   ],
   "metadata": {}
  },
  {
   "cell_type": "code",
   "execution_count": 48,
   "source": [
    "bsopt.put()"
   ],
   "outputs": [
    {
     "output_type": "execute_result",
     "data": {
      "text/plain": [
       "{'OptionPrice': 2.714363003364042, 'TriggerPrice': 128.0802941719998}"
      ]
     },
     "metadata": {},
     "execution_count": 48
    }
   ],
   "metadata": {}
  },
  {
   "cell_type": "code",
   "execution_count": 49,
   "source": [
    "bsopt.vega()"
   ],
   "outputs": [
    {
     "output_type": "execute_result",
     "data": {
      "text/plain": [
       "21.127946527008707"
      ]
     },
     "metadata": {},
     "execution_count": 49
    }
   ],
   "metadata": {}
  },
  {
   "cell_type": "code",
   "execution_count": 50,
   "source": [
    "bsopt.greeks()"
   ],
   "outputs": [
    {
     "output_type": "execute_result",
     "data": {
      "text/plain": [
       "{'delta': 0.7357854043086473,\n",
       " 'theta': -4.554175462491147,\n",
       " 'vega': 21.127946527008707,\n",
       " 'rho': -3.686679020784407,\n",
       " 'lambda': 5.934286490858921,\n",
       " 'gamma': 0.018292906571849895,\n",
       " 'CofC': None}"
      ]
     },
     "metadata": {},
     "execution_count": 50
    }
   ],
   "metadata": {}
  },
  {
   "cell_type": "code",
   "execution_count": 51,
   "source": [
    "bsopt.summary()"
   ],
   "outputs": [
    {
     "output_type": "stream",
     "name": "stdout",
     "text": [
      "Title: The Bjerksund and Stensland (1993) American Approximation Option Valuation\n",
      "\n",
      "Parameters:\n",
      "\n",
      "  S = 100\n",
      "  K = 90\n",
      "  t = 0.5\n",
      "  r = 0.1\n",
      "  b = 0\n",
      "  sigma = 0.25\n",
      "\n",
      "Option Price:\n",
      "\n",
      "  call: 12.398886, trigger: 115.272265\n",
      "  put: 2.714363, trigger: 128.080294\n"
     ]
    }
   ],
   "metadata": {}
  },
  {
   "cell_type": "code",
   "execution_count": 57,
   "source": [
    "bsopt = ed.basic_american_options.BSAmericanApproxOption(10.0, 8.0, 1.0, 0.02, 0.01, 0.1).call()"
   ],
   "outputs": [],
   "metadata": {}
  },
  {
   "cell_type": "code",
   "execution_count": 58,
   "source": [
    "bsopt"
   ],
   "outputs": [
    {
     "output_type": "execute_result",
     "data": {
      "text/plain": [
       "{'OptionPrice': 2.061847060733921, 'TriggerPrice': 18.598685762314446}"
      ]
     },
     "metadata": {},
     "execution_count": 58
    }
   ],
   "metadata": {}
  },
  {
   "cell_type": "markdown",
   "source": [
    "# Bionomial Tree Models"
   ],
   "metadata": {}
  },
  {
   "cell_type": "code",
   "execution_count": 52,
   "source": [
    "btopt = ed.binomial_tree_options.CRRBinomialTreeOption(S=50, K=40, t=1, r=0.1, b=0.1, sigma=0.4, n=5, type='european')"
   ],
   "outputs": [],
   "metadata": {}
  },
  {
   "cell_type": "code",
   "execution_count": 53,
   "source": [
    "btopt.call()"
   ],
   "outputs": [
    {
     "output_type": "execute_result",
     "data": {
      "text/plain": [
       "15.716522597205914"
      ]
     },
     "metadata": {},
     "execution_count": 53
    }
   ],
   "metadata": {}
  },
  {
   "cell_type": "code",
   "execution_count": 54,
   "source": [
    "btopt.put()"
   ],
   "outputs": [
    {
     "output_type": "execute_result",
     "data": {
      "text/plain": [
       "1.910019318644317"
      ]
     },
     "metadata": {},
     "execution_count": 54
    }
   ],
   "metadata": {}
  },
  {
   "cell_type": "code",
   "execution_count": 55,
   "source": [
    "btopt = ed.binomial_tree_options.CRRBinomialTreeOption(S=50, K=40, t=1, r=0.1, b=0.1, sigma=0.4, n=5, type='american')"
   ],
   "outputs": [],
   "metadata": {}
  },
  {
   "cell_type": "code",
   "execution_count": 56,
   "source": [
    "btopt.call()"
   ],
   "outputs": [
    {
     "output_type": "execute_result",
     "data": {
      "text/plain": [
       "15.716522597205914"
      ]
     },
     "metadata": {},
     "execution_count": 56
    }
   ],
   "metadata": {}
  },
  {
   "cell_type": "code",
   "execution_count": 57,
   "source": [
    "btopt.put()"
   ],
   "outputs": [
    {
     "output_type": "execute_result",
     "data": {
      "text/plain": [
       "2.032195038736347"
      ]
     },
     "metadata": {},
     "execution_count": 57
    }
   ],
   "metadata": {}
  },
  {
   "cell_type": "code",
   "execution_count": 58,
   "source": [
    "btopt.summary()"
   ],
   "outputs": [
    {
     "output_type": "stream",
     "name": "stdout",
     "text": [
      "Title: CRR Binomial Tree Model Valuation\n",
      "\n",
      "Parameters:\n",
      "\n",
      "  S = 50\n",
      "  K = 40\n",
      "  t = 1\n",
      "  r = 0.1\n",
      "  b = 0.1\n",
      "  sigma = 0.4\n",
      "  type = american\n",
      "  n = 5\n",
      "\n",
      "Option Price:\n",
      "\n",
      "  call-american: 15.716523\n",
      "  put-american: 2.032195\n"
     ]
    }
   ],
   "metadata": {}
  },
  {
   "cell_type": "code",
   "execution_count": 59,
   "source": [
    "btopt"
   ],
   "outputs": [
    {
     "output_type": "execute_result",
     "data": {
      "text/plain": [
       "CRRBinomialTreeOption(50, 40, 1, 0.1, 0.1, 0.4, american, 5)"
      ]
     },
     "metadata": {},
     "execution_count": 59
    }
   ],
   "metadata": {}
  },
  {
   "cell_type": "code",
   "execution_count": 60,
   "source": [
    "btopt.greeks()"
   ],
   "outputs": [
    {
     "output_type": "execute_result",
     "data": {
      "text/plain": [
       "{'delta': 0.9126946126346477,\n",
       " 'theta': -4.60612378225108,\n",
       " 'vega': 9.824948020458875,\n",
       " 'rho': -15.716522597205852,\n",
       " 'lambda': 2.9036149917695746,\n",
       " 'gamma': 6.693040208457772e-15,\n",
       " 'CofC': None}"
      ]
     },
     "metadata": {},
     "execution_count": 60
    }
   ],
   "metadata": {}
  },
  {
   "cell_type": "code",
   "execution_count": 61,
   "source": [
    "ed.GBSOption(S=5, K=4.5, t=0.5, r=0.02, b=0.0, sigma=0.2).greeks()"
   ],
   "outputs": [
    {
     "output_type": "execute_result",
     "data": {
      "text/plain": [
       "{'delta': 0.7847832896091742,\n",
       " 'theta': -0.1885897520190269,\n",
       " 'vega': 1.001225324726128,\n",
       " 'rho': -0.2913828231549671,\n",
       " 'lambda': 6.733266576182154,\n",
       " 'gamma': 0.40049012989045113,\n",
       " 'CofC': 1.9619582240229356}"
      ]
     },
     "metadata": {},
     "execution_count": 61
    }
   ],
   "metadata": {}
  },
  {
   "cell_type": "code",
   "execution_count": 62,
   "source": [
    "ed.GBSOption(S=5, K=4.5, t=0.5, r=0.02, b=0.0, sigma=0.2).rho(method='fdm')"
   ],
   "outputs": [
    {
     "output_type": "execute_result",
     "data": {
      "text/plain": [
       "-0.29138282315495834"
      ]
     },
     "metadata": {},
     "execution_count": 62
    }
   ],
   "metadata": {}
  },
  {
   "cell_type": "code",
   "execution_count": 63,
   "source": [
    "ed.binomial_tree_options.CRRBinomialTreeOption(S=5, K=4.5, t=0.5, r=0.02, b=0.0, sigma=0.2, n=5).greeks()"
   ],
   "outputs": [
    {
     "output_type": "execute_result",
     "data": {
      "text/plain": [
       "{'delta': 0.8233584841638576,\n",
       " 'theta': -0.17333561709704853,\n",
       " 'vega': 0.9254434882822222,\n",
       " 'rho': -0.2938643645954265,\n",
       " 'lambda': 7.004579181431378,\n",
       " 'gamma': -3.854784999817433e-15,\n",
       " 'CofC': None}"
      ]
     },
     "metadata": {},
     "execution_count": 63
    }
   ],
   "metadata": {}
  },
  {
   "cell_type": "markdown",
   "source": [
    "# Heston Nandi Options"
   ],
   "metadata": {}
  },
  {
   "cell_type": "code",
   "execution_count": null,
   "source": [
    "hnop = ed.heston_nandi_options."
   ],
   "outputs": [],
   "metadata": {}
  },
  {
   "cell_type": "markdown",
   "source": [],
   "metadata": {}
  },
  {
   "cell_type": "markdown",
   "source": [],
   "metadata": {}
  }
 ],
 "metadata": {
  "interpreter": {
   "hash": "1f23843d0517fbd80931cf63cde1ba60ddd02d261472889f538e5c68e74c8896"
  },
  "kernelspec": {
   "name": "python3",
   "display_name": "Python 3.9.5 64-bit"
  },
  "language_info": {
   "codemirror_mode": {
    "name": "ipython",
    "version": 3
   },
   "file_extension": ".py",
   "mimetype": "text/x-python",
   "name": "python",
   "nbconvert_exporter": "python",
   "pygments_lexer": "ipython3",
   "version": "3.9.5"
  }
 },
 "nbformat": 4,
 "nbformat_minor": 4
}