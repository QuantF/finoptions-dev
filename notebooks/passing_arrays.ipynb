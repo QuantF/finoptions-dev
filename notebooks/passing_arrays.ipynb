{
 "cells": [
  {
   "cell_type": "markdown",
   "metadata": {},
   "source": [
    "# Passing Numpy Arrays to the Option Classes to Generate Multiple Prices"
   ]
  },
  {
   "cell_type": "code",
   "execution_count": 1,
   "metadata": {},
   "outputs": [],
   "source": [
    "%load_ext autoreload\n",
    "%autoreload 2\n",
    "import energyderivatives as ed\n",
    "import numpy as np"
   ]
  },
  {
   "cell_type": "markdown",
   "metadata": {},
   "source": [
    "## Calculate GBS call option prices across multiple strike prices"
   ]
  },
  {
   "cell_type": "code",
   "execution_count": 2,
   "metadata": {},
   "outputs": [],
   "source": [
    "K = np.arange(1,20)"
   ]
  },
  {
   "cell_type": "code",
   "execution_count": 3,
   "metadata": {},
   "outputs": [],
   "source": [
    "opt = ed.GBSOption(10.0, K, 1.0, 0.02, 0.01, 0.1)"
   ]
  },
  {
   "cell_type": "code",
   "execution_count": 4,
   "metadata": {},
   "outputs": [
    {
     "data": {
      "text/plain": [
       "array([8.92029966e+00, 7.94010099e+00, 6.95990232e+00, 5.97970364e+00,\n",
       "       4.99950497e+00, 4.01930631e+00, 3.03913207e+00, 2.06184706e+00,\n",
       "       1.13628144e+00, 4.44060283e-01, 1.12904719e-01, 1.86282911e-02,\n",
       "       2.08908338e-03, 1.69175537e-04, 1.04910973e-05, 5.24498732e-07,\n",
       "       2.20721095e-08, 8.10108175e-10, 2.66957396e-11])"
      ]
     },
     "execution_count": 4,
     "metadata": {},
     "output_type": "execute_result"
    }
   ],
   "source": [
    "opt.call()"
   ]
  },
  {
   "cell_type": "code",
   "execution_count": 5,
   "metadata": {},
   "outputs": [
    {
     "data": {
      "text/plain": [
       "array([0.00000000e+00, 0.00000000e+00, 0.00000000e+00, 0.00000000e+00,\n",
       "       9.57711049e-14, 1.29696215e-08, 2.44490239e-05, 2.93810970e-03,\n",
       "       5.75711590e-02, 3.45548679e-01, 9.94591788e-01, 1.88051403e+00,\n",
       "       2.84417350e+00, 3.82245226e+00, 4.80249225e+00, 5.78268096e+00,\n",
       "       6.76287913e+00, 7.74307778e+00, 8.72327646e+00])"
      ]
     },
     "execution_count": 5,
     "metadata": {},
     "output_type": "execute_result"
    }
   ],
   "source": [
    "opt.put()"
   ]
  },
  {
   "cell_type": "code",
   "execution_count": 6,
   "metadata": {},
   "outputs": [
    {
     "data": {
      "text/plain": [
       "{'delta': array([9.90049834e-01, 9.90049834e-01, 9.90049834e-01, 9.90049834e-01,\n",
       "        9.90049834e-01, 9.90049762e-01, 9.89949907e-01, 9.81512987e-01,\n",
       "        8.76816671e-01, 5.54049423e-01, 2.08858819e-01, 4.66733348e-02,\n",
       "        6.62064049e-03, 6.46420464e-04, 4.67300222e-05, 2.65774426e-06,\n",
       "        1.24925809e-07, 5.04930804e-09, 1.81184235e-10]),\n",
       " 'theta': array([ 7.94010099e-02,  5.97970364e-02,  4.01930630e-02,  2.05890895e-02,\n",
       "         9.85116042e-04, -1.86190456e-02, -3.84099625e-02, -6.85033069e-02,\n",
       "        -1.60667387e-01, -2.41800835e-01, -1.61676228e-01, -5.30028217e-02,\n",
       "        -9.88502054e-03, -1.18700869e-03, -1.01033825e-04, -6.56448967e-06,\n",
       "        -3.44855715e-07, -1.53231752e-08, -5.96783252e-10]),\n",
       " 'vega': array([9.17121043e-117, 1.97599149e-057, 2.14177441e-032, 5.79874760e-019,\n",
       "        5.09602649e-011, 3.91387443e-006, 3.95226424e-003, 2.31778990e-001,\n",
       "        1.91422698e+000, 3.90554196e+000, 2.86096881e+000, 9.74161081e-001,\n",
       "        1.85294763e-001, 2.25150031e-002, 1.93141290e-003, 1.26184104e-004,\n",
       "        6.65609152e-006, 2.96688932e-007, 1.15839749e-008]),\n",
       " 'rho': array([9.80198673e-01, 1.96039735e+00, 2.94059602e+00, 3.92079469e+00,\n",
       "        4.90099337e+00, 5.88119131e+00, 6.86036700e+00, 7.75328281e+00,\n",
       "        7.63188528e+00, 5.09643395e+00, 1.97568347e+00, 4.48105057e-01,\n",
       "        6.41173215e-02, 6.29502911e-03, 4.56809125e-04, 2.60529439e-05,\n",
       "        1.22718598e-06, 4.96829723e-08, 1.78514661e-09]),\n",
       " 'lambda': array([ 1.10988405,  1.24689829,  1.42250536,  1.65568378,  1.98029573,\n",
       "         2.46323541,  3.25734415,  4.76035786,  7.71654489, 12.47689658,\n",
       "        18.49867928, 25.0550813 , 31.69160481, 38.2100435 , 44.54254973,\n",
       "        50.67208175, 56.59894414, 62.32881236, 67.87009356]),\n",
       " 'gamma': array([9.17121043e-118, 1.97599149e-058, 2.14177441e-033, 5.79874760e-020,\n",
       "        5.09602649e-012, 3.91387443e-007, 3.95226424e-004, 2.31778990e-002,\n",
       "        1.91422698e-001, 3.90554196e-001, 2.86096881e-001, 9.74161081e-002,\n",
       "        1.85294763e-002, 2.25150031e-003, 1.93141290e-004, 1.26184104e-005,\n",
       "        6.65609152e-007, 2.96688932e-008, 1.15839749e-009]),\n",
       " 'CofC': array([9.90049834e+00, 9.90049834e+00, 9.90049834e+00, 9.90049834e+00,\n",
       "        9.90049834e+00, 9.90049762e+00, 9.89949907e+00, 9.81512987e+00,\n",
       "        8.76816671e+00, 5.54049423e+00, 2.08858819e+00, 4.66733348e-01,\n",
       "        6.62064049e-02, 6.46420464e-03, 4.67300222e-04, 2.65774426e-05,\n",
       "        1.24925809e-06, 5.04930804e-08, 1.81184235e-09])}"
      ]
     },
     "execution_count": 6,
     "metadata": {},
     "output_type": "execute_result"
    }
   ],
   "source": [
    "opt.greeks()"
   ]
  },
  {
   "cell_type": "markdown",
   "metadata": {},
   "source": [
    "Summary method shortens the array representations of the parameters passed and the results returned to make it neater"
   ]
  },
  {
   "cell_type": "code",
   "execution_count": 7,
   "metadata": {},
   "outputs": [
    {
     "name": "stdout",
     "output_type": "stream",
     "text": [
      "Title: Black Scholes Option Valuation\n",
      "\n",
      "Parameters:\n",
      "\n",
      "  S = 10.0\n",
      "  K = [ 1  2  3 ... 17 18 19]\n",
      "  t = 1.0\n",
      "  r = 0.02\n",
      "  b = 0.01\n",
      "  sigma = 0.1\n",
      "\n",
      "Option Price:\n",
      "\n",
      "  call: [8.92 7.94 6.96 ... 0.   0.   0.  ]\n",
      "  put: [0.   0.   0.   ... 6.76 7.74 8.72]\n"
     ]
    }
   ],
   "source": [
    "opt.summary()"
   ]
  },
  {
   "cell_type": "markdown",
   "metadata": {},
   "source": [
    "## Trying Larger Arrays"
   ]
  },
  {
   "cell_type": "code",
   "execution_count": 8,
   "metadata": {},
   "outputs": [],
   "source": [
    "S = np.arange(8,12, 0.01)"
   ]
  },
  {
   "cell_type": "code",
   "execution_count": 9,
   "metadata": {},
   "outputs": [
    {
     "data": {
      "text/plain": [
       "(400,)"
      ]
     },
     "execution_count": 9,
     "metadata": {},
     "output_type": "execute_result"
    }
   ],
   "source": [
    "S.shape"
   ]
  },
  {
   "cell_type": "code",
   "execution_count": 10,
   "metadata": {},
   "outputs": [],
   "source": [
    "K = S - 2"
   ]
  },
  {
   "cell_type": "code",
   "execution_count": 11,
   "metadata": {},
   "outputs": [],
   "source": [
    "mopt = ed.GBSOption(S, K, 1.0, 0.02, 0.01, 0.1)"
   ]
  },
  {
   "cell_type": "code",
   "execution_count": 12,
   "metadata": {},
   "outputs": [
    {
     "name": "stdout",
     "output_type": "stream",
     "text": [
      "91.8 µs ± 2.02 µs per loop (mean ± std. dev. of 7 runs, 10000 loops each)\n"
     ]
    }
   ],
   "source": [
    "%%timeit\n",
    "c = mopt.call()"
   ]
  },
  {
   "cell_type": "code",
   "execution_count": 13,
   "metadata": {},
   "outputs": [
    {
     "name": "stdout",
     "output_type": "stream",
     "text": [
      "93.1 µs ± 1.4 µs per loop (mean ± std. dev. of 7 runs, 10000 loops each)\n"
     ]
    }
   ],
   "source": [
    "%%timeit\n",
    "p = mopt.put()"
   ]
  },
  {
   "cell_type": "code",
   "execution_count": 14,
   "metadata": {},
   "outputs": [
    {
     "name": "stdout",
     "output_type": "stream",
     "text": [
      "506 µs ± 2.29 µs per loop (mean ± std. dev. of 7 runs, 1000 loops each)\n"
     ]
    }
   ],
   "source": [
    "%%timeit\n",
    "mopt.greeks()"
   ]
  },
  {
   "cell_type": "code",
   "execution_count": 15,
   "metadata": {},
   "outputs": [
    {
     "name": "stdout",
     "output_type": "stream",
     "text": [
      "Title: Black Scholes Option Valuation\n",
      "\n",
      "Parameters:\n",
      "\n",
      "  S = [ 8.    8.01  8.02 ... 11.97 11.98 11.99]\n",
      "  K = [6.   6.01 6.02 ... 9.97 9.98 9.99]\n",
      "  t = 1.0\n",
      "  r = 0.02\n",
      "  b = 0.01\n",
      "  sigma = 0.1\n",
      "\n",
      "Option Price:\n",
      "\n",
      "  call: [2.04 2.04 2.04 ... 2.09 2.09 2.09]\n",
      "  put: [0.   0.   0.   ... 0.01 0.01 0.01]\n"
     ]
    }
   ],
   "source": [
    "mopt.summary()"
   ]
  },
  {
   "cell_type": "code",
   "execution_count": 16,
   "metadata": {},
   "outputs": [
    {
     "data": {
      "text/plain": [
       "GBSOption([ 8.    8.01  8.02 ... 11.97 11.98 11.99], [6.   6.01 6.02 ... 9.97 9.98 9.99], 1.0, 0.02, 0.01, 0.1)"
      ]
     },
     "execution_count": 16,
     "metadata": {},
     "output_type": "execute_result"
    }
   ],
   "source": [
    "mopt"
   ]
  },
  {
   "cell_type": "markdown",
   "metadata": {},
   "source": [
    "## Calculating Multiple Implied Volatilities"
   ]
  },
  {
   "cell_type": "code",
   "execution_count": 44,
   "metadata": {},
   "outputs": [],
   "source": [
    "K = np.array([8., 10., 12.])"
   ]
  },
  {
   "cell_type": "code",
   "execution_count": 49,
   "metadata": {},
   "outputs": [],
   "source": [
    "vopt = ed.GBSOption(10, K, 1.0, 0.02, 0.0)"
   ]
  },
  {
   "cell_type": "code",
   "execution_count": 50,
   "metadata": {},
   "outputs": [
    {
     "data": {
      "text/plain": [
       "GBSOption(10, [ 8. 10. 12.], 1.0, 0.02, 0.0, None)"
      ]
     },
     "execution_count": 50,
     "metadata": {},
     "output_type": "execute_result"
    }
   ],
   "source": [
    "vopt"
   ]
  },
  {
   "cell_type": "code",
   "execution_count": 51,
   "metadata": {},
   "outputs": [
    {
     "data": {
      "text/plain": [
       "array([0.53635104, 1.38093743, 2.24600264])"
      ]
     },
     "execution_count": 51,
     "metadata": {},
     "output_type": "execute_result"
    }
   ],
   "source": [
    "vopt.volatility(K-5)"
   ]
  },
  {
   "cell_type": "code",
   "execution_count": 54,
   "metadata": {},
   "outputs": [],
   "source": [
    "obj = getattr(ed,\"GBSOption\")"
   ]
  },
  {
   "cell_type": "code",
   "execution_count": 55,
   "metadata": {},
   "outputs": [
    {
     "data": {
      "text/plain": [
       "GBSOption(10, 8, 1, 0.02, 0.01, 0.2)"
      ]
     },
     "execution_count": 55,
     "metadata": {},
     "output_type": "execute_result"
    }
   ],
   "source": [
    "obj(10,8,1,0.02,0.01,0.2)"
   ]
  },
  {
   "cell_type": "markdown",
   "metadata": {},
   "source": [
    "# Tests"
   ]
  },
  {
   "cell_type": "code",
   "execution_count": 1,
   "metadata": {},
   "outputs": [],
   "source": [
    "%load_ext autoreload\n",
    "%autoreload 2\n",
    "import energyderivatives as ed\n",
    "import numpy as np"
   ]
  },
  {
   "cell_type": "markdown",
   "metadata": {},
   "source": [
    "## BlackSholesOption"
   ]
  },
  {
   "cell_type": "code",
   "execution_count": 2,
   "metadata": {},
   "outputs": [],
   "source": [
    "S = 10\n",
    "K = np.arange(8,12, 0.5)\n",
    "t = 1\n",
    "r = 0.02\n",
    "b = 0.01\n",
    "sigma = 0.2\n",
    "opt = ed.BlackScholesOption(S, K, t, r, b, sigma)"
   ]
  },
  {
   "cell_type": "code",
   "execution_count": 3,
   "metadata": {},
   "outputs": [
    {
     "data": {
      "text/plain": [
       "array([2.16457588, 1.76349648, 1.4051706 , 1.09501573, 0.83494144,\n",
       "       0.62345831, 0.45642517, 0.32801894])"
      ]
     },
     "execution_count": 3,
     "metadata": {},
     "output_type": "execute_result"
    }
   ],
   "source": [
    "opt.call()"
   ]
  },
  {
   "cell_type": "code",
   "execution_count": 4,
   "metadata": {},
   "outputs": [
    {
     "data": {
      "text/plain": [
       "array([0.10566693, 0.19468686, 0.32646032, 0.50640479, 0.73642984,\n",
       "       1.01504604, 1.33811224, 1.69980535])"
      ]
     },
     "execution_count": 4,
     "metadata": {},
     "output_type": "execute_result"
    }
   ],
   "source": [
    "opt.put()"
   ]
  },
  {
   "cell_type": "code",
   "execution_count": 5,
   "metadata": {},
   "outputs": [
    {
     "name": "stdout",
     "output_type": "stream",
     "text": [
      "Title: Black Scholes Option Valuation\n",
      "\n",
      "Parameters:\n",
      "\n",
      "  S = 10\n",
      "  K = [ 8.   8.5  9.  ... 10.5 11.  11.5]\n",
      "  t = 1\n",
      "  r = 0.02\n",
      "  b = 0.01\n",
      "  sigma = 0.2\n",
      "\n",
      "Option Price:\n",
      "\n",
      "  call: [2.16 1.76 1.41 ... 0.62 0.46 0.33]\n",
      "  put: [0.11 0.19 0.33 ... 1.02 1.34 1.7 ]\n"
     ]
    }
   ],
   "source": [
    "opt.summary()"
   ]
  },
  {
   "cell_type": "code",
   "execution_count": 6,
   "metadata": {},
   "outputs": [
    {
     "data": {
      "text/plain": [
       "{'delta': array([0.88826564, 0.82384474, 0.74326453, 0.6512548 , 0.55404942,\n",
       "        0.45797136, 0.36830236, 0.28866684]),\n",
       " 'theta': array([-0.22282668, -0.29563434, -0.36034643, -0.40688149, -0.42926031,\n",
       "        -0.42656139, -0.40216698, -0.36205992]),\n",
       " 'vega': array([1.77291634, 2.48519799, 3.14123393, 3.63656321, 3.90554196,\n",
       "        3.93233415, 3.74465247, 3.39753616]),\n",
       " 'rho': array([6.71808054, 6.47495092, 6.02747469, 5.41753222, 4.70555279,\n",
       "        3.9562553 , 3.2265984 , 2.55864947]),\n",
       " 'lambda': array([4.10364751, 4.67165514, 5.28949674, 5.94744692, 6.6357878 ,\n",
       "        7.34566135, 8.0692823 , 8.80031014]),\n",
       " 'gamma': array([0.08864582, 0.1242599 , 0.1570617 , 0.18182816, 0.1952771 ,\n",
       "        0.19661671, 0.18723262, 0.16987681]),\n",
       " 'CofC': array([8.88265642, 8.2384474 , 7.43264528, 6.51254795, 5.54049423,\n",
       "        4.57971361, 3.68302357, 2.88666841])}"
      ]
     },
     "execution_count": 6,
     "metadata": {},
     "output_type": "execute_result"
    }
   ],
   "source": [
    "opt.greeks()"
   ]
  },
  {
   "cell_type": "markdown",
   "metadata": {},
   "source": [
    "## Black76Option"
   ]
  },
  {
   "cell_type": "code",
   "execution_count": 8,
   "metadata": {},
   "outputs": [],
   "source": [
    "S = 10\n",
    "K = np.arange(8,12, 0.5)\n",
    "t = 1\n",
    "r = 0.02\n",
    "b = 0.01\n",
    "sigma = 0.2\n",
    "opt = ed.Black76Option(S, K, t, r, sigma)"
   ]
  },
  {
   "cell_type": "code",
   "execution_count": 9,
   "metadata": {},
   "outputs": [
    {
     "data": {
      "text/plain": [
       "array([2.07664147, 1.68214978, 1.33200347, 1.03112331, 0.78078502,\n",
       "       0.57886461, 0.42070334, 0.30013172])"
      ]
     },
     "execution_count": 9,
     "metadata": {},
     "output_type": "execute_result"
    }
   ],
   "source": [
    "opt.call()"
   ]
  },
  {
   "cell_type": "code",
   "execution_count": 10,
   "metadata": {},
   "outputs": [
    {
     "data": {
      "text/plain": [
       "array([0.11624413, 0.21185177, 0.35180479, 0.54102397, 0.78078502,\n",
       "       1.06896394, 1.40090202, 1.77042973])"
      ]
     },
     "execution_count": 10,
     "metadata": {},
     "output_type": "execute_result"
    }
   ],
   "source": [
    "opt.put()"
   ]
  },
  {
   "cell_type": "code",
   "execution_count": 11,
   "metadata": {},
   "outputs": [
    {
     "name": "stdout",
     "output_type": "stream",
     "text": [
      "Title: Black 1977 Option Valuation\n",
      "\n",
      "Parameters:\n",
      "\n",
      "  S = 10\n",
      "  K = [ 8.   8.5  9.  ... 10.5 11.  11.5]\n",
      "  t = 1\n",
      "  r = 0.02\n",
      "  b = 0\n",
      "  sigma = 0.2\n",
      "\n",
      "Option Price:\n",
      "\n",
      "  call: [2.08 1.68 1.33 ... 0.58 0.42 0.3 ]\n",
      "  put: [0.12 0.21 0.35 ... 1.07 1.4  1.77]\n"
     ]
    }
   ],
   "source": [
    "opt.summary()"
   ]
  },
  {
   "cell_type": "code",
   "execution_count": 12,
   "metadata": {},
   "outputs": [
    {
     "data": {
      "text/plain": [
       "{'delta': array([0.87037105, 0.80304947, 0.72005957, 0.62659623, 0.52913859,\n",
       "        0.4340022 , 0.34625885, 0.26921141]),\n",
       " 'theta': array([-0.14522858, -0.22421325, -0.29466017, -0.34634844, -0.37347666,\n",
       "        -0.37543476, -0.35586544, -0.3208568 ]),\n",
       " 'vega': array([1.86761409, 2.57856248, 3.21300239, 3.66970907, 3.8909236 ,\n",
       "        3.87012049, 3.64279509, 3.26859433]),\n",
       " 'rho': array([-2.07664147, -1.68214978, -1.33200347, -1.03112331, -0.78078502,\n",
       "        -0.57886461, -0.42070334, -0.30013172]),\n",
       " 'lambda': array([4.19124369, 4.77394747, 5.40583854, 6.07683121, 6.77700742,\n",
       "        7.49747344, 8.23047544, 8.96977514]),\n",
       " 'gamma': array([0.0933807 , 0.12892812, 0.16065012, 0.18348545, 0.19454618,\n",
       "        0.19350602, 0.18213975, 0.16342972]),\n",
       " 'CofC': array([8.70371047, 8.03049468, 7.20059567, 6.26596229, 5.29138588,\n",
       "        4.34002201, 3.46258852, 2.69211409])}"
      ]
     },
     "execution_count": 12,
     "metadata": {},
     "output_type": "execute_result"
    }
   ],
   "source": [
    "opt.greeks()"
   ]
  },
  {
   "cell_type": "code",
   "execution_count": 15,
   "metadata": {},
   "outputs": [
    {
     "data": {
      "text/plain": [
       "array([0.02654618, 0.01609864, 0.06921122, 0.19150533, 0.25641528,\n",
       "       0.3080241 , 0.35210909, 0.39104743])"
      ]
     },
     "execution_count": 15,
     "metadata": {},
     "output_type": "execute_result"
    }
   ],
   "source": [
    "opt.volatility(1)"
   ]
  },
  {
   "cell_type": "markdown",
   "metadata": {},
   "source": [
    "## MiltersenSchwartzOption"
   ]
  },
  {
   "cell_type": "code",
   "execution_count": 112,
   "metadata": {},
   "outputs": [],
   "source": [
    "opt = ed.MiltersenSchwartzOption(\n",
    "        Pt=np.exp(-0.05 / 4),\n",
    "        FT=95,\n",
    "        K=np.arange(79,82),\n",
    "        t=1 / 4,\n",
    "        T=1 / 2,\n",
    "        sigmaS=0.2660,\n",
    "        sigmaE=0.2490,\n",
    "        sigmaF=0.0096,\n",
    "        rhoSE=0.805,\n",
    "        rhoSF=0.0805,\n",
    "        rhoEF=0.1243,\n",
    "        KappaE=1.045,\n",
    "        KappaF=0.200,\n",
    "    )"
   ]
  },
  {
   "cell_type": "code",
   "execution_count": 113,
   "metadata": {},
   "outputs": [
    {
     "data": {
      "text/plain": [
       "array([15.94287329, 15.00468251, 14.07985817])"
      ]
     },
     "execution_count": 113,
     "metadata": {},
     "output_type": "execute_result"
    }
   ],
   "source": [
    "opt.call()"
   ]
  },
  {
   "cell_type": "code",
   "execution_count": 114,
   "metadata": {},
   "outputs": [
    {
     "data": {
      "text/plain": [
       "array([0.1420391 , 0.19142613, 0.25417959])"
      ]
     },
     "execution_count": 114,
     "metadata": {},
     "output_type": "execute_result"
    }
   ],
   "source": [
    "opt.put()"
   ]
  },
  {
   "cell_type": "code",
   "execution_count": 115,
   "metadata": {},
   "outputs": [
    {
     "name": "stdout",
     "output_type": "stream",
     "text": [
      "Title: Miltersen Schwartz Option Valuation\n",
      "\n",
      "Parameters:\n",
      "\n",
      "  Pt = 0.9875778004938814\n",
      "  FT = 95\n",
      "  K = [79 80 81]\n",
      "  t = 0.25\n",
      "  T = 0.5\n",
      "  sigmaS = 0.266\n",
      "  sigmaE = 0.249\n",
      "  sigmaF = 0.0096\n",
      "  rhoSE = 0.805\n",
      "  rhoSF = 0.0805\n",
      "  rhoEF = 0.1243\n",
      "  KappaE = 1.045\n",
      "  KappaF = 0.2\n",
      "\n",
      "Option Price:\n",
      "\n",
      "  call: [15.94 15.   14.08]\n",
      "  put: [0.14 0.19 0.25]\n"
     ]
    }
   ],
   "source": [
    "opt.summary()"
   ]
  },
  {
   "cell_type": "code",
   "execution_count": 120,
   "metadata": {},
   "outputs": [
    {
     "data": {
      "text/plain": [
       "{'delta': array([0.95291844, 0.94270191, 0.9303625 ]),\n",
       " 'theta': array([-1.74108905, -2.14861604, -2.6073404 ]),\n",
       " 'vega': array([[ 3.53824955, -0.72437455,  0.04284047],\n",
       "        [ 4.36537183, -0.89387399,  0.06553819],\n",
       "        [ 5.29638646, -1.08466434,  0.09113261]]),\n",
       " 'lambda': array([5.67822686, 5.96858224, 6.27736702]),\n",
       " 'gamma': array([0.00767418, 0.00946707, 0.01148528]),\n",
       " 'CofC': None}"
      ]
     },
     "execution_count": 120,
     "metadata": {},
     "output_type": "execute_result"
    }
   ],
   "source": [
    "opt.greeks()"
   ]
  },
  {
   "cell_type": "markdown",
   "metadata": {},
   "source": [
    "## RollGeskeWhaleyOption"
   ]
  },
  {
   "cell_type": "code",
   "execution_count": 46,
   "metadata": {},
   "outputs": [
    {
     "ename": "TypeError",
     "evalue": "Arrays not supported as arguments for this option class",
     "output_type": "error",
     "traceback": [
      "\u001b[0;31m---------------------------------------------------------------------------\u001b[0m",
      "\u001b[0;31mTypeError\u001b[0m                                 Traceback (most recent call last)",
      "\u001b[0;32m<ipython-input-46-ddea1c2e6b93>\u001b[0m in \u001b[0;36m<module>\u001b[0;34m\u001b[0m\n\u001b[0;32m----> 1\u001b[0;31m \u001b[0mopt\u001b[0m \u001b[0;34m=\u001b[0m \u001b[0med\u001b[0m\u001b[0;34m.\u001b[0m\u001b[0mbasic_american_options\u001b[0m\u001b[0;34m.\u001b[0m\u001b[0mRollGeskeWhaleyOption\u001b[0m\u001b[0;34m(\u001b[0m\u001b[0mS\u001b[0m\u001b[0;34m=\u001b[0m\u001b[0;36m80\u001b[0m\u001b[0;34m,\u001b[0m \u001b[0mK\u001b[0m\u001b[0;34m=\u001b[0m\u001b[0mnp\u001b[0m\u001b[0;34m.\u001b[0m\u001b[0marange\u001b[0m\u001b[0;34m(\u001b[0m\u001b[0;36m70\u001b[0m\u001b[0;34m,\u001b[0m\u001b[0;36m90\u001b[0m\u001b[0;34m)\u001b[0m\u001b[0;34m,\u001b[0m \u001b[0mt\u001b[0m\u001b[0;34m=\u001b[0m\u001b[0;36m1\u001b[0m\u001b[0;34m/\u001b[0m\u001b[0;36m3\u001b[0m\u001b[0;34m,\u001b[0m \u001b[0mtd\u001b[0m\u001b[0;34m=\u001b[0m\u001b[0;36m1\u001b[0m\u001b[0;34m/\u001b[0m\u001b[0;36m4\u001b[0m\u001b[0;34m,\u001b[0m \u001b[0mr\u001b[0m\u001b[0;34m=\u001b[0m\u001b[0;36m0.06\u001b[0m\u001b[0;34m,\u001b[0m \u001b[0mD\u001b[0m\u001b[0;34m=\u001b[0m\u001b[0;36m4\u001b[0m\u001b[0;34m,\u001b[0m \u001b[0msigma\u001b[0m\u001b[0;34m=\u001b[0m\u001b[0;36m0.30\u001b[0m\u001b[0;34m)\u001b[0m\u001b[0;34m\u001b[0m\u001b[0;34m\u001b[0m\u001b[0m\n\u001b[0m",
      "\u001b[0;32m~/projects/energyderivatives-dev/src/energyderivatives/basic_american_options/__init__.py\u001b[0m in \u001b[0;36m__init__\u001b[0;34m(self, S, K, t, td, r, D, sigma)\u001b[0m\n\u001b[1;32m     65\u001b[0m     ):\n\u001b[1;32m     66\u001b[0m         \u001b[0;32mif\u001b[0m \u001b[0mself\u001b[0m\u001b[0;34m.\u001b[0m\u001b[0m_check_array\u001b[0m\u001b[0;34m(\u001b[0m\u001b[0mS\u001b[0m\u001b[0;34m,\u001b[0m \u001b[0mK\u001b[0m\u001b[0;34m,\u001b[0m \u001b[0mt\u001b[0m\u001b[0;34m,\u001b[0m \u001b[0mtd\u001b[0m\u001b[0;34m,\u001b[0m \u001b[0mr\u001b[0m\u001b[0;34m,\u001b[0m \u001b[0mD\u001b[0m\u001b[0;34m,\u001b[0m \u001b[0msigma\u001b[0m\u001b[0;34m)\u001b[0m \u001b[0;34m==\u001b[0m \u001b[0;32mTrue\u001b[0m\u001b[0;34m:\u001b[0m\u001b[0;34m\u001b[0m\u001b[0;34m\u001b[0m\u001b[0m\n\u001b[0;32m---> 67\u001b[0;31m             \u001b[0;32mraise\u001b[0m \u001b[0mTypeError\u001b[0m\u001b[0;34m(\u001b[0m\u001b[0;34m\"Arrays not supported as arguments for this option class\"\u001b[0m\u001b[0;34m)\u001b[0m\u001b[0;34m\u001b[0m\u001b[0;34m\u001b[0m\u001b[0m\n\u001b[0m\u001b[1;32m     68\u001b[0m \u001b[0;34m\u001b[0m\u001b[0m\n\u001b[1;32m     69\u001b[0m         \u001b[0mself\u001b[0m\u001b[0;34m.\u001b[0m\u001b[0m_S\u001b[0m \u001b[0;34m=\u001b[0m \u001b[0mS\u001b[0m\u001b[0;34m\u001b[0m\u001b[0;34m\u001b[0m\u001b[0m\n",
      "\u001b[0;31mTypeError\u001b[0m: Arrays not supported as arguments for this option class"
     ]
    }
   ],
   "source": [
    "opt = ed.basic_american_options.RollGeskeWhaleyOption(S=80, K=np.arange(70,90), t=1/3, td=1/4, r=0.06, D=4, sigma=0.30)"
   ]
  },
  {
   "cell_type": "markdown",
   "metadata": {},
   "source": [
    "## BAWAmericanApproxOption"
   ]
  },
  {
   "cell_type": "code",
   "execution_count": 45,
   "metadata": {},
   "outputs": [
    {
     "ename": "TypeError",
     "evalue": "Arrays not supported as arguments for this option class",
     "output_type": "error",
     "traceback": [
      "\u001b[0;31m---------------------------------------------------------------------------\u001b[0m",
      "\u001b[0;31mTypeError\u001b[0m                                 Traceback (most recent call last)",
      "\u001b[0;32m<ipython-input-45-e96ac8c22adf>\u001b[0m in \u001b[0;36m<module>\u001b[0;34m\u001b[0m\n\u001b[0;32m----> 1\u001b[0;31m opt = ed.basic_american_options.BAWAmericanApproxOption(\n\u001b[0m\u001b[1;32m      2\u001b[0m         \u001b[0mS\u001b[0m\u001b[0;34m=\u001b[0m\u001b[0;36m100\u001b[0m\u001b[0;34m,\u001b[0m \u001b[0mK\u001b[0m\u001b[0;34m=\u001b[0m\u001b[0mnp\u001b[0m\u001b[0;34m.\u001b[0m\u001b[0marange\u001b[0m\u001b[0;34m(\u001b[0m\u001b[0;36m70\u001b[0m\u001b[0;34m,\u001b[0m\u001b[0;36m90\u001b[0m\u001b[0;34m)\u001b[0m\u001b[0;34m,\u001b[0m \u001b[0mt\u001b[0m\u001b[0;34m=\u001b[0m\u001b[0;36m0.5\u001b[0m\u001b[0;34m,\u001b[0m \u001b[0mr\u001b[0m\u001b[0;34m=\u001b[0m\u001b[0;36m0.10\u001b[0m\u001b[0;34m,\u001b[0m \u001b[0mb\u001b[0m\u001b[0;34m=\u001b[0m\u001b[0;36m0\u001b[0m\u001b[0;34m,\u001b[0m \u001b[0msigma\u001b[0m\u001b[0;34m=\u001b[0m\u001b[0;36m0.25\u001b[0m\u001b[0;34m\u001b[0m\u001b[0;34m\u001b[0m\u001b[0m\n\u001b[1;32m      3\u001b[0m     )\n",
      "\u001b[0;32m~/projects/energyderivatives-dev/src/energyderivatives/basic_american_options/__init__.py\u001b[0m in \u001b[0;36m__init__\u001b[0;34m(self, S, K, t, r, b, sigma)\u001b[0m\n\u001b[1;32m    256\u001b[0m         \u001b[0;31m# only being used for check_array. Remove __init__ once arrays work.\u001b[0m\u001b[0;34m\u001b[0m\u001b[0;34m\u001b[0m\u001b[0;34m\u001b[0m\u001b[0m\n\u001b[1;32m    257\u001b[0m         \u001b[0;32mif\u001b[0m \u001b[0mself\u001b[0m\u001b[0;34m.\u001b[0m\u001b[0m_check_array\u001b[0m\u001b[0;34m(\u001b[0m\u001b[0mS\u001b[0m\u001b[0;34m,\u001b[0m \u001b[0mK\u001b[0m\u001b[0;34m,\u001b[0m \u001b[0mt\u001b[0m\u001b[0;34m,\u001b[0m \u001b[0mr\u001b[0m\u001b[0;34m,\u001b[0m \u001b[0mb\u001b[0m\u001b[0;34m,\u001b[0m \u001b[0msigma\u001b[0m\u001b[0;34m)\u001b[0m \u001b[0;34m==\u001b[0m \u001b[0;32mTrue\u001b[0m\u001b[0;34m:\u001b[0m\u001b[0;34m\u001b[0m\u001b[0;34m\u001b[0m\u001b[0m\n\u001b[0;32m--> 258\u001b[0;31m             \u001b[0;32mraise\u001b[0m \u001b[0mTypeError\u001b[0m\u001b[0;34m(\u001b[0m\u001b[0;34m\"Arrays not supported as arguments for this option class\"\u001b[0m\u001b[0;34m)\u001b[0m\u001b[0;34m\u001b[0m\u001b[0;34m\u001b[0m\u001b[0m\n\u001b[0m\u001b[1;32m    259\u001b[0m \u001b[0;34m\u001b[0m\u001b[0m\n\u001b[1;32m    260\u001b[0m         \u001b[0msuper\u001b[0m\u001b[0;34m(\u001b[0m\u001b[0;34m)\u001b[0m\u001b[0;34m.\u001b[0m\u001b[0m__init__\u001b[0m\u001b[0;34m(\u001b[0m\u001b[0mS\u001b[0m\u001b[0;34m,\u001b[0m \u001b[0mK\u001b[0m\u001b[0;34m,\u001b[0m \u001b[0mt\u001b[0m\u001b[0;34m,\u001b[0m \u001b[0mr\u001b[0m\u001b[0;34m,\u001b[0m \u001b[0mb\u001b[0m\u001b[0;34m,\u001b[0m \u001b[0msigma\u001b[0m\u001b[0;34m)\u001b[0m\u001b[0;34m\u001b[0m\u001b[0;34m\u001b[0m\u001b[0m\n",
      "\u001b[0;31mTypeError\u001b[0m: Arrays not supported as arguments for this option class"
     ]
    }
   ],
   "source": [
    "opt = ed.basic_american_options.BAWAmericanApproxOption(\n",
    "        S=100, K=np.arange(70,90), t=0.5, r=0.10, b=0, sigma=0.25\n",
    "    )"
   ]
  },
  {
   "cell_type": "code",
   "execution_count": 44,
   "metadata": {},
   "outputs": [
    {
     "ename": "TypeError",
     "evalue": "Arrays not supported as arguments for this option class",
     "output_type": "error",
     "traceback": [
      "\u001b[0;31m---------------------------------------------------------------------------\u001b[0m",
      "\u001b[0;31mTypeError\u001b[0m                                 Traceback (most recent call last)",
      "\u001b[0;32m<ipython-input-44-228fec771bf4>\u001b[0m in \u001b[0;36m<module>\u001b[0;34m\u001b[0m\n\u001b[0;32m----> 1\u001b[0;31m opt = ed.basic_american_options.BSAmericanApproxOption(\n\u001b[0m\u001b[1;32m      2\u001b[0m         \u001b[0mS\u001b[0m\u001b[0;34m=\u001b[0m\u001b[0;36m100\u001b[0m\u001b[0;34m,\u001b[0m \u001b[0mK\u001b[0m\u001b[0;34m=\u001b[0m\u001b[0mnp\u001b[0m\u001b[0;34m.\u001b[0m\u001b[0marange\u001b[0m\u001b[0;34m(\u001b[0m\u001b[0;36m70\u001b[0m\u001b[0;34m,\u001b[0m\u001b[0;36m90\u001b[0m\u001b[0;34m)\u001b[0m\u001b[0;34m,\u001b[0m \u001b[0mt\u001b[0m\u001b[0;34m=\u001b[0m\u001b[0;36m0.5\u001b[0m\u001b[0;34m,\u001b[0m \u001b[0mr\u001b[0m\u001b[0;34m=\u001b[0m\u001b[0;36m0.10\u001b[0m\u001b[0;34m,\u001b[0m \u001b[0mb\u001b[0m\u001b[0;34m=\u001b[0m\u001b[0;36m0\u001b[0m\u001b[0;34m,\u001b[0m \u001b[0msigma\u001b[0m\u001b[0;34m=\u001b[0m\u001b[0;36m0.25\u001b[0m\u001b[0;34m\u001b[0m\u001b[0;34m\u001b[0m\u001b[0m\n\u001b[1;32m      3\u001b[0m     )\n",
      "\u001b[0;32m~/projects/energyderivatives-dev/src/energyderivatives/basic_american_options/__init__.py\u001b[0m in \u001b[0;36m__init__\u001b[0;34m(self, S, K, t, r, b, sigma)\u001b[0m\n\u001b[1;32m    533\u001b[0m         \u001b[0;31m# only being used for check_array. Remove __init__ once arrays work.\u001b[0m\u001b[0;34m\u001b[0m\u001b[0;34m\u001b[0m\u001b[0;34m\u001b[0m\u001b[0m\n\u001b[1;32m    534\u001b[0m         \u001b[0;32mif\u001b[0m \u001b[0mself\u001b[0m\u001b[0;34m.\u001b[0m\u001b[0m_check_array\u001b[0m\u001b[0;34m(\u001b[0m\u001b[0mS\u001b[0m\u001b[0;34m,\u001b[0m \u001b[0mK\u001b[0m\u001b[0;34m,\u001b[0m \u001b[0mt\u001b[0m\u001b[0;34m,\u001b[0m \u001b[0mr\u001b[0m\u001b[0;34m,\u001b[0m \u001b[0mb\u001b[0m\u001b[0;34m,\u001b[0m \u001b[0msigma\u001b[0m\u001b[0;34m)\u001b[0m \u001b[0;34m==\u001b[0m \u001b[0;32mTrue\u001b[0m\u001b[0;34m:\u001b[0m\u001b[0;34m\u001b[0m\u001b[0;34m\u001b[0m\u001b[0m\n\u001b[0;32m--> 535\u001b[0;31m             \u001b[0;32mraise\u001b[0m \u001b[0mTypeError\u001b[0m\u001b[0;34m(\u001b[0m\u001b[0;34m\"Arrays not supported as arguments for this option class\"\u001b[0m\u001b[0;34m)\u001b[0m\u001b[0;34m\u001b[0m\u001b[0;34m\u001b[0m\u001b[0m\n\u001b[0m\u001b[1;32m    536\u001b[0m \u001b[0;34m\u001b[0m\u001b[0m\n\u001b[1;32m    537\u001b[0m         \u001b[0msuper\u001b[0m\u001b[0;34m(\u001b[0m\u001b[0;34m)\u001b[0m\u001b[0;34m.\u001b[0m\u001b[0m__init__\u001b[0m\u001b[0;34m(\u001b[0m\u001b[0mS\u001b[0m\u001b[0;34m,\u001b[0m \u001b[0mK\u001b[0m\u001b[0;34m,\u001b[0m \u001b[0mt\u001b[0m\u001b[0;34m,\u001b[0m \u001b[0mr\u001b[0m\u001b[0;34m,\u001b[0m \u001b[0mb\u001b[0m\u001b[0;34m,\u001b[0m \u001b[0msigma\u001b[0m\u001b[0;34m)\u001b[0m\u001b[0;34m\u001b[0m\u001b[0;34m\u001b[0m\u001b[0m\n",
      "\u001b[0;31mTypeError\u001b[0m: Arrays not supported as arguments for this option class"
     ]
    }
   ],
   "source": [
    "opt = ed.basic_american_options.BSAmericanApproxOption(\n",
    "        S=100, K=np.arange(70,90), t=0.5, r=0.10, b=0, sigma=0.25\n",
    "    )"
   ]
  },
  {
   "cell_type": "code",
   "execution_count": null,
   "metadata": {},
   "outputs": [],
   "source": []
  }
 ],
 "metadata": {
  "interpreter": {
   "hash": "7ecaa5e4cf084b92ad46a1abe9631eda4149286ae5750bc25776b0730d4a30b3"
  },
  "kernelspec": {
   "display_name": "Python 3",
   "language": "python",
   "name": "python3"
  },
  "language_info": {
   "codemirror_mode": {
    "name": "ipython",
    "version": 3
   },
   "file_extension": ".py",
   "mimetype": "text/x-python",
   "name": "python",
   "nbconvert_exporter": "python",
   "pygments_lexer": "ipython3",
   "version": "3.9.5"
  }
 },
 "nbformat": 4,
 "nbformat_minor": 4
}
