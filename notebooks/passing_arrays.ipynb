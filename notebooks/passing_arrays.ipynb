{
 "metadata": {
  "language_info": {
   "codemirror_mode": {
    "name": "ipython",
    "version": 3
   },
   "file_extension": ".py",
   "mimetype": "text/x-python",
   "name": "python",
   "nbconvert_exporter": "python",
   "pygments_lexer": "ipython3",
   "version": "3.9.5"
  },
  "orig_nbformat": 4,
  "kernelspec": {
   "name": "python3",
   "display_name": "Python 3.9.5 64-bit"
  },
  "interpreter": {
   "hash": "7ecaa5e4cf084b92ad46a1abe9631eda4149286ae5750bc25776b0730d4a30b3"
  }
 },
 "nbformat": 4,
 "nbformat_minor": 2,
 "cells": [
  {
   "source": [
    "# Passing Numpy Arrays to the Option Classes to Generate Multiple Prices"
   ],
   "cell_type": "markdown",
   "metadata": {}
  },
  {
   "cell_type": "code",
   "execution_count": 1,
   "metadata": {},
   "outputs": [],
   "source": [
    "%load_ext autoreload\n",
    "%autoreload 2\n",
    "import energyderivatives as ed\n",
    "import numpy as np"
   ]
  },
  {
   "source": [
    "## Calculate GBS call option prices across multiple strike prices"
   ],
   "cell_type": "markdown",
   "metadata": {}
  },
  {
   "cell_type": "code",
   "execution_count": 2,
   "metadata": {},
   "outputs": [],
   "source": [
    "K = np.arange(1,20)"
   ]
  },
  {
   "cell_type": "code",
   "execution_count": 3,
   "metadata": {},
   "outputs": [],
   "source": [
    "opt = ed.GBSOption(10.0, K, 1.0, 0.02, 0.01, 0.1)"
   ]
  },
  {
   "cell_type": "code",
   "execution_count": 4,
   "metadata": {},
   "outputs": [
    {
     "output_type": "execute_result",
     "data": {
      "text/plain": [
       "array([8.92029966e+00, 7.94010099e+00, 6.95990232e+00, 5.97970364e+00,\n",
       "       4.99950497e+00, 4.01930631e+00, 3.03913207e+00, 2.06184706e+00,\n",
       "       1.13628144e+00, 4.44060283e-01, 1.12904719e-01, 1.86282911e-02,\n",
       "       2.08908338e-03, 1.69175537e-04, 1.04910973e-05, 5.24498732e-07,\n",
       "       2.20721095e-08, 8.10108175e-10, 2.66957396e-11])"
      ]
     },
     "metadata": {},
     "execution_count": 4
    }
   ],
   "source": [
    "opt.call()"
   ]
  },
  {
   "cell_type": "code",
   "execution_count": 5,
   "metadata": {},
   "outputs": [
    {
     "output_type": "execute_result",
     "data": {
      "text/plain": [
       "array([0.00000000e+00, 0.00000000e+00, 0.00000000e+00, 0.00000000e+00,\n",
       "       9.57711049e-14, 1.29696215e-08, 2.44490239e-05, 2.93810970e-03,\n",
       "       5.75711590e-02, 3.45548679e-01, 9.94591788e-01, 1.88051403e+00,\n",
       "       2.84417350e+00, 3.82245226e+00, 4.80249225e+00, 5.78268096e+00,\n",
       "       6.76287913e+00, 7.74307778e+00, 8.72327646e+00])"
      ]
     },
     "metadata": {},
     "execution_count": 5
    }
   ],
   "source": [
    "opt.put()"
   ]
  },
  {
   "cell_type": "code",
   "execution_count": 6,
   "metadata": {},
   "outputs": [
    {
     "output_type": "execute_result",
     "data": {
      "text/plain": [
       "{'delta': array([9.90049834e-01, 9.90049834e-01, 9.90049834e-01, 9.90049834e-01,\n",
       "        9.90049834e-01, 9.90049762e-01, 9.89949907e-01, 9.81512987e-01,\n",
       "        8.76816671e-01, 5.54049423e-01, 2.08858819e-01, 4.66733348e-02,\n",
       "        6.62064049e-03, 6.46420464e-04, 4.67300222e-05, 2.65774426e-06,\n",
       "        1.24925809e-07, 5.04930804e-09, 1.81184235e-10]),\n",
       " 'theta': array([ 7.94010099e-02,  5.97970364e-02,  4.01930630e-02,  2.05890895e-02,\n",
       "         9.85116042e-04, -1.86190456e-02, -3.84099625e-02, -6.85033069e-02,\n",
       "        -1.60667387e-01, -2.41800835e-01, -1.61676228e-01, -5.30028217e-02,\n",
       "        -9.88502054e-03, -1.18700869e-03, -1.01033825e-04, -6.56448967e-06,\n",
       "        -3.44855715e-07, -1.53231752e-08, -5.96783252e-10]),\n",
       " 'vega': array([9.17121043e-117, 1.97599149e-057, 2.14177441e-032, 5.79874760e-019,\n",
       "        5.09602649e-011, 3.91387443e-006, 3.95226424e-003, 2.31778990e-001,\n",
       "        1.91422698e+000, 3.90554196e+000, 2.86096881e+000, 9.74161081e-001,\n",
       "        1.85294763e-001, 2.25150031e-002, 1.93141290e-003, 1.26184104e-004,\n",
       "        6.65609152e-006, 2.96688932e-007, 1.15839749e-008]),\n",
       " 'rho': array([9.80198673e-01, 1.96039735e+00, 2.94059602e+00, 3.92079469e+00,\n",
       "        4.90099337e+00, 5.88119131e+00, 6.86036700e+00, 7.75328281e+00,\n",
       "        7.63188528e+00, 5.09643395e+00, 1.97568347e+00, 4.48105057e-01,\n",
       "        6.41173215e-02, 6.29502911e-03, 4.56809125e-04, 2.60529439e-05,\n",
       "        1.22718598e-06, 4.96829723e-08, 1.78514661e-09]),\n",
       " 'lambda': array([ 1.10988405,  1.24689829,  1.42250536,  1.65568378,  1.98029573,\n",
       "         2.46323541,  3.25734415,  4.76035786,  7.71654489, 12.47689658,\n",
       "        18.49867928, 25.0550813 , 31.69160481, 38.2100435 , 44.54254973,\n",
       "        50.67208175, 56.59894414, 62.32881236, 67.87009356]),\n",
       " 'gamma': array([9.17121043e-118, 1.97599149e-058, 2.14177441e-033, 5.79874760e-020,\n",
       "        5.09602649e-012, 3.91387443e-007, 3.95226424e-004, 2.31778990e-002,\n",
       "        1.91422698e-001, 3.90554196e-001, 2.86096881e-001, 9.74161081e-002,\n",
       "        1.85294763e-002, 2.25150031e-003, 1.93141290e-004, 1.26184104e-005,\n",
       "        6.65609152e-007, 2.96688932e-008, 1.15839749e-009]),\n",
       " 'CofC': array([9.90049834e+00, 9.90049834e+00, 9.90049834e+00, 9.90049834e+00,\n",
       "        9.90049834e+00, 9.90049762e+00, 9.89949907e+00, 9.81512987e+00,\n",
       "        8.76816671e+00, 5.54049423e+00, 2.08858819e+00, 4.66733348e-01,\n",
       "        6.62064049e-02, 6.46420464e-03, 4.67300222e-04, 2.65774426e-05,\n",
       "        1.24925809e-06, 5.04930804e-08, 1.81184235e-09])}"
      ]
     },
     "metadata": {},
     "execution_count": 6
    }
   ],
   "source": [
    "opt.greeks()"
   ]
  },
  {
   "source": [
    "Summary method shortens the array representations of the parameters passed and the results returned to make it neater"
   ],
   "cell_type": "markdown",
   "metadata": {}
  },
  {
   "cell_type": "code",
   "execution_count": 7,
   "metadata": {},
   "outputs": [
    {
     "output_type": "stream",
     "name": "stdout",
     "text": [
      "Title: Black Scholes Option Valuation\n\nParameters:\n\n  S = 10.0\n  K = [ 1  2  3 ... 17 18 19]\n  t = 1.0\n  r = 0.02\n  b = 0.01\n  sigma = 0.1\n\nOption Price:\n\n  call: [8.92 7.94 6.96 ... 0.   0.   0.  ]\n  put: [0.   0.   0.   ... 6.76 7.74 8.72]\n"
     ]
    }
   ],
   "source": [
    "opt.summary()"
   ]
  },
  {
   "source": [
    "## Trying Larger Arrays"
   ],
   "cell_type": "markdown",
   "metadata": {}
  },
  {
   "cell_type": "code",
   "execution_count": 8,
   "metadata": {},
   "outputs": [],
   "source": [
    "S = np.arange(8,12, 0.01)"
   ]
  },
  {
   "cell_type": "code",
   "execution_count": 9,
   "metadata": {},
   "outputs": [
    {
     "output_type": "execute_result",
     "data": {
      "text/plain": [
       "(400,)"
      ]
     },
     "metadata": {},
     "execution_count": 9
    }
   ],
   "source": [
    "S.shape"
   ]
  },
  {
   "cell_type": "code",
   "execution_count": 10,
   "metadata": {},
   "outputs": [],
   "source": [
    "K = S - 2"
   ]
  },
  {
   "cell_type": "code",
   "execution_count": 11,
   "metadata": {},
   "outputs": [],
   "source": [
    "mopt = ed.GBSOption(S, K, 1.0, 0.02, 0.01, 0.1)"
   ]
  },
  {
   "cell_type": "code",
   "execution_count": 12,
   "metadata": {},
   "outputs": [
    {
     "output_type": "stream",
     "name": "stdout",
     "text": [
      "100 µs ± 1.41 µs per loop (mean ± std. dev. of 7 runs, 10000 loops each)\n"
     ]
    }
   ],
   "source": [
    "%%timeit\n",
    "c = mopt.call()"
   ]
  },
  {
   "cell_type": "code",
   "execution_count": 13,
   "metadata": {},
   "outputs": [
    {
     "output_type": "stream",
     "name": "stdout",
     "text": [
      "103 µs ± 1.18 µs per loop (mean ± std. dev. of 7 runs, 10000 loops each)\n"
     ]
    }
   ],
   "source": [
    "%%timeit\n",
    "p = mopt.put()"
   ]
  },
  {
   "cell_type": "code",
   "execution_count": 14,
   "metadata": {},
   "outputs": [
    {
     "output_type": "stream",
     "name": "stdout",
     "text": [
      "566 µs ± 5.09 µs per loop (mean ± std. dev. of 7 runs, 1000 loops each)\n"
     ]
    }
   ],
   "source": [
    "%%timeit\n",
    "mopt.greeks()"
   ]
  },
  {
   "cell_type": "code",
   "execution_count": 15,
   "metadata": {},
   "outputs": [
    {
     "output_type": "stream",
     "name": "stdout",
     "text": [
      "Title: Black Scholes Option Valuation\n\nParameters:\n\n  S = [ 8.    8.01  8.02 ... 11.97 11.98 11.99]\n  K = [6.   6.01 6.02 ... 9.97 9.98 9.99]\n  t = 1.0\n  r = 0.02\n  b = 0.01\n  sigma = 0.1\n\nOption Price:\n\n  call: [2.04 2.04 2.04 ... 2.09 2.09 2.09]\n  put: [0.   0.   0.   ... 0.01 0.01 0.01]\n"
     ]
    }
   ],
   "source": [
    "mopt.summary()"
   ]
  },
  {
   "cell_type": "code",
   "execution_count": 16,
   "metadata": {},
   "outputs": [
    {
     "output_type": "execute_result",
     "data": {
      "text/plain": [
       "GBSOption([ 8.    8.01  8.02 ... 11.97 11.98 11.99], [6.   6.01 6.02 ... 9.97 9.98 9.99], 1.0, 0.02, 0.01, 0.1)"
      ]
     },
     "metadata": {},
     "execution_count": 16
    }
   ],
   "source": [
    "mopt"
   ]
  },
  {
   "source": [
    "## Calculating Multiple Implied Volatilities"
   ],
   "cell_type": "markdown",
   "metadata": {}
  },
  {
   "cell_type": "code",
   "execution_count": 17,
   "metadata": {},
   "outputs": [],
   "source": [
    "K = np.array([8., 10., 12.])"
   ]
  },
  {
   "cell_type": "code",
   "execution_count": 18,
   "metadata": {},
   "outputs": [],
   "source": [
    "vopt = ed.GBSOption(10, K, 1.0, 0.02, 0.01)"
   ]
  },
  {
   "cell_type": "code",
   "execution_count": 19,
   "metadata": {},
   "outputs": [
    {
     "output_type": "execute_result",
     "data": {
      "text/plain": [
       "GBSOption(10, [ 8. 10. 12.], 1.0, 0.02, 0.01, None)"
      ]
     },
     "metadata": {},
     "execution_count": 19
    }
   ],
   "source": [
    "vopt"
   ]
  },
  {
   "cell_type": "code",
   "execution_count": 23,
   "metadata": {},
   "outputs": [
    {
     "output_type": "execute_result",
     "data": {
      "text/plain": [
       "array([0.51214236, 1.35697833, 2.20964812])"
      ]
     },
     "metadata": {},
     "execution_count": 23
    }
   ],
   "source": [
    "vopt.volatility(K-5)"
   ]
  },
  {
   "cell_type": "code",
   "execution_count": 24,
   "metadata": {},
   "outputs": [
    {
     "output_type": "execute_result",
     "data": {
      "text/plain": [
       "    fjac: array([[-0.99953047, -0.00523672, -0.03018952],\n",
       "       [ 0.00423906, -0.99944583,  0.03301624],\n",
       "       [ 0.03034569, -0.03287276, -0.99899876]])\n",
       "     fun: array([-1.04183329e-12, -4.09157153e-11,  2.86144441e-11])\n",
       " message: 'The solution converged.'\n",
       "    nfev: 12\n",
       "     qtf: array([-7.70720844e-11, -2.98839055e-09,  2.09731044e-09])\n",
       "       r: array([3.03234615, 0.01059116, 0.06360097, 3.31307415, 0.1595214 ,\n",
       "       2.20234292])\n",
       "  status: 1\n",
       " success: True\n",
       "       x: array([0.51214236, 1.35697833, 2.20964812])"
      ]
     },
     "metadata": {},
     "execution_count": 24
    }
   ],
   "source": [
    "vopt.volatility(K-5, verbose=True)"
   ]
  },
  {
   "cell_type": "code",
   "execution_count": 22,
   "metadata": {},
   "outputs": [
    {
     "output_type": "execute_result",
     "data": {
      "text/plain": [
       "1.4928080038933746"
      ]
     },
     "metadata": {},
     "execution_count": 22
    }
   ],
   "source": [
    "ed.GBSOption(10., 12., 1.0, 0.02, 0.01).volatility(5)"
   ]
  },
  {
   "cell_type": "code",
   "execution_count": null,
   "metadata": {},
   "outputs": [],
   "source": []
  }
 ]
}