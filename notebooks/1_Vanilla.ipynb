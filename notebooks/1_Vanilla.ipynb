{
 "cells": [
  {
   "cell_type": "markdown",
   "source": [
    "# Vanilla Options"
   ],
   "metadata": {}
  },
  {
   "cell_type": "code",
   "execution_count": 1,
   "source": [
    "%load_ext autoreload\n",
    "%autoreload 2\n",
    "import energyderivatives as ed\n",
    "import numpy as np"
   ],
   "outputs": [],
   "metadata": {}
  },
  {
   "cell_type": "code",
   "execution_count": 2,
   "source": [
    "opt = ed.GBSOption(10.0, 8.0, 1.0, 0.02, 0.01, 0.1)"
   ],
   "outputs": [],
   "metadata": {}
  },
  {
   "cell_type": "code",
   "execution_count": 3,
   "source": [
    "opt.call()"
   ],
   "outputs": [
    {
     "output_type": "execute_result",
     "data": {
      "text/plain": [
       "2.0618470607330366"
      ]
     },
     "metadata": {},
     "execution_count": 3
    }
   ],
   "metadata": {}
  },
  {
   "cell_type": "code",
   "execution_count": 4,
   "source": [
    "opt.put()"
   ],
   "outputs": [
    {
     "output_type": "execute_result",
     "data": {
      "text/plain": [
       "0.0029381096953960684"
      ]
     },
     "metadata": {},
     "execution_count": 4
    }
   ],
   "metadata": {}
  },
  {
   "cell_type": "code",
   "execution_count": 5,
   "source": [
    "opt"
   ],
   "outputs": [
    {
     "output_type": "execute_result",
     "data": {
      "text/plain": [
       "GBSOption(10.0, 8.0, 1.0, 0.02, 0.01, 0.1)"
      ]
     },
     "metadata": {},
     "execution_count": 5
    }
   ],
   "metadata": {}
  },
  {
   "cell_type": "code",
   "execution_count": 6,
   "source": [
    "?opt.summary"
   ],
   "outputs": [
    {
     "output_type": "stream",
     "name": "stdout",
     "text": [
      "\u001b[0;31mSignature:\u001b[0m \u001b[0mopt\u001b[0m\u001b[0;34m.\u001b[0m\u001b[0msummary\u001b[0m\u001b[0;34m(\u001b[0m\u001b[0mprinter\u001b[0m\u001b[0;34m=\u001b[0m\u001b[0;32mTrue\u001b[0m\u001b[0;34m)\u001b[0m\u001b[0;34m\u001b[0m\u001b[0;34m\u001b[0m\u001b[0m\n",
      "\u001b[0;31mDocstring:\u001b[0m\n",
      "Print summary report of option\n",
      "\n",
      "Parameters\n",
      "----------\n",
      "printer : bool\n",
      "    True to print summary. False to return a string.\n",
      "\u001b[0;31mFile:\u001b[0m      ~/PROJECTS/energyderivatives-dev/src/energyderivatives/base.py\n",
      "\u001b[0;31mType:\u001b[0m      method\n"
     ]
    }
   ],
   "metadata": {}
  },
  {
   "cell_type": "code",
   "execution_count": 7,
   "source": [
    "opt.summary()"
   ],
   "outputs": [
    {
     "output_type": "stream",
     "name": "stdout",
     "text": [
      "Title: Black Scholes Option Valuation\n",
      "\n",
      "Parameters:\n",
      "\n",
      "  S = 10.0\n",
      "  K = 8.0\n",
      "  t = 1.0\n",
      "  r = 0.02\n",
      "  b = 0.01\n",
      "  sigma = 0.1\n",
      "\n",
      "Option Price:\n",
      "\n",
      "  call: 2.061847\n",
      "  put: 0.002938\n"
     ]
    }
   ],
   "metadata": {}
  },
  {
   "cell_type": "code",
   "execution_count": 8,
   "source": [
    "print(opt)"
   ],
   "outputs": [
    {
     "output_type": "stream",
     "name": "stdout",
     "text": [
      "Title: Black Scholes Option Valuation\n",
      "\n",
      "Parameters:\n",
      "\n",
      "  S = 10.0\n",
      "  K = 8.0\n",
      "  t = 1.0\n",
      "  r = 0.02\n",
      "  b = 0.01\n",
      "  sigma = 0.1\n",
      "\n",
      "Option Price:\n",
      "\n",
      "  call: 2.061847\n",
      "  put: 0.002938\n"
     ]
    }
   ],
   "metadata": {}
  },
  {
   "cell_type": "code",
   "execution_count": 9,
   "source": [
    "opt"
   ],
   "outputs": [
    {
     "output_type": "execute_result",
     "data": {
      "text/plain": [
       "GBSOption(10.0, 8.0, 1.0, 0.02, 0.01, 0.1)"
      ]
     },
     "metadata": {},
     "execution_count": 9
    }
   ],
   "metadata": {}
  },
  {
   "cell_type": "code",
   "execution_count": 10,
   "source": [
    "opt.greeks()"
   ],
   "outputs": [
    {
     "output_type": "execute_result",
     "data": {
      "text/plain": [
       "{'delta': 0.9815124211864126,\n",
       " 'theta': -0.0685037890809144,\n",
       " 'vega': 0.23179026243100784,\n",
       " 'rho': -2.0618470607328883,\n",
       " 'lambda': 4.760355119828631,\n",
       " 'gamma': 0.0231796023893258,\n",
       " 'c_of_c': 9.815129867062497}"
      ]
     },
     "metadata": {},
     "execution_count": 10
    }
   ],
   "metadata": {}
  },
  {
   "cell_type": "code",
   "execution_count": 11,
   "source": [
    "opt.greeks(call=False)"
   ],
   "outputs": [
    {
     "output_type": "display_data",
     "data": {
      "text/plain": [
       "{'delta': -0.008536847042918466,\n",
       " 'theta': -0.010676502588218456,\n",
       " 'vega': 0.23177898972836455,\n",
       " 'rho': -0.08830658012458127,\n",
       " 'lambda': -29.055576298922585,\n",
       " 'gamma': 0.023177898972836456,\n",
       " 'CofC': -0.0853684704291852}"
      ]
     },
     "metadata": {}
    }
   ],
   "metadata": {}
  },
  {
   "cell_type": "code",
   "execution_count": 12,
   "source": [
    "opt.get_params()"
   ],
   "outputs": [
    {
     "output_type": "display_data",
     "data": {
      "text/plain": [
       "{'S': 10.0, 'K': 8.0, 't': 1.0, 'r': 0.02, 'b': 0.01, 'sigma': 0.1}"
      ]
     },
     "metadata": {}
    }
   ],
   "metadata": {}
  },
  {
   "cell_type": "code",
   "execution_count": 13,
   "source": [
    "vol = ed.GBSOption(10.0, 8.0, 1.0, 0.02, 0.0, sigma=None)\n",
    "print(vol.volatility(3))"
   ],
   "outputs": [
    {
     "output_type": "stream",
     "name": "stdout",
     "text": [
      "0.5363510394818946\n"
     ]
    }
   ],
   "metadata": {}
  },
  {
   "cell_type": "code",
   "execution_count": 14,
   "source": [
    "ed.GBSOption(10.0, 8.0, 1.0, 0.02, 0.0, 0.5363510394818954).call()"
   ],
   "outputs": [
    {
     "output_type": "display_data",
     "data": {
      "text/plain": [
       "3.0000000000000044"
      ]
     },
     "metadata": {}
    }
   ],
   "metadata": {}
  },
  {
   "cell_type": "markdown",
   "source": [
    "### Black 1977 Option"
   ],
   "metadata": {}
  },
  {
   "cell_type": "code",
   "execution_count": 15,
   "source": [
    "bopt = ed.Black76Option(10.0, 8.0, 1.0, 0.02, 0.1)"
   ],
   "outputs": [],
   "metadata": {}
  },
  {
   "cell_type": "code",
   "execution_count": 16,
   "source": [
    "bopt"
   ],
   "outputs": [
    {
     "output_type": "display_data",
     "data": {
      "text/plain": [
       "Black76Option(10.0, 8.0, 1.0, 0.02, 0, 0.1)"
      ]
     },
     "metadata": {}
    }
   ],
   "metadata": {}
  },
  {
   "cell_type": "code",
   "execution_count": 17,
   "source": [
    "print(bopt)"
   ],
   "outputs": [
    {
     "output_type": "stream",
     "name": "stdout",
     "text": [
      "Title: Black 1977 Option Valuation\n",
      "\n",
      "Parameters:\n",
      "\n",
      "  FT = 10.0\n",
      "  K = 8.0\n",
      "  t = 1.0\n",
      "  r = 0.02\n",
      "  b = 0\n",
      "  sigma = 0.1\n",
      "\n",
      "Option Price:\n",
      "\n",
      "  call: 1.96431\n",
      "  put: 0.003912\n"
     ]
    }
   ],
   "metadata": {}
  },
  {
   "cell_type": "code",
   "execution_count": 18,
   "source": [
    "bopt.get_params()"
   ],
   "outputs": [
    {
     "output_type": "display_data",
     "data": {
      "text/plain": [
       "{'FT': 10.0, 'K': 8.0, 't': 1.0, 'r': 0.02, 'b': 0, 'sigma': 0.1}"
      ]
     },
     "metadata": {}
    }
   ],
   "metadata": {}
  },
  {
   "cell_type": "code",
   "execution_count": 19,
   "source": [
    "bopt.volatility(5)"
   ],
   "outputs": [
    {
     "output_type": "stream",
     "name": "stderr",
     "text": [
      "/home/bcho/PROJECTS/energyderivatives-dev/src/energyderivatives/base.py:506: UserWarning: sigma is not None but calculating implied volatility.\n",
      "  _warnings.warn(\"sigma is not None but calculating implied volatility.\")\n"
     ]
    },
    {
     "output_type": "display_data",
     "data": {
      "text/plain": [
       "1.1917617259924722"
      ]
     },
     "metadata": {}
    }
   ],
   "metadata": {}
  },
  {
   "cell_type": "code",
   "execution_count": 20,
   "source": [
    "bopt.get_params()"
   ],
   "outputs": [
    {
     "output_type": "display_data",
     "data": {
      "text/plain": [
       "{'FT': 10.0, 'K': 8.0, 't': 1.0, 'r': 0.02, 'b': 0, 'sigma': 0.1}"
      ]
     },
     "metadata": {}
    }
   ],
   "metadata": {}
  },
  {
   "cell_type": "code",
   "execution_count": 21,
   "source": [
    "mopt = ed.MiltersenSchwartzOption(\n",
    "        Pt=np.exp(-0.05 / 4),\n",
    "        FT=95,\n",
    "        K=80,\n",
    "        t=1 / 4,\n",
    "        T=1 / 2,\n",
    "        sigmaS=0.2660,\n",
    "        sigmaE=0.2490,\n",
    "        sigmaF=0.0096,\n",
    "        rhoSE=0.805,\n",
    "        rhoSF=0.0805,\n",
    "        rhoEF=0.1243,\n",
    "        KappaE=1.045,\n",
    "        KappaF=0.200,\n",
    "    )"
   ],
   "outputs": [],
   "metadata": {}
  },
  {
   "cell_type": "code",
   "execution_count": 22,
   "source": [
    "mopt.call()"
   ],
   "outputs": [
    {
     "output_type": "display_data",
     "data": {
      "text/plain": [
       "15.004682511978606"
      ]
     },
     "metadata": {}
    }
   ],
   "metadata": {}
  },
  {
   "cell_type": "code",
   "execution_count": 23,
   "source": [
    "mopt.get_params()"
   ],
   "outputs": [
    {
     "output_type": "display_data",
     "data": {
      "text/plain": [
       "{'Pt': 0.9875778004938814,\n",
       " 'FT': 95,\n",
       " 'K': 80,\n",
       " 't': 0.25,\n",
       " 'T': 0.5,\n",
       " 'sigmaS': 0.266,\n",
       " 'sigmaE': 0.249,\n",
       " 'sigmaF': 0.0096,\n",
       " 'rhoSE': 0.805,\n",
       " 'rhoSF': 0.0805,\n",
       " 'rhoEF': 0.1243,\n",
       " 'KappaE': 1.045,\n",
       " 'KappaF': 0.2}"
      ]
     },
     "metadata": {}
    }
   ],
   "metadata": {}
  },
  {
   "cell_type": "code",
   "execution_count": 24,
   "source": [
    "mopt.summary()"
   ],
   "outputs": [
    {
     "output_type": "stream",
     "name": "stdout",
     "text": [
      "Title: Miltersen Schwartz Option Valuation\n",
      "\n",
      "Parameters:\n",
      "\n",
      "  Pt = 0.9875778004938814\n",
      "  FT = 95\n",
      "  K = 80\n",
      "  t = 0.25\n",
      "  T = 0.5\n",
      "  sigmaS = 0.266\n",
      "  sigmaE = 0.249\n",
      "  sigmaF = 0.0096\n",
      "  rhoSE = 0.805\n",
      "  rhoSF = 0.0805\n",
      "  rhoEF = 0.1243\n",
      "  KappaE = 1.045\n",
      "  KappaF = 0.2\n",
      "\n",
      "Option Price:\n",
      "\n",
      "  call: 15.004683\n",
      "  put: 0.191426\n"
     ]
    }
   ],
   "metadata": {}
  },
  {
   "cell_type": "code",
   "execution_count": 25,
   "source": [
    "mopt"
   ],
   "outputs": [
    {
     "output_type": "display_data",
     "data": {
      "text/plain": [
       "MiltersenSchwartzOption(0.9875778004938814, 95, 80, 0.25, 0.5, 0.266, 0.249, 0.0096, 0.805, 0.0805, 0.1243, 1.045, 0.2)"
      ]
     },
     "metadata": {}
    }
   ],
   "metadata": {}
  },
  {
   "cell_type": "code",
   "execution_count": 26,
   "source": [
    "print(mopt)"
   ],
   "outputs": [
    {
     "output_type": "stream",
     "name": "stdout",
     "text": [
      "Title: Miltersen Schwartz Option Valuation\n",
      "\n",
      "Parameters:\n",
      "\n",
      "  Pt = 0.9875778004938814\n",
      "  FT = 95\n",
      "  K = 80\n",
      "  t = 0.25\n",
      "  T = 0.5\n",
      "  sigmaS = 0.266\n",
      "  sigmaE = 0.249\n",
      "  sigmaF = 0.0096\n",
      "  rhoSE = 0.805\n",
      "  rhoSF = 0.0805\n",
      "  rhoEF = 0.1243\n",
      "  KappaE = 1.045\n",
      "  KappaF = 0.2\n",
      "\n",
      "Option Price:\n",
      "\n",
      "  call: 15.004683\n",
      "  put: 0.191426\n"
     ]
    }
   ],
   "metadata": {}
  },
  {
   "cell_type": "code",
   "execution_count": 27,
   "source": [
    "mopt.delta()"
   ],
   "outputs": [
    {
     "output_type": "display_data",
     "data": {
      "text/plain": [
       "0.9427019114803328"
      ]
     },
     "metadata": {}
    }
   ],
   "metadata": {}
  },
  {
   "cell_type": "code",
   "execution_count": 28,
   "source": [
    "mopt.vega()"
   ],
   "outputs": [
    {
     "output_type": "display_data",
     "data": {
      "text/plain": [
       "array([ 4.36537183, -0.89387399,  0.06553819])"
      ]
     },
     "metadata": {}
    }
   ],
   "metadata": {}
  },
  {
   "cell_type": "code",
   "execution_count": 29,
   "source": [
    "mopt.greeks()"
   ],
   "outputs": [
    {
     "output_type": "display_data",
     "data": {
      "text/plain": [
       "{'delta': 0.9427019114803328,\n",
       " 'theta': -2.1486160364725966,\n",
       " 'vega': array([ 4.36537183, -0.89387399,  0.06553819]),\n",
       " 'lambda': 5.968582242185819,\n",
       " 'gamma': 0.009467073284510696,\n",
       " 'CofC': None}"
      ]
     },
     "metadata": {}
    }
   ],
   "metadata": {}
  }
 ],
 "metadata": {
  "orig_nbformat": 4,
  "language_info": {
   "name": "python",
   "version": "3.9.5",
   "mimetype": "text/x-python",
   "codemirror_mode": {
    "name": "ipython",
    "version": 3
   },
   "pygments_lexer": "ipython3",
   "nbconvert_exporter": "python",
   "file_extension": ".py"
  },
  "kernelspec": {
   "name": "python3",
   "display_name": "Python 3.9.5 64-bit ('main': conda)"
  },
  "interpreter": {
   "hash": "1f23843d0517fbd80931cf63cde1ba60ddd02d261472889f538e5c68e74c8896"
  }
 },
 "nbformat": 4,
 "nbformat_minor": 2
}